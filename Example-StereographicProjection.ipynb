{
 "cells": [
  {
   "cell_type": "code",
   "execution_count": 1,
   "metadata": {},
   "outputs": [
    {
     "data": {
      "text/plain": [
       "render (generic function with 1 method)"
      ]
     },
     "execution_count": 1,
     "metadata": {},
     "output_type": "execute_result"
    }
   ],
   "source": [
    "include(\"JuliRay.jl\")"
   ]
  },
  {
   "cell_type": "code",
   "execution_count": 2,
   "metadata": {},
   "outputs": [
    {
     "data": {
      "text/plain": [
       "Plane2Sphere (generic function with 2 methods)"
      ]
     },
     "execution_count": 2,
     "metadata": {},
     "output_type": "execute_result"
    }
   ],
   "source": [
    "Base.@irrational ° 0.0174532925199432957692369076848861271344 (big(pi)/big(180))\n",
    "\n",
    "function Plane2Sphere(p::Array{T,1}) where T<:Real\n",
    "    if(length(p)≠2)\n",
    "        error(\"No Point on ℝ²\")\n",
    "    end\n",
    "    return [2p[1]/(1+p[1]^2+p[2]^2),2p[2]/(1+p[1]^2+p[2]^2),(-1+p[1]^2+p[2]^2)/(1+p[1]^2+p[2]^2)]\n",
    "end\n",
    "\n",
    "function Plane2Sphere(θ::Real,p::Array{T,1}) where T<:Real\n",
    "    if(length(p)≠2)\n",
    "        error(\"No Point on ℝ²\")\n",
    "    end\n",
    "    c=[0,0,tan(θ)]\n",
    "    r=1/cos(θ)\n",
    "    P=p*cot(θ/2+π/4)\n",
    "    return Plane2Sphere(P)*r+c\n",
    "end"
   ]
  },
  {
   "cell_type": "code",
   "execution_count": 3,
   "metadata": {},
   "outputs": [
    {
     "data": {
      "text/plain": [
       "AffineTransform(Torus(1.0, 0.01), [0.0 0.0 1.0; 1.0 0.0 0.0; 0.0 1.0 0.0], [0.0, 0.0, 0.0])"
      ]
     },
     "execution_count": 3,
     "metadata": {},
     "output_type": "execute_result"
    }
   ],
   "source": [
    "n=50\n",
    "lines=Object[]\n",
    "for i in -n:n\n",
    "    push!(lines,Cylinder([i,n,0],[i,-n,0],0.01))\n",
    "end\n",
    "lA=rgbColor(csgUnion(lines),RGB(1,0.5,0.5))\n",
    "lines=Object[]\n",
    "for i in -n:n\n",
    "    push!(lines,Cylinder([n,i,0],[-n,i,0],0.01))\n",
    "end\n",
    "lB=rgbColor(csgUnion(lines),RGB(0.5,0.5,1))\n",
    "s(θ)=rgbftColor(Sphere([0,0,tan(θ)],norm([1,tan(θ)])),RGB(0.8,0.8,0.8),FT(0.2,0.2))\n",
    "t=Torus([0,0,0.0],[0,0,1.0],1.0,0.01)"
   ]
  },
  {
   "cell_type": "code",
   "execution_count": 15,
   "metadata": {},
   "outputs": [
    {
     "name": "stderr",
     "output_type": "stream",
     "text": [
      "povray: cannot open the user configuration file /home/hyrodium/.povray/3.7/povray.conf: No such file or directory\n",
      "Persistence of Vision(tm) Ray Tracer Version 3.7.0.8.unofficial (g++ 8.2.1 @\n",
      " x86_64-pc-linux-gnu)\n",
      "This is an unofficial version compiled by:\n",
      " Arch Linux\n",
      " The POV-Ray Team is not responsible for supporting this version.\n",
      "\n",
      "POV-Ray is based on DKBTrace 2.12 by David K. Buck & Aaron A. Collins\n",
      "Copyright 1991-2013 Persistence of Vision Raytracer Pty. Ltd.\n",
      "\n",
      "Primary POV-Ray 3.7 Architects/Developers: (Alphabetically)\n",
      "  Chris Cason         Thorsten Froehlich  Christoph Lipka   \n",
      "\n",
      "With Assistance From: (Alphabetically)\n",
      "  Nicolas Calimet     Jerome Grimbert     James Holsenback    Christoph Hormann \n",
      "  Nathan Kopp         Juha Nieminen     \n",
      "\n",
      "Past Contributors: (Alphabetically)\n",
      "  Steve Anger         Eric Barish         Dieter Bayer        David K. Buck     \n",
      "  Nicolas Calimet     Chris Cason         Aaron A. Collins    Chris Dailey      \n",
      "  Steve Demlow        Andreas Dilger      Alexander Enzmann   Dan Farmer        \n",
      "  Thorsten Froehlich  Mark Gordon         James Holsenback    Christoph Hormann \n",
      "  Mike Hough          Chris Huff          Kari Kivisalo       Nathan Kopp       \n",
      "  Lutz Kretzschmar    Christoph Lipka     Jochen Lippert      Pascal Massimino  \n",
      "  Jim McElhiney       Douglas Muir        Juha Nieminen       Ron Parker        \n",
      "  Bill Pulver         Eduard Schwan       Wlodzimierz Skiba   Robert Skinner    \n",
      "  Yvo Smellenbergh    Zsolt Szalavari     Scott Taylor        Massimo Valentini \n",
      "  Timothy Wegner      Drew Wells          Chris Young       \n",
      "\n",
      "Other contributors are listed in the documentation.\n",
      "\n",
      "Support libraries used by POV-Ray:\n",
      "  ZLib 1.2.11, Copyright 1995-2012 Jean-loup Gailly and Mark Adler\n",
      "  LibPNG 1.6.37, Copyright 1998-2012 Glenn Randers-Pehrson\n",
      "  LibJPEG 80, Copyright 1991-2013 Thomas G. Lane, Guido Vollbeding\n",
      "  LibTIFF 4.0.10, Copyright 1988-1997 Sam Leffler, 1991-1997 SGI\n",
      "  Boost 1.69, http://www.boost.org/\n",
      "  OpenEXR 2.3.0 and IlmBase 2.3.0, Copyright (c) 2002-2011 Industrial Light &\n",
      " Magic.\n",
      "\n",
      "Parser Options\n",
      "  Input file: RiemannSphere.pov\n",
      "  Remove bounds........On \n",
      "  Split unions.........Off\n",
      "  Library paths:\n",
      "  Clock value:    0.000  (Animation off)\n",
      "Image Output Options\n",
      "  Image resolution.....1600 by 900 (rows 1 to 900, columns 1 to 1600).\n",
      "  Output file..........RiemannSphere.png, 24 bpp PNG\n",
      "  Dithering............Off\n",
      "  Graphic display......Off\n",
      "  Mosaic preview.......Off\n",
      "  Continued trace......Off\n",
      "Information Output Options\n",
      "  All Streams to console..........On \n",
      "  Debug Stream to console.........On \n",
      "  Fatal Stream to console.........On \n",
      "  Render Stream to console........On \n",
      "  Statistics Stream to console....On \n",
      "  Warning Stream to console.......On \n",
      "==== [Parsing...] ==========================================================\n",
      "----------------------------------------------------------------------------\n",
      "Parser Statistics\n",
      "----------------------------------------------------------------------------\n",
      "Finite Objects:          406\n",
      "Infinite Objects:          0\n",
      "Light Sources:             1\n",
      "Total:                   407\n",
      "----------------------------------------------------------------------------\n",
      "Parser Time\n",
      "  Parse Time:       0 hours  0 minutes  0 seconds (0.005 seconds)\n",
      "              using 1 thread(s) with 0.005 CPU-seconds total\n",
      "  Bounding Time:    0 hours  0 minutes  0 seconds (0.000 seconds)\n",
      "              using 1 thread(s) with 0.000 CPU-seconds total\n",
      "----------------------------------------------------------------------------\n",
      "Render Options\n",
      "  Quality:  9\n",
      "  Bounding boxes.......On   Bounding threshold: 3\n",
      "  Antialiasing.........On  (Method 1, Threshold 0.300, Depth 3, Jitter 1.00,\n",
      " Gamma 2.50)\n",
      "==== [Rendering...] ========================================================\n",
      "Rendered 1440000 of 1440000 pixels (100%)\n",
      "----------------------------------------------------------------------------\n",
      "Render Statistics\n",
      "Image Resolution 1600 x 900\n",
      "----------------------------------------------------------------------------\n",
      "Pixels:          1531400   Samples:         1067589   Smpls/Pxl: 0.70\n",
      "Rays:            3267380   Saved:                 0   Max Level: 1/5\n",
      "----------------------------------------------------------------------------\n",
      "Ray->Shape Intersection          Tests       Succeeded  Percentage\n",
      "----------------------------------------------------------------------------\n",
      "Cone/Cylinder                  1332378          538414     40.41\n",
      "Sphere                         3220884         1913239     59.40\n",
      "Torus                         11852573         1992250     16.81\n",
      "Torus Bound                   11852573         2779269     23.45\n",
      "Bounding Box                 222106591        65722353     29.59\n",
      "----------------------------------------------------------------------------\n",
      "Roots tested:               2779269   eliminated:               457870\n",
      "Shadow Ray Tests:           1963566   Succeeded:                408400\n",
      "Shadow Cache Hits:              256\n",
      "Transmitted Rays:            668391\n",
      "----------------------------------------------------------------------------\n",
      "----------------------------------------------------------------------------\n",
      "Render Time:\n",
      "  Photon Time:      No photons\n",
      "  Radiosity Time:   No radiosity\n",
      "  Trace Time:       0 hours  0 minutes  0 seconds (0.537 seconds)\n",
      "              using 16 thread(s) with 6.958 CPU-seconds total\n",
      "POV-Ray finished\n",
      "\n"
     ]
    },
    {
     "data": {
      "text/plain": [
       "Process(`\u001b[4mpovray\u001b[24m \u001b[4mRiemannSphere.pov\u001b[24m`, ProcessExited(0))"
      ]
     },
     "execution_count": 15,
     "metadata": {},
     "output_type": "execute_result"
    }
   ],
   "source": [
    "θ=-0\n",
    "N=[0,0,tan(θ)+1/cos(θ)]\n",
    "N̂=Sphere(N,0.05)\n",
    "\n",
    "pᵢⱼ=[[i,j] for i ∈ -n:n, j ∈ -1:1]\n",
    "qᵢⱼ=(p->Plane2Sphere(θ,p)).(pᵢⱼ)\n",
    "q̂ⱼA=rgbColor(csgUnion([Torus(qᵢⱼ[i,:]...,0.02) for i ∈ 1:(2n+1)]),RGB(1,0,0))\n",
    "pᵢⱼ=[[i,j] for i ∈ -1:1, j ∈ -n:n]\n",
    "qᵢⱼ=(p->Plane2Sphere(θ,p)).(pᵢⱼ)\n",
    "q̂ⱼB=rgbColor(csgUnion([Torus(qᵢⱼ[:,i]...,0.02) for i ∈ 1:(2n+1)]),RGB(0,0,1))\n",
    "render(csgUnion(s(θ),lA,lB,N̂,q̂ⱼA,q̂ⱼB),camera=LngLatCamera(lng=30°,lat=20°,pers=0.2,zoom=0.25, width=1600, height=900),name=\"RiemannSphere\")"
   ]
  },
  {
   "cell_type": "code",
   "execution_count": null,
   "metadata": {},
   "outputs": [],
   "source": []
  }
 ],
 "metadata": {
  "@webio": {
   "lastCommId": null,
   "lastKernelId": null
  },
  "kernelspec": {
   "display_name": "Julia 1.1.0",
   "language": "julia",
   "name": "julia-1.1"
  },
  "language_info": {
   "file_extension": ".jl",
   "mimetype": "application/julia",
   "name": "julia",
   "version": "1.1.0"
  }
 },
 "nbformat": 4,
 "nbformat_minor": 2
}
