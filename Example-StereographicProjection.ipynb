{
 "cells": [
  {
   "cell_type": "code",
   "execution_count": null,
   "metadata": {},
   "outputs": [],
   "source": [
    "include(\"JuliRay.jl\")"
   ]
  },
  {
   "cell_type": "code",
   "execution_count": null,
   "metadata": {},
   "outputs": [],
   "source": [
    "Base.@irrational ° 0.0174532925199432957692369076848861271344 (big(pi)/big(180))\n",
    "\n",
    "function Plane2Sphere(p::Array{T,1}) where T<:Real\n",
    "    if(length(p)≠2)\n",
    "        error(\"No Point on ℝ²\")\n",
    "    end\n",
    "    return [2p[1]/(1+p[1]^2+p[2]^2),2p[2]/(1+p[1]^2+p[2]^2),(-1+p[1]^2+p[2]^2)/(1+p[1]^2+p[2]^2)]\n",
    "end\n",
    "\n",
    "function Plane2Sphere(θ::Real,p::Array{T,1}) where T<:Real\n",
    "    if(length(p)≠2)\n",
    "        error(\"No Point on ℝ²\")\n",
    "    end\n",
    "    c=[0,0,tan(θ)]\n",
    "    r=1/cos(θ)\n",
    "    P=p*cot(θ/2+π/4)\n",
    "    return Plane2Sphere(P)*r+c\n",
    "end"
   ]
  },
  {
   "cell_type": "code",
   "execution_count": null,
   "metadata": {},
   "outputs": [],
   "source": [
    "n=50\n",
    "lines=Object[]\n",
    "for i in -n:n\n",
    "    push!(lines,Cylinder([i,n,0],[i,-n,0],0.01))\n",
    "end\n",
    "lA=rgbColor(csgUnion(lines),RGB(1,0.5,0.5))\n",
    "lines=Object[]\n",
    "for i in -n:n\n",
    "    push!(lines,Cylinder([n,i,0],[-n,i,0],0.01))\n",
    "end\n",
    "lB=rgbColor(csgUnion(lines),RGB(0.5,0.5,1))\n",
    "s(θ)=rgbftColor(Sphere([0,0,tan(θ)],norm([1,tan(θ)])),RGB(0.8,0.8,0.8),FT(0.2,0.2))\n",
    "t=Torus([0,0,0.0],[0,0,1.0],1.0,0.01)"
   ]
  },
  {
   "cell_type": "code",
   "execution_count": null,
   "metadata": {},
   "outputs": [],
   "source": [
    "for i ∈ 1:101\n",
    "    θ=π/2-π*(i-1)/100\n",
    "    N=[0,0,tan(θ)+1/cos(θ)]\n",
    "    N̂=Sphere(N,0.05)\n",
    "\n",
    "    pᵢⱼ=[[i,j] for i ∈ -n:n, j ∈ -1:1]\n",
    "    qᵢⱼ=(p->Plane2Sphere(θ,p)).(pᵢⱼ)\n",
    "    q̂ⱼA=rgbColor(csgUnion([Torus(qᵢⱼ[i,:]...,0.02) for i ∈ 1:(2n+1)]),RGB(1,0,0))\n",
    "    pᵢⱼ=[[i,j] for i ∈ -1:1, j ∈ -n:n]\n",
    "    qᵢⱼ=(p->Plane2Sphere(θ,p)).(pᵢⱼ)\n",
    "    q̂ⱼB=rgbColor(csgUnion([Torus(qᵢⱼ[:,i]...,0.02) for i ∈ 1:(2n+1)]),RGB(0,0,1))\n",
    "    render(csgUnion(s(θ),lA,lB,N̂,q̂ⱼA,q̂ⱼB),camera=LngLatCamera(lng=30°,lat=20°,pers=0.2,zoom=0.25, width=1600, height=900),name=\"RiemannSphere\",index=i)\n",
    "end"
   ]
  },
  {
   "cell_type": "code",
   "execution_count": null,
   "metadata": {},
   "outputs": [],
   "source": [
    "for i ∈ 1:101\n",
    "    θ=π/2-π*(i-1)/100+0.00001\n",
    "    N=[0,0,tan(θ)+1/cos(θ)]\n",
    "    N̂=Sphere(N,0.05)\n",
    "\n",
    "    pᵢⱼ=[[i,j] for i ∈ -n:n, j ∈ -1:1]\n",
    "    qᵢⱼ=(p->Plane2Sphere(θ,p)).(pᵢⱼ)\n",
    "    q̂ⱼA=rgbColor(csgUnion([Torus(qᵢⱼ[i,:]...,0.02) for i ∈ 1:(2n+1)]),RGB(1,0,0))\n",
    "    pᵢⱼ=[[i,j] for i ∈ -1:1, j ∈ -n:n]\n",
    "    qᵢⱼ=(p->Plane2Sphere(θ,p)).(pᵢⱼ)\n",
    "    q̂ⱼB=rgbColor(csgUnion([Torus(qᵢⱼ[:,i]...,0.02) for i ∈ 1:(2n+1)]),RGB(0,0,1))\n",
    "    render(csgUnion(s(θ),lA,lB,N̂,q̂ⱼA,q̂ⱼB),camera=LngLatCamera(lng=30°,lat=20°,pers=0.2,zoom=0.25, width=1600, height=900),name=\"RiemannSphere\",index=i)\n",
    "end"
   ]
  },
  {
   "cell_type": "code",
   "execution_count": null,
   "metadata": {},
   "outputs": [],
   "source": []
  }
 ],
 "metadata": {
  "@webio": {
   "lastCommId": null,
   "lastKernelId": null
  },
  "kernelspec": {
   "display_name": "Julia 1.1.0",
   "language": "julia",
   "name": "julia-1.1"
  },
  "language_info": {
   "file_extension": ".jl",
   "mimetype": "application/julia",
   "name": "julia",
   "version": "1.1.0"
  }
 },
 "nbformat": 4,
 "nbformat_minor": 2
}
