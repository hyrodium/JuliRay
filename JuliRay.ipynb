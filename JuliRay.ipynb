{
 "cells": [
  {
   "cell_type": "code",
   "execution_count": null,
   "metadata": {},
   "outputs": [],
   "source": [
    "include(\"JuliRay.jl\")"
   ]
  },
  {
   "cell_type": "code",
   "execution_count": null,
   "metadata": {},
   "outputs": [],
   "source": [
    "function printtypetree(T::Type;tab=0)\n",
    "    print(\" \"^tab)\n",
    "    print(T)\n",
    "    print(\"\\n\")\n",
    "    tab=tab+2\n",
    "    for T0 in filter!(e->(e ≠ Any),subtypes(T))\n",
    "        printtypetree(T0,tab=tab)\n",
    "    end\n",
    "end"
   ]
  },
  {
   "cell_type": "code",
   "execution_count": null,
   "metadata": {},
   "outputs": [],
   "source": [
    "printtypetree(JuliRay)"
   ]
  },
  {
   "cell_type": "code",
   "execution_count": null,
   "metadata": {},
   "outputs": [],
   "source": [
    "Empty()==Empty()"
   ]
  },
  {
   "cell_type": "code",
   "execution_count": null,
   "metadata": {},
   "outputs": [],
   "source": [
    "a=Box([1,2,3],[2,3,4])"
   ]
  },
  {
   "cell_type": "code",
   "execution_count": null,
   "metadata": {},
   "outputs": [],
   "source": [
    "a==a"
   ]
  },
  {
   "cell_type": "code",
   "execution_count": null,
   "metadata": {},
   "outputs": [],
   "source": [
    "Box([1,2,3],[2,3,4])==Box([1,2,3],[2,3,4])"
   ]
  },
  {
   "cell_type": "code",
   "execution_count": null,
   "metadata": {},
   "outputs": [],
   "source": [
    "function randonS2()\n",
    "    p=(2*rand(3)).-1\n",
    "    while(norm(p)>1.0)\n",
    "        p=(2*rand(3)).-1\n",
    "    end\n",
    "    return normalize(p)\n",
    "end\n",
    "\n",
    "m=100\n",
    "n=100\n",
    "for j in 0:n\n",
    "    t=j/n\n",
    "#     red=rgbColor(csgDifference(Sphere([0,0,0],1),AffineTransform(Box([-3,-3,-0.1],[3,3,0.1])),rotatematrix()),RGB(1,0,0))\n",
    "    \n",
    "    violet=[]\n",
    "    for i in 1:m\n",
    "        push!(violet,rgbColor(Polygon(randonS2(),randonS2(),randonS2()),RGB(0.5+rand()/8-1/16,rand()/8,0.5+rand()/8-1/16)))\n",
    "    end\n",
    "    violet=csgUnion(violet)\n",
    "    red=csgUnion(violet)\n",
    "\n",
    "    green=[]\n",
    "    for i in 1:m\n",
    "        push!(green,rgbColor(Polygon(randonS2(),randonS2(),randonS2()),RGB(rand()/8,1-rand()/8,rand()/8)))\n",
    "    end\n",
    "    green=csgUnion(green)\n",
    "    \n",
    "    red=AffineTransform(red,[0.6 0 0;0 0.6 0;0 0 0.6],[2,-1,-1]/3)\n",
    "    violet=AffineTransform(violet,[0.6 0 0;0 0.6 0;0 0 0.6],[-1,2,-1]/3)\n",
    "    green=AffineTransform(green,[0.6 0 0;0 0.6 0;0 0 0.6],[-1,-1,2]/3)\n",
    "\n",
    "    render(csgUnion(red,violet,green),index=j+1,camera=LngLatCamera(lng=π/5+j/100,lat=π/6,pers=0.001,zoom=0.3))\n",
    "end"
   ]
  },
  {
   "cell_type": "code",
   "execution_count": null,
   "metadata": {},
   "outputs": [],
   "source": []
  }
 ],
 "metadata": {
  "@webio": {
   "lastCommId": null,
   "lastKernelId": null
  },
  "kernelspec": {
   "display_name": "Julia 1.1.0",
   "language": "julia",
   "name": "julia-1.1"
  },
  "language_info": {
   "file_extension": ".jl",
   "mimetype": "application/julia",
   "name": "julia",
   "version": "1.1.0"
  }
 },
 "nbformat": 4,
 "nbformat_minor": 2
}
