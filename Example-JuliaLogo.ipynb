{
 "cells": [
  {
   "cell_type": "code",
   "execution_count": null,
   "metadata": {},
   "outputs": [],
   "source": [
    "include(\"JuliRay.jl\")"
   ]
  },
  {
   "cell_type": "code",
   "execution_count": null,
   "metadata": {},
   "outputs": [],
   "source": [
    "a=rgbColor(Sphere([2,-1,-1]/3,0.6),RGB(1,0,0))\n",
    "b=rgbColor(Sphere([-1,2,-1]/3,0.6),RGB(0.5,0,0.5))\n",
    "c=rgbColor(Sphere([-1,-1,2]/3,0.6),RGB(0,1,0))\n",
    "abc=csgMerge(a,b,c)\n",
    "render(Transparent(abc,FT(0.1,0.2)),name=\"julialogo\",index=0,camera=LngLatCamera(lng=π/5,lat=π/5,pers=0.5,zoom=0.3))"
   ]
  },
  {
   "cell_type": "code",
   "execution_count": null,
   "metadata": {},
   "outputs": [],
   "source": []
  }
 ],
 "metadata": {
  "@webio": {
   "lastCommId": null,
   "lastKernelId": null
  },
  "kernelspec": {
   "display_name": "Julia 1.2.0",
   "language": "julia",
   "name": "julia-1.2"
  },
  "language_info": {
   "file_extension": ".jl",
   "mimetype": "application/julia",
   "name": "julia",
   "version": "1.2.0"
  }
 },
 "nbformat": 4,
 "nbformat_minor": 2
}
