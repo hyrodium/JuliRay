{
 "cells": [
  {
   "cell_type": "code",
   "execution_count": 1,
   "metadata": {},
   "outputs": [],
   "source": [
    "include(\"JuliRay.jl\")\n",
    "Base.@irrational ° 0.0174532925199432957692369076848861271344 (big(pi)/big(180))"
   ]
  },
  {
   "cell_type": "code",
   "execution_count": 138,
   "metadata": {},
   "outputs": [
    {
     "data": {
      "text/plain": [
       "1.0000000000000005e-9"
      ]
     },
     "execution_count": 138,
     "metadata": {},
     "output_type": "execute_result"
    }
   ],
   "source": [
    "ε=10^(-9)"
   ]
  },
  {
   "cell_type": "code",
   "execution_count": 115,
   "metadata": {},
   "outputs": [
    {
     "data": {
      "text/plain": [
       "Array{Array{Array{Int64,1},1},1}"
      ]
     },
     "execution_count": 115,
     "metadata": {},
     "output_type": "execute_result"
    }
   ],
   "source": [
    "VERTEX=Int\n",
    "EDGE=Array{VERTEX,1}\n",
    "FACE=Array{EDGE,1}\n",
    "CELL=Array{FACE,1}"
   ]
  },
  {
   "cell_type": "code",
   "execution_count": 184,
   "metadata": {},
   "outputs": [
    {
     "data": {
      "text/plain": [
       "Mirror (generic function with 2 methods)"
      ]
     },
     "execution_count": 184,
     "metadata": {},
     "output_type": "execute_result"
    }
   ],
   "source": [
    "function ℝ³⭢S³(p::Array{T,1}) where T<:Real\n",
    "    if(length(p)≠3)\n",
    "        error(\"No Point on ℝ³\")\n",
    "    end\n",
    "    return [2p[1]/(1+p[1]^2+p[2]^2+p[3]^2),2p[2]/(1+p[1]^2+p[2]^2+p[3]^2),2p[3]/(1+p[1]^2+p[2]^2+p[3]^2),(-1+p[1]^2+p[2]^2+p[3]^2)/(1+p[1]^2+p[2]^2+p[3]^2)]\n",
    "end\n",
    "\n",
    "function ℝ³⭢S³(p::Array{T,1},θ::Real) where T<:Real\n",
    "    if(length(p)≠3)\n",
    "        error(\"No Point on ℝ³\")\n",
    "    elseif(θ<ε)\n",
    "        return [p[1:3]...,0.0]\n",
    "    else\n",
    "        c=[0,0,0,cot(θ)]\n",
    "        r=1/sin(θ)\n",
    "        P=p*cot((π/2-θ)/2+π/4)\n",
    "        return ℝ³⭢S³(P)*r+c\n",
    "    end\n",
    "end\n",
    "\n",
    "function S³⭢ℝ³(q::Array{T,1}) where T<:Real\n",
    "    if(length(q)≠4)\n",
    "        error(\"No Point on S³\")\n",
    "    elseif(!(norm(q)≈1.0))\n",
    "        print(norm(q))\n",
    "        error(\"No Point on unit S³, $(norm(q))\")\n",
    "    end\n",
    "    return [q[1]/(1-q[4]),q[2]/(1-q[4]),q[3]/(1-q[4])]\n",
    "end\n",
    "\n",
    "function S³⭢ℝ³(q::Array{T,1},θ::Real) where T<:Real\n",
    "    if(length(q)≠4)\n",
    "        error(\"No Point on S³\")\n",
    "    elseif(θ<ε)\n",
    "        return q[1:3]\n",
    "    else\n",
    "        c=[0,0,0,cot(θ)]\n",
    "        r=1/sin(θ)\n",
    "        return S³⭢ℝ³((q-c)/r)*tan((π/2-θ)/2+π/4)\n",
    "    end\n",
    "end\n",
    "\n",
    "function ℝ⁴⭢S³(p::Array{T,1},θ::Real) where T<:Real\n",
    "    if(θ<ε)\n",
    "        return [p[1:3]...,0.0]\n",
    "    else\n",
    "        R=1/sin(θ)\n",
    "        O=[0,0,0,cot(θ)]\n",
    "        return O+R*normalize(p-O)\n",
    "    end\n",
    "end\n",
    "\n",
    "function Mirror(q::RealVector,p₁::RealVector,p₂::RealVector,p₃::RealVector)\n",
    "    e₃=NormalVector(p₁,p₂,p₃)\n",
    "    e₁=OrthogonalVector(e₃)\n",
    "    e₂=cross(e₃,e₁)\n",
    "    fixedpopint=(p₁+p₂+p₃)/3\n",
    "    A=hcat(e₁,e₂,e₃)*transpose(hcat(e₁,e₂,-e₃))\n",
    "    b=fixedpopint-A*fixedpopint\n",
    "    return A*q+b\n",
    "end\n",
    "\n",
    "function NormalVector(p₁::RealVector,p₂::RealVector,p₃::RealVector,p₄::RealVector)\n",
    "    A=hcat(p₁-p₄,p₂-p₄,p₃-p₄)\n",
    "    return normalize([(-1)^i*det(A[deleteat!(collect(1:n),i),:]) for i ∈ 1:n])\n",
    "end\n",
    "\n",
    "function Mirror(q::RealVector,p₁::RealVector,p₂::RealVector,p₃::RealVector,p₄::RealVector)\n",
    "    e₃=NormalVector(p₁,p₂,p₃,p₄)\n",
    "    e₁=OrthogonalVector(e₃)\n",
    "    e₂=cross(e₃,e₁)\n",
    "    fixedpopint=(p₁+p₂+p₃)/3\n",
    "    A=hcat(e₁,e₂,e₃)*transpose(hcat(e₁,e₂,-e₃))\n",
    "    b=fixedpopint-A*fixedpopint\n",
    "    return A*q+b\n",
    "end"
   ]
  },
  {
   "cell_type": "code",
   "execution_count": 475,
   "metadata": {},
   "outputs": [
    {
     "data": {
      "text/plain": [
       "4-element Array{Int64,1}:\n",
       " -3\n",
       "  0\n",
       " 99\n",
       "  1"
      ]
     },
     "execution_count": 475,
     "metadata": {},
     "output_type": "execute_result"
    }
   ],
   "source": [
    "p₁=[1,0,0,0]\n",
    "p₂=[0,1,0,8]\n",
    "p₃=[0,43,3,0]\n",
    "p₄=[-3,0,99,1]"
   ]
  },
  {
   "cell_type": "code",
   "execution_count": 476,
   "metadata": {},
   "outputs": [
    {
     "data": {
      "text/plain": [
       "4×3 Array{Int64,2}:\n",
       "   4    3    3\n",
       "   0    1   43\n",
       " -99  -99  -96\n",
       "  -1    7   -1"
      ]
     },
     "execution_count": 476,
     "metadata": {},
     "output_type": "execute_result"
    }
   ],
   "source": []
  },
  {
   "cell_type": "code",
   "execution_count": 480,
   "metadata": {},
   "outputs": [
    {
     "data": {
      "text/plain": [
       "4-element Array{Float64,1}:\n",
       " 0.9916334266884489  \n",
       " 0.020351500785555237\n",
       " 0.038839630969857916\n",
       " 0.12141024073786172 "
      ]
     },
     "execution_count": 480,
     "metadata": {},
     "output_type": "execute_result"
    }
   ],
   "source": []
  },
  {
   "cell_type": "code",
   "execution_count": 478,
   "metadata": {},
   "outputs": [
    {
     "data": {
      "text/plain": [
       "(0.0, 0.0)"
      ]
     },
     "execution_count": 478,
     "metadata": {},
     "output_type": "execute_result"
    }
   ],
   "source": [
    "dot(B,p₁-p₂),dot(B,p₃-p₂)"
   ]
  },
  {
   "cell_type": "code",
   "execution_count": null,
   "metadata": {},
   "outputs": [],
   "source": []
  },
  {
   "cell_type": "code",
   "execution_count": null,
   "metadata": {},
   "outputs": [],
   "source": []
  },
  {
   "cell_type": "code",
   "execution_count": null,
   "metadata": {},
   "outputs": [],
   "source": []
  },
  {
   "cell_type": "code",
   "execution_count": 439,
   "metadata": {},
   "outputs": [
    {
     "data": {
      "text/plain": [
       "4-element Array{Float64,1}:\n",
       " 0.0\n",
       " 1.0\n",
       " 0.0\n",
       " 0.0"
      ]
     },
     "execution_count": 439,
     "metadata": {},
     "output_type": "execute_result"
    }
   ],
   "source": [
    "OrthogonalVector([2,0,0,0])"
   ]
  },
  {
   "cell_type": "code",
   "execution_count": null,
   "metadata": {},
   "outputs": [],
   "source": []
  },
  {
   "cell_type": "code",
   "execution_count": null,
   "metadata": {},
   "outputs": [],
   "source": []
  },
  {
   "cell_type": "code",
   "execution_count": 197,
   "metadata": {},
   "outputs": [
    {
     "data": {
      "text/plain": [
       "PickFace (generic function with 2 methods)"
      ]
     },
     "execution_count": 197,
     "metadata": {},
     "output_type": "execute_result"
    }
   ],
   "source": [
    "function vertices(face::FACE)\n",
    "    f=copy(face)\n",
    "    v=union(vcat(f...))\n",
    "    w=[v[1]]\n",
    "    for j ∈ 1:(length(v)-1)\n",
    "        i=findfirst(e->w[end] ∈ e, f)\n",
    "        push!(w,filter(v->v≠w[end],f[i])[1])\n",
    "        deleteat!(f,i)\n",
    "    end\n",
    "    return w\n",
    "end\n",
    "\n",
    "function PickFace(cell::CELL, v::RealVector)\n",
    "    if(norm(v)≈0)\n",
    "        error(\"vector v must be non-zero\")\n",
    "    end\n",
    "    faces=vertices.(cell)\n",
    "    fpts=(i->POINTS[i]).(faces)\n",
    "    return cell[findmax([dot(v,+(pts...)) for pts ∈ fpts])[2]]\n",
    "end"
   ]
  },
  {
   "cell_type": "code",
   "execution_count": 65,
   "metadata": {},
   "outputs": [
    {
     "data": {
      "text/plain": [
       "SphericalPolygon (generic function with 1 method)"
      ]
     },
     "execution_count": 65,
     "metadata": {},
     "output_type": "execute_result"
    }
   ],
   "source": [
    "function SphericalPolygon(v::Array{T,1},θ::Real) where T<:RealVector\n",
    "    if(θ<ε)\n",
    "        return Polygon()\n",
    "    n=length(v)\n",
    "    v₀=ℝ⁴⭢S³(+(v...)/n,θ)\n",
    "    v₁=v[1]\n",
    "    v₂=v[2]\n",
    "    v₃=v[3]\n",
    "    V=(q->S³⭢ℝ³(q,θ)).(v)\n",
    "    V₀=S³⭢ℝ³(v₀,θ)\n",
    "    w=[ℝ⁴⭢S³((v[i]+v[mod(i,length(v))+1])/2,θ) for i ∈ 1:length(v)]\n",
    "    W=(q->S³⭢ℝ³(q,θ)).(w)\n",
    "    \n",
    "    O=Circumcenter(V₀,V[1],V[2],V[3])\n",
    "    sphere=Sphere(O,norm(V₀-O))\n",
    "    N=NormalVector(V[1],W[1],V[2]);\n",
    "    direction=sign(dot(N,O-V₀))\n",
    "    \n",
    "    cylinder=csgIntersection([\n",
    "            (V₁=V[i];\n",
    "            V₂=V[mod(i,n)+1];\n",
    "            V₃=V[mod(i+1,n)+1];\n",
    "            C=Circumcenter(V₁,W[i],V₂);\n",
    "            N=NormalVector(V₁,W[i],V₂);\n",
    "            direction=sign(dot(N,V₀-W[i]));\n",
    "            cylinder=Cylinder(C,C+2*direction*norm(V₀-O)*N,norm(V₀-O)))\n",
    "            for i ∈ 1:n\n",
    "            ])\n",
    "    return csgClip(sphere,cylinder)\n",
    "end"
   ]
  },
  {
   "cell_type": "code",
   "execution_count": 66,
   "metadata": {},
   "outputs": [
    {
     "data": {
      "text/plain": [
       "SphericalCylinder (generic function with 1 method)"
      ]
     },
     "execution_count": 66,
     "metadata": {},
     "output_type": "execute_result"
    }
   ],
   "source": [
    "function SphericalCylinder(v₁,v₂,r::Real,θ::Real) where T<:RealVector\n",
    "    if(θ<ε)\n",
    "        return \n",
    "    end\n",
    "    n=length(v)\n",
    "    v₀=ℝ⁴⭢S³(+(v...)/n,θ)\n",
    "    v₁=v[1]\n",
    "    v₂=v[2]\n",
    "    v₃=v[3]\n",
    "    V=(q->S³⭢ℝ³(q,θ)).(v)\n",
    "    V₀=S³⭢ℝ³(v₀,θ)\n",
    "    w=[ℝ⁴⭢S³((v[i]+v[mod(i,length(v))+1])/2,θ) for i ∈ 1:length(v)]\n",
    "    W=(q->S³⭢ℝ³(q,θ)).(w)\n",
    "    \n",
    "    O=Circumcenter(V₀,V[1],V[2],V[3])\n",
    "    sphere=Sphere(O,norm(V₀-O))\n",
    "    N=NormalVector(V[1],W[1],V[2]);\n",
    "    direction=sign(dot(N,O-V₀))\n",
    "    \n",
    "    cylinder=csgIntersection([\n",
    "            (V₁=V[i];\n",
    "            V₂=V[mod(i,n)+1];\n",
    "            V₃=V[mod(i+1,n)+1];\n",
    "            C=Circumcenter(V₁,W[i],V₂);\n",
    "            N=NormalVector(V₁,W[i],V₂);\n",
    "            direction=sign(dot(N,O-V₀));\n",
    "            cylinder=Cylinder(C,C-direction*norm(V₀-O)*N,norm(V₀-O)))\n",
    "            for i ∈ 1:n\n",
    "            ])\n",
    "    return csgClip(sphere,cylinder)\n",
    "end"
   ]
  },
  {
   "cell_type": "code",
   "execution_count": 297,
   "metadata": {},
   "outputs": [
    {
     "data": {
      "text/plain": [
       "NewCell (generic function with 1 method)"
      ]
     },
     "execution_count": 297,
     "metadata": {},
     "output_type": "execute_result"
    }
   ],
   "source": [
    "function NewCell(cell::CELL,v::RealVector)\n",
    "    n=length(POINTS)\n",
    "\n",
    "    c=copy(cell)\n",
    "    face=PickFace(cell,v)\n",
    "    IND_face=vertices(face)\n",
    "    IND_cell=Int[]\n",
    "    for f ∈ c for e ∈ f for v ∈ e push!(IND_cell,v) end end end\n",
    "    IND_cell=union(IND_cell)\n",
    "    println(IND_cell)\n",
    "    println(IND_face)\n",
    "#     IND_cell2=[if(i ∈ IND_face) i else push!(POINTS,POINTS[i]*2); n=n+1 end for i ∈ IND_cell]\n",
    "    IND_cell2=[if(i ∈ IND_face) i else push!(POINTS,Mirror(POINTS[i],POINTS[IND_face[1]],POINTS[IND_face[2]],POINTS[IND_face[3]])); n=n+1 end for i ∈ IND_cell]\n",
    "    println(IND_cell2)\n",
    "    \n",
    "    c2=[[[IND_cell2[findfirst(w->w==v,IND_cell)] for v ∈ e] for e ∈ f] for f ∈ c]\n",
    "    \n",
    "   return c2\n",
    "end"
   ]
  },
  {
   "cell_type": "code",
   "execution_count": 429,
   "metadata": {},
   "outputs": [
    {
     "data": {
      "text/plain": [
       "8-element Array{Array{Float64,1},1}:\n",
       " [0.5, 0.5, 0.5]   \n",
       " [0.5, 0.5, -0.5]  \n",
       " [0.5, -0.5, 0.5]  \n",
       " [0.5, -0.5, -0.5] \n",
       " [-0.5, 0.5, 0.5]  \n",
       " [-0.5, 0.5, -0.5] \n",
       " [-0.5, -0.5, 0.5] \n",
       " [-0.5, -0.5, -0.5]"
      ]
     },
     "execution_count": 429,
     "metadata": {},
     "output_type": "execute_result"
    }
   ],
   "source": [
    "# Cube of Tesseract\n",
    "h=1/2\n",
    "r=√(1-h^2)\n",
    "v₁, 𝒑₁=1, [1,1,1]/2\n",
    "v₂, 𝒑₂=2, [1,1,-1]/2\n",
    "v₃, 𝒑₃=3, [1,-1,1]/2\n",
    "v₄, 𝒑₄=4, [1,-1,-1]/2\n",
    "v₅, 𝒑₅=5, [-1,1,1]/2\n",
    "v₆, 𝒑₆=6, [-1,1,-1]/2\n",
    "v₇, 𝒑₇=7, [-1,-1,1]/2\n",
    "v₈, 𝒑₈=8, [-1,-1,-1]/2\n",
    "e₁=[v₁,v₂]\n",
    "e₂=[v₁,v₃]\n",
    "e₃=[v₁,v₅]\n",
    "e₄=[v₂,v₄]\n",
    "e₅=[v₂,v₆]\n",
    "e₆=[v₃,v₄]\n",
    "e₇=[v₃,v₇]\n",
    "e₈=[v₄,v₈]\n",
    "e₉=[v₅,v₆]\n",
    "e₁₀=[v₅,v₇]\n",
    "e₁₁=[v₆,v₈]\n",
    "e₁₂=[v₇,v₈]\n",
    "f₁=[e₁,e₂,e₄,e₆]\n",
    "f₂=[e₁,e₃,e₅,e₉]\n",
    "f₃=[e₂,e₃,e₇,e₁₀]\n",
    "f₄=[e₄,e₅,e₈,e₁₁]\n",
    "f₅=[e₆,e₇,e₈,e₁₂]\n",
    "f₆=[e₉,e₁₀,e₁₁,e₁₂]\n",
    "c₁=[f₁,f₂,f₃,f₄,f₅,f₆]\n",
    "POINTS=[𝒑₁,𝒑₂,𝒑₃,𝒑₄,𝒑₅,𝒑₆,𝒑₇,𝒑₈]\n",
    "POINTS=r*normalize.(POINTS)"
   ]
  },
  {
   "cell_type": "code",
   "execution_count": 430,
   "metadata": {},
   "outputs": [
    {
     "data": {
      "text/plain": [
       "6-element Array{Array{Array{Int64,1},1},1}:\n",
       " [[1, 2], [1, 3], [2, 4], [3, 4]]\n",
       " [[1, 2], [1, 5], [2, 6], [5, 6]]\n",
       " [[1, 3], [1, 5], [3, 7], [5, 7]]\n",
       " [[2, 4], [2, 6], [4, 8], [6, 8]]\n",
       " [[3, 4], [3, 7], [4, 8], [7, 8]]\n",
       " [[5, 6], [5, 7], [6, 8], [7, 8]]"
      ]
     },
     "execution_count": 430,
     "metadata": {},
     "output_type": "execute_result"
    }
   ],
   "source": [
    "c₁"
   ]
  },
  {
   "cell_type": "code",
   "execution_count": 431,
   "metadata": {},
   "outputs": [
    {
     "name": "stdout",
     "output_type": "stream",
     "text": [
      "[1, 2, 3, 4, 5, 6, 7, 8]\n",
      "[1, 2, 6, 5]\n",
      "[1, 2, 9, 10, 5, 6, 11, 12]\n"
     ]
    },
    {
     "data": {
      "text/plain": [
       "6-element Array{Array{Array{Int64,1},1},1}:\n",
       " [[1, 2], [1, 9], [2, 10], [9, 10]]    \n",
       " [[1, 2], [1, 5], [2, 6], [5, 6]]      \n",
       " [[1, 9], [1, 5], [9, 11], [5, 11]]    \n",
       " [[2, 10], [2, 6], [10, 12], [6, 12]]  \n",
       " [[9, 10], [9, 11], [10, 12], [11, 12]]\n",
       " [[5, 6], [5, 11], [6, 12], [11, 12]]  "
      ]
     },
     "execution_count": 431,
     "metadata": {},
     "output_type": "execute_result"
    }
   ],
   "source": [
    "c₂=NewCell(c₁,[1,2,0])"
   ]
  },
  {
   "cell_type": "code",
   "execution_count": 432,
   "metadata": {},
   "outputs": [
    {
     "name": "stdout",
     "output_type": "stream",
     "text": [
      "[1, 2, 9, 10, 5, 6, 11, 12]\n",
      "[9, 10, 12, 11]\n",
      "[13, 14, 9, 10, 15, 16, 11, 12]\n"
     ]
    },
    {
     "data": {
      "text/plain": [
       "6-element Array{Array{Array{Int64,1},1},1}:\n",
       " [[13, 14], [13, 9], [14, 10], [9, 10]]  \n",
       " [[13, 14], [13, 15], [14, 16], [15, 16]]\n",
       " [[13, 9], [13, 15], [9, 11], [15, 11]]  \n",
       " [[14, 10], [14, 16], [10, 12], [16, 12]]\n",
       " [[9, 10], [9, 11], [10, 12], [11, 12]]  \n",
       " [[15, 16], [15, 11], [16, 12], [11, 12]]"
      ]
     },
     "execution_count": 432,
     "metadata": {},
     "output_type": "execute_result"
    }
   ],
   "source": [
    "c₃=NewCell(c₂,[1,2,0])"
   ]
  },
  {
   "cell_type": "code",
   "execution_count": 433,
   "metadata": {},
   "outputs": [
    {
     "data": {
      "text/plain": [
       "16-element Array{Array{Float64,1},1}:\n",
       " [0.5, 0.5, 0.5]   \n",
       " [0.5, 0.5, -0.5]  \n",
       " [0.5, -0.5, 0.5]  \n",
       " [0.5, -0.5, -0.5] \n",
       " [-0.5, 0.5, 0.5]  \n",
       " [-0.5, 0.5, -0.5] \n",
       " [-0.5, -0.5, 0.5] \n",
       " [-0.5, -0.5, -0.5]\n",
       " [0.5, 1.5, 0.5]   \n",
       " [0.5, 1.5, -0.5]  \n",
       " [-0.5, 1.5, 0.5]  \n",
       " [-0.5, 1.5, -0.5] \n",
       " [0.5, 2.5, 0.5]   \n",
       " [0.5, 2.5, -0.5]  \n",
       " [-0.5, 2.5, 0.5]  \n",
       " [-0.5, 2.5, -0.5] "
      ]
     },
     "execution_count": 433,
     "metadata": {},
     "output_type": "execute_result"
    }
   ],
   "source": [
    "POINTS"
   ]
  },
  {
   "cell_type": "code",
   "execution_count": 434,
   "metadata": {},
   "outputs": [
    {
     "data": {
      "text/plain": [
       "16-element Array{Array{Float64,1},1}:\n",
       " [0.5714285714285715, 0.5714285714285715, 0.5714285714285715, -0.1428571428571426]   \n",
       " [0.5714285714285715, 0.5714285714285715, -0.5714285714285715, -0.1428571428571426]  \n",
       " [0.5714285714285715, -0.5714285714285715, 0.5714285714285715, -0.1428571428571426]  \n",
       " [0.5714285714285715, -0.5714285714285715, -0.5714285714285715, -0.1428571428571426] \n",
       " [-0.5714285714285715, 0.5714285714285715, 0.5714285714285715, -0.1428571428571426]  \n",
       " [-0.5714285714285715, 0.5714285714285715, -0.5714285714285715, -0.1428571428571426] \n",
       " [-0.5714285714285715, -0.5714285714285715, 0.5714285714285715, -0.1428571428571426] \n",
       " [-0.5714285714285715, -0.5714285714285715, -0.5714285714285715, -0.1428571428571426]\n",
       " [0.2666666666666666, 0.7999999999999999, 0.2666666666666666, 0.4666666666666669]    \n",
       " [0.2666666666666666, 0.7999999999999999, -0.2666666666666666, 0.4666666666666669]   \n",
       " [-0.2666666666666666, 0.7999999999999999, 0.2666666666666666, 0.4666666666666669]   \n",
       " [-0.2666666666666666, 0.7999999999999999, -0.2666666666666666, 0.4666666666666669]  \n",
       " [0.12903225806451613, 0.6451612903225805, 0.12903225806451613, 0.741935483870968]   \n",
       " [0.12903225806451613, 0.6451612903225805, -0.12903225806451613, 0.741935483870968]  \n",
       " [-0.12903225806451613, 0.6451612903225805, 0.12903225806451613, 0.741935483870968]  \n",
       " [-0.12903225806451613, 0.6451612903225805, -0.12903225806451613, 0.741935483870968] "
      ]
     },
     "execution_count": 434,
     "metadata": {},
     "output_type": "execute_result"
    }
   ],
   "source": [
    "θ=π/2\n",
    "# R=1/sin(θ)\n",
    "# O=[0,0,0,tan(θ)]\n",
    "# N=O+[0,0,0,R]\n",
    "# H=O-[0,0,0,√(R^2-r^2)]\n",
    "# POINTS=[[P[1:3]...,0]+H for P ∈ POINTS]\n",
    "POINTS=(p->ℝ³⭢S³(p,θ)).(POINTS)"
   ]
  },
  {
   "cell_type": "code",
   "execution_count": 435,
   "metadata": {},
   "outputs": [
    {
     "data": {
      "text/plain": [
       "P2O (generic function with 4 methods)"
      ]
     },
     "execution_count": 435,
     "metadata": {},
     "output_type": "execute_result"
    }
   ],
   "source": [
    "function P2O(vertex::VERTEX,POINTS;rᵥ=0.05)\n",
    "    return Sphere(POINTS[translate(vertex)],rᵥ)\n",
    "end\n",
    "function P2O(edge::EDGE,POINTS;rₑ=0.05)\n",
    "    return Cylinder(POINTS[translate(edge)]...,rₑ)\n",
    "end\n",
    "function P2O(face::FACE,POINTS)\n",
    "    v=vertices(face)\n",
    "    return Polygon([POINTS[i] for i ∈ v])\n",
    "end\n",
    "function P2O(cell::CELL,POINTS;rᵥ=0.05,rₑ=0.05)\n",
    "    fs=copy(cell)\n",
    "    es=DeleteDuplicates(vcat([face for face ∈ fs]...))\n",
    "    vs=DeleteDuplicates(vcat([edge for edge ∈ es]...))\n",
    "    V=rgbColor(csgUnion([Sphere(S³⭢ℝ³(POINTS[vertex],θ),rᵥ) for vertex ∈ vs]),RGB(0.1,0.1,0.1))\n",
    "    E=rgbColor(csgUnion([Arc(\n",
    "                    S³⭢ℝ³(POINTS[edge[1]],θ),\n",
    "                    S³⭢ℝ³(ℝ⁴⭢S³((POINTS[edge[1]]+POINTS[edge[2]])/2,θ),θ),\n",
    "                    S³⭢ℝ³(POINTS[edge[2]],θ),\n",
    "                    rₑ\n",
    "                ) for edge ∈ es]),RGB(0.2,0.2,0.2))\n",
    "    F=rgbftColor(SphericalPolygon([POINTS[i] for i ∈ vertices(fs[6])],θ),RGB(1,0,0),FT(0.1,0.1))\n",
    "    return csgUnion(V,E,F)\n",
    "end"
   ]
  },
  {
   "cell_type": "code",
   "execution_count": 436,
   "metadata": {},
   "outputs": [
    {
     "name": "stderr",
     "output_type": "stream",
     "text": [
      "povray: cannot open the user configuration file /home/hyrodium/.povray/3.7/povray.conf: No such file or directory\n",
      "Persistence of Vision(tm) Ray Tracer Version 3.7.0.8.unofficial (g++ 8.2.1 @\n",
      " x86_64-pc-linux-gnu)\n",
      "This is an unofficial version compiled by:\n",
      " Arch Linux\n",
      " The POV-Ray Team is not responsible for supporting this version.\n",
      "\n",
      "POV-Ray is based on DKBTrace 2.12 by David K. Buck & Aaron A. Collins\n",
      "Copyright 1991-2013 Persistence of Vision Raytracer Pty. Ltd.\n",
      "\n",
      "Primary POV-Ray 3.7 Architects/Developers: (Alphabetically)\n",
      "  Chris Cason         Thorsten Froehlich  Christoph Lipka   \n",
      "\n",
      "With Assistance From: (Alphabetically)\n",
      "  Nicolas Calimet     Jerome Grimbert     James Holsenback    Christoph Hormann \n",
      "  Nathan Kopp         Juha Nieminen     \n",
      "\n",
      "Past Contributors: (Alphabetically)\n",
      "  Steve Anger         Eric Barish         Dieter Bayer        David K. Buck     \n",
      "  Nicolas Calimet     Chris Cason         Aaron A. Collins    Chris Dailey      \n",
      "  Steve Demlow        Andreas Dilger      Alexander Enzmann   Dan Farmer        \n",
      "  Thorsten Froehlich  Mark Gordon         James Holsenback    Christoph Hormann \n",
      "  Mike Hough          Chris Huff          Kari Kivisalo       Nathan Kopp       \n",
      "  Lutz Kretzschmar    Christoph Lipka     Jochen Lippert      Pascal Massimino  \n",
      "  Jim McElhiney       Douglas Muir        Juha Nieminen       Ron Parker        \n",
      "  Bill Pulver         Eduard Schwan       Wlodzimierz Skiba   Robert Skinner    \n",
      "  Yvo Smellenbergh    Zsolt Szalavari     Scott Taylor        Massimo Valentini \n",
      "  Timothy Wegner      Drew Wells          Chris Young       \n",
      "\n",
      "Other contributors are listed in the documentation.\n",
      "\n",
      "Support libraries used by POV-Ray:\n",
      "  ZLib 1.2.11, Copyright 1995-2012 Jean-loup Gailly and Mark Adler\n",
      "  LibPNG 1.6.37, Copyright 1998-2012 Glenn Randers-Pehrson\n",
      "  LibJPEG 80, Copyright 1991-2013 Thomas G. Lane, Guido Vollbeding\n",
      "  LibTIFF 4.0.10, Copyright 1988-1997 Sam Leffler, 1991-1997 SGI\n",
      "  Boost 1.69, http://www.boost.org/\n",
      "  OpenEXR 2.3.0 and IlmBase 2.3.0, Copyright (c) 2002-2011 Industrial Light &\n",
      " Magic.\n",
      "\n",
      "Parser Options\n",
      "  Input file: hgoe4.pov\n",
      "  Remove bounds........On \n",
      "  Split unions.........Off\n",
      "  Library paths:\n",
      "  Clock value:    0.000  (Animation off)\n",
      "Image Output Options\n",
      "  Image resolution.....640 by 360 (rows 1 to 360, columns 1 to 640).\n",
      "  Output file..........hgoe4.png, 24 bpp PNG\n",
      "  Dithering............Off\n",
      "  Graphic display......Off\n",
      "  Mosaic preview.......Off\n",
      "  Continued trace......Off\n",
      "Information Output Options\n",
      "  All Streams to console..........On \n",
      "  Debug Stream to console.........On \n",
      "  Fatal Stream to console.........On \n",
      "  Render Stream to console........On \n",
      "  Statistics Stream to console....On \n",
      "  Warning Stream to console.......On \n",
      "==== [Parsing...] ==========================================================\n",
      "----------------------------------------------------------------------------\n",
      "Parser Statistics\n",
      "----------------------------------------------------------------------------\n",
      "Finite Objects:           21\n",
      "Infinite Objects:          0\n",
      "Light Sources:             1\n",
      "Total:                    22\n",
      "----------------------------------------------------------------------------\n",
      "Parser Time\n",
      "  Parse Time:       0 hours  0 minutes  0 seconds (0.001 seconds)\n",
      "              using 1 thread(s) with 0.001 CPU-seconds total\n",
      "  Bounding Time:    0 hours  0 minutes  0 seconds (0.000 seconds)\n",
      "              using 1 thread(s) with 0.000 CPU-seconds total\n",
      "----------------------------------------------------------------------------\n",
      "Render Options\n",
      "  Quality:  9\n",
      "  Bounding boxes.......On   Bounding threshold: 3\n",
      "  Antialiasing.........On  (Method 1, Threshold 0.300, Depth 3, Jitter 1.00,\n",
      " Gamma 2.50)\n",
      "==== [Rendering...] ========================================================\n",
      "Rendered 230400 of 230400 pixels (100%)\n",
      "----------------------------------------------------------------------------\n",
      "Render Statistics\n",
      "Image Resolution 640 x 360\n",
      "----------------------------------------------------------------------------\n",
      "Pixels:           245280   Samples:           35721   Smpls/Pxl: 0.15\n",
      "Rays:             292377   Saved:                 0   Max Level: 1/5\n",
      "----------------------------------------------------------------------------\n",
      "Ray->Shape Intersection          Tests       Succeeded  Percentage\n",
      "----------------------------------------------------------------------------\n",
      "Box                            1844872          811206     43.97\n",
      "CSG Intersection               1844872          213639     11.58\n",
      "Sphere                          185181          154336     83.34\n",
      "Torus                           922436           69933      7.58\n",
      "Torus Bound                     922436           89487      9.70\n",
      "Clipping Object                 254150           18778      7.39\n",
      "Bounding Box                   4677648         1986956     42.48\n",
      "----------------------------------------------------------------------------\n",
      "Roots tested:                 89487   eliminated:                23562\n",
      "Shadow Ray Tests:             36553   Succeeded:                   125\n",
      "Shadow Cache Hits:                2\n",
      "Transmitted Rays:             11376\n",
      "----------------------------------------------------------------------------\n",
      "----------------------------------------------------------------------------\n",
      "Render Time:\n",
      "  Photon Time:      No photons\n",
      "  Radiosity Time:   No radiosity\n",
      "  Trace Time:       0 hours  0 minutes  0 seconds (0.064 seconds)\n",
      "              using 16 thread(s) with 0.563 CPU-seconds total\n",
      "POV-Ray finished\n",
      "\n"
     ]
    },
    {
     "data": {
      "text/plain": [
       "Process(`\u001b[4mpovray\u001b[24m \u001b[4mhgoe4.pov\u001b[24m`, ProcessExited(0))"
      ]
     },
     "execution_count": 436,
     "metadata": {},
     "output_type": "execute_result"
    }
   ],
   "source": [
    "render(P2O(c₂,POINTS,rᵥ=0.05,rₑ=0.025),camera=LngLatCamera(lng=30°,lat=30°,pers=0.5,zoom=0.2,width=640,height=360),name=\"hgoe4\")"
   ]
  },
  {
   "cell_type": "code",
   "execution_count": null,
   "metadata": {},
   "outputs": [],
   "source": []
  }
 ],
 "metadata": {
  "kernelspec": {
   "display_name": "Julia 1.2.0",
   "language": "julia",
   "name": "julia-1.2"
  },
  "language_info": {
   "file_extension": ".jl",
   "mimetype": "application/julia",
   "name": "julia",
   "version": "1.2.0"
  }
 },
 "nbformat": 4,
 "nbformat_minor": 2
}
