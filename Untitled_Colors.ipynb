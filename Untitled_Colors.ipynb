{
 "cells": [
  {
   "cell_type": "code",
   "execution_count": 1,
   "metadata": {},
   "outputs": [],
   "source": [
    "using Colors"
   ]
  },
  {
   "cell_type": "code",
   "execution_count": 63,
   "metadata": {},
   "outputs": [
    {
     "data": {
      "image/svg+xml": [
       "<?xml version=\"1.0\" encoding=\"UTF-8\"?>\n",
       "<!DOCTYPE svg PUBLIC \"-//W3C//DTD SVG 1.1//EN\"\n",
       " \"http://www.w3.org/Graphics/SVG/1.1/DTD/svg11.dtd\">\n",
       "<svg xmlns=\"http://www.w3.org/2000/svg\" version=\"1.1\"\n",
       "     width=\"25mm\" height=\"25mm\" viewBox=\"0 0 1 1\">\n",
       "     <rect width=\"1\" height=\"1\"\n",
       "           fill=\"#FF0000\" stroke=\"none\"/>\n",
       "</svg>\n"
      ],
      "text/plain": [
       "RGB{N0f8}(1.0,0.0,0.0)"
      ]
     },
     "execution_count": 63,
     "metadata": {},
     "output_type": "execute_result"
    }
   ],
   "source": [
    "fuga=colorant\"red\""
   ]
  },
  {
   "cell_type": "code",
   "execution_count": 50,
   "metadata": {},
   "outputs": [
    {
     "data": {
      "image/svg+xml": [
       "<?xml version=\"1.0\" encoding=\"UTF-8\"?>\n",
       "<!DOCTYPE svg PUBLIC \"-//W3C//DTD SVG 1.1//EN\"\n",
       " \"http://www.w3.org/Graphics/SVG/1.1/DTD/svg11.dtd\">\n",
       "<svg xmlns=\"http://www.w3.org/2000/svg\" version=\"1.1\"\n",
       "     width=\"25mm\" height=\"25mm\" viewBox=\"0 0 1 1\">\n",
       "     <rect width=\"1\" height=\"1\"\n",
       "           fill=\"#BF4240\" stroke=\"none\"/>\n",
       "</svg>\n"
      ],
      "text/plain": [
       "HSL{Float64}(1.0,0.5,0.5)"
      ]
     },
     "execution_count": 50,
     "metadata": {},
     "output_type": "execute_result"
    }
   ],
   "source": [
    "hoge=HSL(1,0.5,0.5)"
   ]
  },
  {
   "cell_type": "code",
   "execution_count": 61,
   "metadata": {},
   "outputs": [
    {
     "data": {
      "text/plain": [
       "HSL{Float64}"
      ]
     },
     "execution_count": 61,
     "metadata": {},
     "output_type": "execute_result"
    }
   ],
   "source": [
    "typeof(hoge)"
   ]
  },
  {
   "cell_type": "code",
   "execution_count": 65,
   "metadata": {},
   "outputs": [
    {
     "ename": "MethodError",
     "evalue": "MethodError: no method matching red(::HSL{Float64})\nClosest candidates are:\n  red(!Matched::ARGB32) at /home/hyrodium/.julia/packages/ColorTypes/BsAWO/src/traits.jl:17\n  red(!Matched::RGB24) at /home/hyrodium/.julia/packages/ColorTypes/BsAWO/src/traits.jl:16\n  red(!Matched::AbstractRGB) at /home/hyrodium/.julia/packages/ColorTypes/BsAWO/src/traits.jl:14\n  ...",
     "output_type": "error",
     "traceback": [
      "MethodError: no method matching red(::HSL{Float64})\nClosest candidates are:\n  red(!Matched::ARGB32) at /home/hyrodium/.julia/packages/ColorTypes/BsAWO/src/traits.jl:17\n  red(!Matched::RGB24) at /home/hyrodium/.julia/packages/ColorTypes/BsAWO/src/traits.jl:16\n  red(!Matched::AbstractRGB) at /home/hyrodium/.julia/packages/ColorTypes/BsAWO/src/traits.jl:14\n  ...",
      "",
      "Stacktrace:",
      " [1] top-level scope at In[65]:1"
     ]
    }
   ],
   "source": [
    "red(hoge)"
   ]
  },
  {
   "cell_type": "code",
   "execution_count": 69,
   "metadata": {},
   "outputs": [
    {
     "data": {
      "text/plain": [
       "Color{FixedPointNumbers.Normed{UInt8,8},3}"
      ]
     },
     "execution_count": 69,
     "metadata": {},
     "output_type": "execute_result"
    }
   ],
   "source": [
    "supertype(supertype(typeof(colorant\"red\")))"
   ]
  },
  {
   "cell_type": "code",
   "execution_count": 78,
   "metadata": {},
   "outputs": [
    {
     "data": {
      "text/plain": [
       "true"
      ]
     },
     "execution_count": 78,
     "metadata": {},
     "output_type": "execute_result"
    }
   ],
   "source": [
    "typeof(hoge)<:Color"
   ]
  },
  {
   "cell_type": "code",
   "execution_count": 100,
   "metadata": {},
   "outputs": [
    {
     "name": "stdout",
     "output_type": "stream",
     "text": [
      "\"\"\"\n",
      "`Colorant{T,N}` is the abstract super-type of all types in ColorTypes,\n",
      "and refers to both (opaque) colors and colors-with-transparency (alpha\n",
      "channel) information.  `T` is the element type (extractable with\n",
      "`eltype`) and `N` is the number of *meaningful* entries (extractable\n",
      "with `length`), i.e., the number of arguments you would supply to the\n",
      "constructor.\n",
      "\"\"\"\n",
      "abstract type Colorant{T,N} end\n",
      "\n",
      "# Colors (without transparency)\n",
      "\"\"\"\n",
      "`Color{T,N}` is the abstract supertype for a color (or\n",
      "grayscale) with no transparency.\n",
      "\"\"\"\n",
      "abstract type Color{T, N} <: Colorant{T,N} end\n",
      "\n",
      "\"\"\"\n",
      "`AbstractRGB{T}` is an abstract supertype for red/green/blue color types that\n",
      "can be constructed as `C(r, g, b)` and for which the elements can be\n",
      "extracted as `red(c)`, `green(c)`, `blue(c)`. You should *not* make\n",
      "assumptions about internal storage order, the number of fields, or the\n",
      "representation. One `AbstractRGB` color-type, `RGB24`, is not\n",
      "parametric and does not have fields named `r`, `g`, `b`.\n",
      "\"\"\"\n",
      "abstract type AbstractRGB{T}      <: Color{T,3} end\n",
      "\n",
      "\n",
      "# Types with transparency\n",
      "\"\"\"\n",
      "`TransparentColor{C,T,N}` is the abstract type for any\n",
      "color-with-transparency.  The `C` parameter refers to the type of the\n",
      "pure color (without transparency) and can be extracted with\n",
      "`color_type`. `T` is the element type of both `C` and the `alpha`\n",
      "channel, and `N` has the same meaning as in `Colorant` (and is 1 larger\n",
      "than the corresponding color type).\n",
      "\n",
      "All transparent types should support two modes of construction:\n",
      "\n",
      "    P(color, alpha)\n",
      "    P(component1, component2, component3, alpha) (assuming a 3-component color)\n",
      "\n",
      "For a `Colorant` `c`, the color component can be extracted with\n",
      "`color(c)`, and the alpha channel with `alpha(c)`. Note that types\n",
      "such as `ARGB32` do not have a field named `alpha`.\n",
      "\n",
      "Most concrete types, like `RGB`, have both `ARGB` and `RGBA`\n",
      "transparent analogs.  These two indicate different internal storage\n",
      "order (see `AlphaColor` and `ColorAlpha`, and the `alphacolor` and\n",
      "`coloralpha` functions).\n",
      "\"\"\"\n",
      "abstract type TransparentColor{C<:Color,T,N} <: Colorant{T,N} end\n",
      "\n",
      "\"\"\"\n",
      "`AlphaColor` is an abstract supertype for types like `ARGB`, where the\n",
      "alpha channel comes first in the internal storage order. **Note** that\n",
      "the constructor order is still `(color, alpha)`.\n",
      "\"\"\"\n",
      "abstract type AlphaColor{C,T,N} <: TransparentColor{C,T,N} end\n",
      "\n",
      "\"\"\"\n",
      "`ColorAlpha` is an abstract supertype for types like `RGBA`, where the\n",
      "alpha channel comes last in the internal storage order.\n",
      "\"\"\"\n",
      "abstract type ColorAlpha{C,T,N} <: TransparentColor{C,T,N} end\n",
      "\n",
      "# These are types we'll dispatch on.\n",
      "AbstractGray{T}                    = Color{T,1}\n",
      "Color3{T}                          = Color{T,3}\n",
      "TransparentGray{C<:AbstractGray,T} = TransparentColor{C,T,2}\n",
      "Transparent3{C<:Color3,T}          = TransparentColor{C,T,4}\n",
      "TransparentRGB{C<:AbstractRGB,T}   = TransparentColor{C,T,4}\n",
      "ColorantNormed{T<:Normed,N}        = Colorant{T,N}\n",
      "\n",
      "\"\"\"\n",
      "`RGB` is the standard Red-Green-Blue (sRGB) colorspace.  Values of the\n",
      "individual color channels range from 0 (black) to 1 (saturated). If\n",
      "you want \"Integer\" storage types (e.g., 255 for full color), use `N0f8(1)`\n",
      "instead (see FixedPointNumbers).\n",
      "\"\"\"\n",
      "struct RGB{T<:Fractional} <: AbstractRGB{T}\n",
      "    r::T # Red [0,1]\n",
      "    g::T # Green [0,1]\n",
      "    b::T # Blue [0,1]\n",
      "\n",
      "    RGB{T}(r::T, g::T, b::T) where {T} = new{T}(r, g, b)\n",
      "    # T might be a Normed, and so some inputs will result in an\n",
      "    # error. Try to make it a nice error.\n",
      "    function RGB{T}(r::Real, g::Real, b::Real) where T\n",
      "        checkval(T, r, g, b)\n",
      "        new{T}(_rem(r,T), _rem(g,T), _rem(b,T))\n",
      "    end\n",
      "end\n",
      "# For types that support Fractional, we need this to avoid a\n",
      "# StackOverflow. For color types that only support AbstractFloat, this\n",
      "# is handled by @make_constructors.\n",
      "RGB(r::T, g::T, b::T) where {T<:Fractional} = RGB{T}(r, g, b)\n",
      "\n",
      "\"\"\"\n",
      "`BGR` is a variant of `RGB` with the opposite storage order.  Note\n",
      "that the constructor is still called in the order `BGR(r, g, b)`.\n",
      "This storage order is noteworthy because on little-endian machines,\n",
      "`BGRA` (with transparency) can be `reinterpret`ed to the `UInt32`\n",
      "color format used by libraries such as Cairo and OpenGL.\n",
      "\"\"\"\n",
      "struct BGR{T<:Fractional} <: AbstractRGB{T}\n",
      "    b::T\n",
      "    g::T\n",
      "    r::T\n",
      "\n",
      "    BGR{T}(r::T, g::T, b::T) where {T} = new{T}(b, g, r)\n",
      "    function BGR{T}(r::Real, g::Real, b::Real) where T\n",
      "        checkval(T, r, g, b)\n",
      "        new{T}(_rem(b,T), _rem(g,T), _rem(r,T))\n",
      "    end\n",
      "end\n",
      "BGR(r::T, g::T, b::T) where {T<:Fractional} = BGR{T}(r, g, b)\n",
      "\n",
      "\"\"\"\n",
      "`RGB1` is a variant of `RGB` which has a padding element inserted at\n",
      "the beginning. In some applications it may have useful\n",
      "memory-alignment properties.\n",
      "\n",
      "Like all other AbstractRGB objects, the constructor is still called\n",
      "`RGB1(r, g, b)`.\n",
      "\"\"\"\n",
      "struct RGB1{T<:Fractional} <: AbstractRGB{T}\n",
      "    alphadummy::T\n",
      "    r::T\n",
      "    g::T\n",
      "    b::T\n",
      "\n",
      "    RGB1{T}(r::T, g::T, b::T) where {T} = new{T}(oneunit(T), r, g, b)\n",
      "    function RGB1{T}(r::Real, g::Real, b::Real) where T\n",
      "        checkval(T, r, g, b)\n",
      "        new{T}(oneunit(T), _rem(r,T), _rem(g,T), _rem(b,T))\n",
      "    end\n",
      "end\n",
      "RGB1(r::T, g::T, b::T) where {T<:Fractional} = RGB1{T}(r, g, b)\n",
      "\n",
      "\"\"\"\n",
      "`RGB4` is a variant of `RGB` which has a padding element inserted at\n",
      "the end. In some applications it may have useful\n",
      "memory-alignment properties.\n",
      "\n",
      "Like all other AbstractRGB objects, the constructor is still called\n",
      "`RGB4(r, g, b)`.\n",
      "\"\"\"\n",
      "struct RGB4{T<:Fractional} <: AbstractRGB{T}\n",
      "    r::T\n",
      "    g::T\n",
      "    b::T\n",
      "    alphadummy::T\n",
      "\n",
      "    RGB4{T}(r::T, g::T, b::T) where {T} = new{T}(r, g, b, oneunit(T))\n",
      "    function RGB4{T}(r::Real, g::Real, b::Real) where T\n",
      "        checkval(T, r, g, b)\n",
      "        new{T}(_rem(r,T), _rem(g,T), _rem(b,T), oneunit(T))\n",
      "    end\n",
      "end\n",
      "RGB4(r::T, g::T, b::T) where {T<:Fractional} = RGB4{T}(r, g, b)\n",
      "\n",
      "\"`HSV` is the Hue-Saturation-Value colorspace.\"\n",
      "struct HSV{T<:AbstractFloat} <: Color{T,3}\n",
      "    h::T # Hue in [0,360)\n",
      "    s::T # Saturation in [0,1]\n",
      "    v::T # Value in [0,1]\n",
      "end\n",
      "\n",
      "\"`HSB` (Hue-Saturation-Brightness) is an alias for `HSV`.\"\n",
      "const HSB = HSV\n",
      "\n",
      "\"`HSL` is the Hue-Saturation-Lightness colorspace.\"\n",
      "struct HSL{T<:AbstractFloat} <: Color{T,3}\n",
      "    h::T # Hue in [0,360)\n",
      "    s::T # Saturation in [0,1]\n",
      "    l::T # Lightness in [0,1]\n",
      "end\n",
      "\n",
      "\"`HSI` is the Hue-Saturation-Intensity colorspace.\"\n",
      "struct HSI{T<:AbstractFloat} <: Color{T,3}\n",
      "    h::T\n",
      "    s::T\n",
      "    i::T\n",
      "end\n",
      "\n",
      "\"\"\"\n",
      "`XYZ` is the CIE 1931 XYZ colorspace. It is a linear colorspace,\n",
      "meaning that mathematical operations such as addition, subtraction,\n",
      "and scaling make \"colorimetric sense\" in this colorspace.\n",
      "\"\"\"\n",
      "struct XYZ{T<:AbstractFloat} <: Color{T,3}\n",
      "    x::T\n",
      "    y::T\n",
      "    z::T\n",
      "end\n",
      "\n",
      "\"`xyY` is the CIE 1931 xyY (chromaticity + luminance) space\"\n",
      "struct xyY{T<:AbstractFloat} <: Color{T,3}\n",
      "    x::T\n",
      "    y::T\n",
      "    Y::T\n",
      "end\n",
      "\n",
      "\"`Lab` is the CIELAB colorspace.\"\n",
      "struct Lab{T<:AbstractFloat} <: Color{T,3}\n",
      "    l::T # Luminance in approximately [0,100]\n",
      "    a::T # Red/Green\n",
      "    b::T # Blue/Yellow\n",
      "end\n",
      "\n",
      "\"`LCHab` is the Luminance-Chroma-Hue, Polar-Lab colorspace\"\n",
      "struct LCHab{T<:AbstractFloat} <: Color{T,3}\n",
      "    l::T # Luminance in [0,100]\n",
      "    c::T # Chroma\n",
      "    h::T # Hue in [0,360)\n",
      "end\n",
      "\n",
      "\"`Luv` is the CIELUV colorspace\"\n",
      "struct Luv{T<:AbstractFloat} <: Color{T,3}\n",
      "    l::T # Luminance\n",
      "    u::T # Red/Green\n",
      "    v::T # Blue/Yellow\n",
      "end\n",
      "\n",
      "\"`LCHuv` is the Luminance-Chroma-Hue, Polar-Luv colorspace\"\n",
      "struct LCHuv{T<:AbstractFloat} <: Color{T,3}\n",
      "    l::T # Luminance\n",
      "    c::T # Chroma\n",
      "    h::T # Hue\n",
      "end\n",
      "\n",
      "\"`DIN99` is the (L99, a99, b99) adaptation of CIELAB\"\n",
      "struct DIN99{T<:AbstractFloat} <: Color{T,3}\n",
      "    l::T # L99\n",
      "    a::T # a99\n",
      "    b::T # b99\n",
      "end\n",
      "\n",
      "\"`DIN99d` is the (L99d, a99d, b99d) improvement on DIN99\"\n",
      "struct DIN99d{T<:AbstractFloat} <: Color{T,3}\n",
      "    l::T # L99d\n",
      "    a::T # a99d\n",
      "    b::T # b99d\n",
      "end\n",
      "\n",
      "\"`DIN99o` is the (L99o, a99o, b99o) adaptation of CIELAB\"\n",
      "struct DIN99o{T<:AbstractFloat} <: Color{T,3}\n",
      "    l::T # L99o\n",
      "    a::T # a99o\n",
      "    b::T # b99o\n",
      "end\n",
      "\n",
      "\"\"\"\n",
      "`LMS` is the Long-Medium-Short colorspace based on activation of the\n",
      "three cone photoreceptors.  Like `XYZ`, this is a linear color space.\n",
      "\"\"\"\n",
      "struct LMS{T<:AbstractFloat} <: Color{T,3}\n",
      "    l::T # Long\n",
      "    m::T # Medium\n",
      "    s::T # Short\n",
      "end\n",
      "\n",
      "\"`YIQ` is a color encoding, for example used in NTSC transmission.\"\n",
      "struct YIQ{T<:AbstractFloat} <: Color{T,3}\n",
      "    y::T\n",
      "    i::T\n",
      "    q::T\n",
      "end\n",
      "\n",
      "\"`YCbCr` is the Y'CbCr color encoding often used in digital photography or video\"\n",
      "struct YCbCr{T<:AbstractFloat} <: Color{T,3}\n",
      "    y::T\n",
      "    cb::T\n",
      "    cr::T\n",
      "end\n",
      "\n",
      "\"\"\"\n",
      "`RGB24` uses a `UInt32` representation of color, 0xAARRGGBB, where\n",
      "R=red, G=green, B=blue and A is irrelevant. This format is often used\n",
      "by external libraries such as Cairo.\n",
      "\n",
      "`RGB24` colors do not have fields named `r`, `g`, `b`, but you can\n",
      "still extract the individual components with `red(c)`, `green(c)`,\n",
      "`blue(c)`.  You can construct them directly from a `UInt32`, or as\n",
      "`RGB(r, g, b)`.\n",
      "\"\"\"\n",
      "struct RGB24 <: AbstractRGB{N0f8}\n",
      "    color::UInt32\n",
      "\n",
      "    RGB24(col::UInt32, ::Type{Val{true}}) = new(col)\n",
      "end\n",
      "# The Val{true} constructor solves a consistency problem, one that's\n",
      "# most obvious for Gray24: Gray24(x) interprets x as a value between 0\n",
      "# and 1; since a UInt32 can have value 0 or 1 (among other\n",
      "# possibilities), having Gray24(x::UInt32) mean something entirely\n",
      "# different (interpreting the UInt32 as a bit pattern rather than a\n",
      "# value) would be inconsistent, confusing, and error-prone. Because we\n",
      "# can construct an RGB24 from a grayscale value (just repeating the\n",
      "# value for all 3 color channels), the same problem extends to all the\n",
      "# \"24/32\" color types.\n",
      "\n",
      "# However, some constructors \"build\" RGB24s as a UInt32 bit pattern,\n",
      "# so we need some way of turning a UInt32 directly into an RGB24.\n",
      "# This is the role of the Val{true} constructor. This is an internal\n",
      "# implementation detail, and user code should not use it directly:\n",
      "# use reinterpret(RGB24, x::UInt32) instead. (The Val{true}\n",
      "# constructor is used to implement reinterpret, see traits.jl.)\n",
      "RGB24() = reinterpret(RGB24, UInt32(0))\n",
      "_RGB24(r::UInt8, g::UInt8, b::UInt8) = reinterpret(RGB24, UInt32(r)<<16 | UInt32(g)<<8 | UInt32(b))\n",
      "RGB24(r::N0f8, g::N0f8, b::N0f8) = _RGB24(reinterpret(r), reinterpret(g), reinterpret(b))\n",
      "function RGB24(r::Real, g::Real, b::Real)\n",
      "    checkval(N0f8, r, g, b)\n",
      "    RGB24(_rem(r,N0f8), _rem(g,N0f8), _rem(b,N0f8))\n",
      "end\n",
      "\n",
      "\"\"\"\n",
      "`ARGB32` uses a `UInt32` representation of color, 0xAARRGGBB, where\n",
      "R=red, G=green, B=blue and A is the alpha channel. This format is\n",
      "often used by external libraries such as Cairo.  On a little-endian\n",
      "machine, this type has the exact same storage format as `BGRA{N0f8}`.\n",
      "\n",
      "`ARGB32` colors do not have fields named `alpha`, `r`, `g`, `b`, but\n",
      "you can still extract the individual components with `alpha(c)`,\n",
      "`red(c)`, `green(c)`, `blue(c)`.  You can construct them directly from\n",
      "a `UInt32`, or as `ARGB32(r, g, b, alpha)`.\n",
      "\"\"\"\n",
      "struct ARGB32 <: AlphaColor{RGB24, N0f8, 4}\n",
      "    color::UInt32\n",
      "\n",
      "    ARGB32(col::UInt32, ::Type{Val{true}}) = new(col)\n",
      "end\n",
      "ARGB32() = reinterpret(ARGB32, UInt32(0xff)<<24)\n",
      "_ARGB32(r::UInt8, g::UInt8, b::UInt8, alpha::UInt8) = reinterpret(ARGB32, UInt32(alpha)<<24 | UInt32(r)<<16 | UInt32(g)<<8 | UInt32(b))\n",
      "ARGB32(r::N0f8, g::N0f8, b::N0f8, alpha::N0f8 = N0f8(1)) = _ARGB32(reinterpret(r), reinterpret(g), reinterpret(b), reinterpret(alpha))\n",
      "ARGB32(r, g, b, alpha = 1) = ARGB32(N0f8(r), N0f8(g), N0f8(b), N0f8(alpha))\n",
      "ARGB32(c::AbstractRGB{T}, alpha = alpha(c)) where {T} = ARGB32(red(c), green(c), blue(c), alpha)\n",
      "\n",
      "\"\"\"\n",
      "`Gray` is a grayscale object. You can extract its value with `gray(c)`.\n",
      "\"\"\"\n",
      "struct Gray{T<:Union{Fractional,Bool}} <: AbstractGray{T}\n",
      "    val::T\n",
      "\n",
      "    Gray{T}(val::T) where {T} = new{T}(val)\n",
      "    function Gray{T}(val::Real) where T\n",
      "        checkval(T, val)\n",
      "        new{T}(_rem(val,T))\n",
      "    end\n",
      "end\n",
      "Gray(val::T) where {T<:Union{Fractional,Bool}} = Gray{T}(val)\n",
      "\n",
      "\"\"\"\n",
      "`Gray24` uses a `UInt32` representation of color, 0xAAIIIIII, where\n",
      "I=intensity (grayscale value) and A is irrelevant. Each II pair is\n",
      "assumed to be the same.  This format is often used by external\n",
      "libraries such as Cairo.\n",
      "\n",
      "You can extract the single gray value with `gray(c)`.  You can\n",
      "construct them directly from a `UInt32`, or as `Gray24(i)`. Note that\n",
      "`i` is interpreted on a scale from 0 (black) to 1 (white).\n",
      "\"\"\"\n",
      "struct Gray24 <: AbstractGray{N0f8}\n",
      "    color::UInt32\n",
      "\n",
      "    Gray24(c::UInt32, ::Type{Val{true}}) = new(c)\n",
      "end\n"
     ]
    },
    {
     "name": "stdout",
     "output_type": "stream",
     "text": [
      "Gray24() = reinterpret(Gray24, UInt32(0))\n",
      "_Gray24(val::UInt8) = (g = UInt32(val); reinterpret(Gray24, g<<16 | g<<8 | g))\n",
      "Gray24(val::N0f8) = _Gray24(reinterpret(val))\n",
      "function Gray24(val::Real)\n",
      "    checkval(N0f8, val)\n",
      "    Gray24(val%N0f8)\n",
      "end\n",
      "\n",
      "\"\"\"\n",
      "`AGray32` uses a `UInt32` representation of color, 0xAAIIIIII, where\n",
      "I=intensity (grayscale value) and A=alpha. Each II pair is\n",
      "assumed to be the same.  This format is often used by external\n",
      "libraries such as Cairo.\n",
      "\n",
      "You can extract the single gray value with `gray(c)` and the alpha as\n",
      "`alpha(c)`.  You can construct them directly from a `UInt32`, or as\n",
      "`AGray32(i,alpha)`. Note that `i` and `alpha` are interpreted on a\n",
      "scale from 0 (black) to 1 (white).\n",
      "\"\"\"\n",
      "struct AGray32 <: AlphaColor{Gray24, N0f8, 2}\n",
      "    color::UInt32\n",
      "\n",
      "    AGray32(c::UInt32, ::Type{Val{true}}) = new(c)\n",
      "end\n",
      "AGray32() = reinterpret(AGray32, 0xff000000)\n",
      "_AGray32(val::UInt8, alpha::UInt8 = 0xff) = (g = UInt32(val); reinterpret(AGray32, UInt32(alpha)<<24 | g<<16 | g<<8 | g))\n",
      "AGray32(val::N0f8, alpha::N0f8 = N0f8(1)) = _AGray32(reinterpret(val), reinterpret(alpha))\n",
      "function AGray32(val::Real, alpha = 1)\n",
      "    checkval(N0f8, val, alpha)\n",
      "    AGray32(val%N0f8, alpha%N0f8)\n",
      "end\n",
      "function AGray32(g::Gray24, alpha = 1)\n",
      "    checkval(N0f8, alpha)\n",
      "    reinterpret(AGray32, UInt32(reinterpret(_rem(alpha,N0f8)))<<24 | g.color)\n",
      "end\n",
      "AGray32(g::AbstractGray, alpha = 1) = AGray32(gray(g), alpha)\n",
      "\n",
      "# Generated code:\n",
      "#   - more constructors for colors\n",
      "#   - TransparentColor definitions (e.g., ARGB), exports, and constructors\n",
      "#   - coloralpha(::Color) and alphacolor(::Color) traits for corresponding types\n",
      "\n",
      "# Note: with the exceptions of `alphacolor` and `coloralpha`, all\n",
      "# traits in the rest of this file are intended just for internal use\n",
      "\n",
      "const color3types = map(s->getfield(ColorTypes,s),\n",
      "  filter(names(ColorTypes, all=false)) do s\n",
      "    isdefined(ColorTypes, s) || return false\n",
      "    t = getfield(ColorTypes, s)\n",
      "    isa(t, Type) && t <: Colorant && !isabstracttype(t) && length(fieldnames(t))>1\n",
      "  end)\n",
      "# The above should have filtered out every non-DataType that's not also a\n",
      "# wrapped UnionAll-wrapped DataType. By avoiding the explicit UnionAll check\n",
      "# here, we remain compatible with pre-0.6 julia.\n",
      "const parametric3 = filter(x->!isa(x, DataType) || !isempty(x.parameters), color3types)\n",
      "\n",
      "# Provide the field names in the order expected by the constructor\n",
      "colorfields(::Type{C}) where {C<:Color} = (fieldnames(C)...,)\n",
      "colorfields(::Type{C}) where {C<:RGB1} = (:r, :g, :b)\n",
      "colorfields(::Type{C}) where {C<:RGB4} = (:r, :g, :b)\n",
      "colorfields(::Type{C}) where {C<:BGR } = (:r, :g, :b)\n",
      "colorfields(::Type{P}) where {P<:TransparentColor} = tuple(colorfields(color_type(P))..., :alpha)\n",
      "colorfields(c::Colorant) = colorfields(typeof(c))\n",
      "\n",
      "# Generate convenience constructors for a type\n",
      "macro make_constructors(C, fields, elty)\n",
      "    # elty = default element type when supplied with Integer arguments\n",
      "    fields = fields.args\n",
      "    Tfields = Expr[:($f::T) for f in fields]\n",
      "    realfields = Expr[:($f::Real) for f in fields]\n",
      "    zfields = zeros(Int, length(fields))\n",
      "    esc(quote\n",
      "        # More constructors for the non-alpha version\n",
      "        $C($(Tfields...)) where {T<:Integer} = $C{$elty}($(fields...))\n",
      "        $C($(realfields...)) = $C{promote_eltype($C, $(fields...))}($(fields...))\n",
      "        $C() = $C{$elty}($(zfields...))\n",
      "        # Conversion constructors\n",
      "        $C(x) = convert($C, x)\n",
      "        $C{T}(x) where T = convert($C{T}, x)\n",
      "    end)\n",
      "end\n",
      "\n",
      "# Generate transparent versions\n",
      "macro make_alpha(C, acol, cola, fields, constrfields, ub, elty)\n",
      "    # ub = upper-bound on T in C{T}\n",
      "    # elty = default element type when supplied with Integer arguments\n",
      "    fields = fields.args\n",
      "    constrfields = constrfields.args\n",
      "    N = length(fields)+1\n",
      "    Tfields       = Expr[:($f::T)    for f in fields]\n",
      "    Tconstrfields = Expr[:($f::T)    for f in constrfields]\n",
      "    realfields    = Expr[:($f::Real) for f in constrfields]\n",
      "    cfields       = Expr[:(c.$f)     for f in constrfields]\n",
      "    cinnerfields  = Expr[:(c.$f)     for f in fields]\n",
      "    remfields     = Expr[:(_rem($f,T)) for f in fields]\n",
      "    zfields       = zeros(Int, length(fields))\n",
      "    Tconstr = Expr(:<:, :T, ub)\n",
      "    exportexpr = Expr(:export, acol, cola)\n",
      "    convqualifier = C == :Gray ? :(x::Colorant) : :x\n",
      "    esc(quote\n",
      "        struct $acol{$Tconstr} <: AlphaColor{$C{T}, T, $N}\n",
      "            alpha::T\n",
      "            $(Tfields...)\n",
      "\n",
      "            $acol{T}($(Tconstrfields...), alpha::T=oneunit(T)) where {T} = new{T}(alpha, $(fields...))\n",
      "            function $acol{T}($(realfields...), alpha::Real=oneunit(T)) where T\n",
      "                checkval(T, $(fields...), alpha)\n",
      "                new{T}(_rem(alpha,T), $(remfields...))\n",
      "            end\n",
      "            $acol{T}(c::$C, alpha::Real=oneunit(T)) where {T} = $acol{T}($(cfields...), alpha)\n",
      "        end\n",
      "        struct $cola{$Tconstr} <: ColorAlpha{$C{T}, T, $N}\n",
      "            $(Tfields...)\n",
      "            alpha::T\n",
      "\n",
      "            $cola{T}($(Tconstrfields...), alpha::T=oneunit(T)) where {T} = new{T}($(fields...), alpha)\n",
      "            function $cola{T}($(realfields...), alpha::Real=oneunit(T)) where T\n",
      "                checkval(T, $(fields...), alpha)\n",
      "                new{T}($(remfields...), _rem(alpha,T))\n",
      "            end\n",
      "            $cola{T}(c::$C, alpha::Real=oneunit(T)) where {T} = $cola{T}($(cfields...), alpha)\n",
      "        end\n",
      "        $exportexpr\n",
      "        alphacolor(::Type{C}) where {C<:$C} = $acol\n",
      "        coloralpha(::Type{C}) where {C<:$C} = $cola\n",
      "\n",
      "        # More constructors for the alpha versions\n",
      "        $acol($(Tconstrfields...), alpha::T=1) where {T<:Integer} = $acol{$elty}($(fields...), alpha)\n",
      "        $acol(c::$C, alpha::Real=oneunit(eltype(c))) = $acol{eltype(c)}(c, alpha)\n",
      "        function $acol($(constrfields...))\n",
      "            p = promote($(constrfields...))\n",
      "            T = typeof(p[1])\n",
      "            $acol{T}(p...)\n",
      "        end\n",
      "        function $acol($(constrfields...), alpha::Real)\n",
      "            p = promote($(constrfields...), alpha)\n",
      "            T = typeof(p[1])\n",
      "            $acol{T}(p...)\n",
      "        end\n",
      "        $acol(c::Color, alpha::Real) = $acol($C(c), alpha)\n",
      "        $acol() = $acol{$elty}($(zfields...))\n",
      "        $acol($convqualifier) = convert($acol, x)\n",
      "        $acol{T}(x) where T = convert($acol{T}, x)\n",
      "\n",
      "        $cola($(Tconstrfields...), alpha::T=1) where {T<:Integer} = $cola{$elty}($(fields...), alpha)\n",
      "        $cola(c::$C, alpha::Real=oneunit(eltype(c))) = $cola{eltype(c)}(c, alpha)\n",
      "        function $cola($(constrfields...))\n",
      "            p = promote($(constrfields...))\n",
      "            T = typeof(p[1])\n",
      "            $cola{T}(p...)\n",
      "        end\n",
      "        function $cola($(constrfields...), alpha::Real)\n",
      "            p = promote($(constrfields...), alpha)\n",
      "            T = typeof(p[1])\n",
      "            $cola{T}(p...)\n",
      "        end\n",
      "        $cola(c::Color, alpha::Real) = $cola($C(c), alpha)\n",
      "        $cola() = $cola{$elty}($(zfields...))\n",
      "        $cola($convqualifier) = convert($cola, x)\n",
      "        $cola{T}(x) where T = convert($cola{T}, x)\n",
      "end)\n",
      "end\n",
      "\n",
      "eltype_default(::Type{C}) where {C<:AbstractRGB  } = N0f8\n",
      "eltype_default(::Type{C}) where {C<:AbstractGray } = N0f8\n",
      "eltype_default(::Type{C}) where {C<:Color  } = Float32\n",
      "eltype_default(::Type{P}) where {P<:Colorant        } = eltype_default(color_type(P))\n",
      "\n",
      "# Upper bound on element type for each color type\n",
      "eltype_ub(::Type{P}) where {P<:Colorant        } = eltype_ub(eltype_default(P))\n",
      "eltype_ub(::Type{T}) where {T<:FixedPoint   } = Fractional\n",
      "eltype_ub(::Type{T}) where {T<:AbstractFloat} = AbstractFloat\n",
      "\n",
      "@inline promote_eltype(::Type{C}, vals...) where {C<:Colorant} = _promote_eltype(eltype_ub(C), eltype_default(C), promote_type(map(typeof, vals)...))\n",
      "_promote_eltype(::Type{AbstractFloat}, ::Type{Tdef}, ::Type{T}) where {Tdef,T<:AbstractFloat} = T\n",
      "_promote_eltype(::Type{AbstractFloat}, ::Type{Tdef}, ::Type{T}) where {Tdef,T<:Real} = Tdef\n",
      "_promote_eltype(::Type{Fractional}, ::Type{Tdef}, ::Type{T}) where {Tdef,T<:Fractional} = T\n",
      "_promote_eltype(::Type{Fractional}, ::Type{Tdef}, ::Type{T}) where {Tdef,T<:Real} = Tdef\n",
      "\n",
      "ctypes = union(setdiff(parametric3, [RGB1,RGB4]), [Gray])\n",
      "\n",
      "# the arg list for C below should be identical to ctypes above.\n",
      "for (C, acol, cola) in [(DIN99d, :ADIN99d, :DIN99dA),\n",
      "                        (DIN99o, :ADIN99o, :DIN99oA),\n",
      "                        (DIN99, :ADIN99, :DIN99A),\n",
      "                        (HSI, :AHSI, :HSIA),\n",
      "                        (HSL, :AHSL, :HSLA),\n",
      "                        (HSV, :AHSV, :HSVA),\n",
      "                        (LCHab, :ALCHab, :LCHabA),\n",
      "                        (LCHuv, :ALCHuv, :LCHuvA),\n",
      "                        (LMS, :ALMS, :LMSA),\n",
      "                        (Lab, :ALab, :LabA),\n",
      "                        (Luv, :ALuv, :LuvA),\n",
      "                        (XYZ, :AXYZ, :XYZA),\n",
      "                        (YCbCr, :AYCbCr, :YCbCrA),\n",
      "                        (YIQ, :AYIQ, :YIQA),\n",
      "                        (xyY, :AxyY, :xyYA),\n",
      "                        (BGR, :ABGR, :BGRA),\n",
      "                        (RGB, :ARGB, :RGBA),\n",
      "                        (Gray, :AGray, :GrayA)]\n",
      "    fn  = Expr(:tuple, fieldnames(C)...)\n",
      "    cfn = Expr(:tuple, colorfields(C)...)\n",
      "    elty = eltype_default(C)\n",
      "    ub   = eltype_ub(C)\n",
      "    Csym = nameof(Base.unwrap_unionall(C))\n",
      "    @eval @make_constructors $Csym $fn $elty\n",
      "    @eval @make_alpha $Csym $acol $cola $fn $cfn $ub $elty\n",
      "end\n",
      "\n",
      "# RGB1 and RGB4 require special handling because of the alphadummy field\n",
      "@eval @make_constructors RGB1 (r,g,b) $N0f8\n",
      "@eval @make_constructors RGB4 (r,g,b) $N0f8\n",
      "\n",
      "const GrayLike = Union{Real,AbstractGray}\n",
      "\n",
      "for C in (RGB, BGR, RGB1, RGB4, RGB24)\n",
      "    @eval (::Type{$C})(r::GrayLike, g::GrayLike, b::GrayLike) = $C(gray(r), gray(g), gray(b))\n",
      "end\n",
      "for C in (RGB, BGR, RGB1, RGB4)\n",
      "    @eval (::Type{$C{T}})(r::GrayLike, g::GrayLike, b::GrayLike) where T = $C{T}(gray(r), gray(g), gray(b))\n",
      "end\n",
      "\n",
      "alphacolor(::Type{C}) where {C<:Gray24} = AGray32\n",
      "alphacolor(::Type{C}) where {C<:RGB24} = ARGB32\n",
      "alphacolor(::Type{C}) where {C<:RGB1} = ARGB\n",
      "alphacolor(::Type{C}) where {C<:RGB4} = ARGB\n",
      "coloralpha(::Type{C}) where {C<:RGB1} = RGBA\n",
      "coloralpha(::Type{C}) where {C<:RGB4} = RGBA\n",
      "\n",
      "\"\"\"\n",
      "`alphacolor(RGB)` returns `ARGB`, i.e., the corresponding transparent\n",
      "color type with storage order (alpha, color).\n",
      "\"\"\" alphacolor\n",
      "\n",
      "\"\"\"\n",
      "`coloralpha(RGB)` returns `RGBA`, i.e., the corresponding transparent\n",
      "color type with storage order (color, alpha).\n",
      "\"\"\" coloralpha\n",
      "\n",
      "### Validating the inputs for Normed constructors\n",
      "\n",
      "# Throw helpful errors in case of trouble. The inlining here is\n",
      "# carefully designed to reduce the impact on runtime performance, and\n",
      "# we also avoid splatting.\n",
      "\n",
      "@inline function isok(::Type{T}, x) where T<:Normed\n",
      "    Δ = eps(T)/2 # as long as the number rounds to a valid number, that's OK\n",
      "    (-Δ <= x) & (x < typemax(T)+Δ)\n",
      "end\n",
      "\n",
      "@inline checkval(::Type{T}, a) where {T<:Normed} = isok(T, a) || throw_colorerror(T, a)\n",
      "\n",
      "@inline function checkval(::Type{T}, a, b) where T<:Normed\n",
      "    isok(T, a) & isok(T, b) || throw_colorerror(T, a, b)\n",
      "end\n",
      "@inline function checkval(::Type{T}, a, b, c) where T<:Normed\n",
      "    isok(T, a) & isok(T, b) & isok(T, c) || throw_colorerror(T, a, b, c)\n",
      "end\n",
      "@inline function checkval(::Type{T}, a, b, c, d) where T<:Normed\n",
      "    isok(T, a) & isok(T, b) & isok(T, c) & isok(T, d) || throw_colorerror(T, a, b, c, d)\n",
      "end\n",
      "\n",
      "checkval(::Type{T}, a::T) where {T<:Normed} = nothing\n",
      "checkval(::Type{T}, a::T, b::T) where {T<:Normed} = nothing\n",
      "checkval(::Type{T}, a::T, b::T, c::T) where {T<:Normed} = nothing\n",
      "checkval(::Type{T}, a::T, b::T, c::T, d::T) where {T<:Normed} = nothing\n",
      "\n",
      "checkval(::Type{T}, a) where {T} = nothing\n",
      "checkval(::Type{T}, a, b) where {T} = nothing\n",
      "checkval(::Type{T}, a, b, c) where {T} = nothing\n",
      "checkval(::Type{T}, a, b, c, d) where {T} = nothing\n",
      "\n",
      "@noinline throw_colorerror(::Type{T}, g) where {T} = throw_colorerror(T, (g,))\n",
      "@noinline throw_colorerror(::Type{T}, g, a) where {T} = throw_colorerror(T, (g,a))\n",
      "@noinline throw_colorerror(::Type{T}, r, g, b) where {T} = throw_colorerror(T, (r, g, b))\n",
      "@noinline throw_colorerror(::Type{T}, r, g, b, a) where {T} = throw_colorerror(T, (r, g, b, a))\n",
      "\n",
      "function throw_colorerror_(::Type{T}, values) where T<:Normed\n",
      "    io = IOBuffer()\n",
      "    show(IOContext(io, :compact=>true), typemin(T)); Tmin = String(take!(io))\n",
      "    show(IOContext(io, :compact=>true), typemax(T)); Tmax = String(take!(io))\n",
      "    bitstring = sizeof(T) == 1 ? \"an 8-bit\" : \"a $(8*sizeof(T))-bit\"\n",
      "    throw(ArgumentError(\"\"\"\n",
      "element type $T is $bitstring type representing $(2^(8*sizeof(T))) values from $Tmin to $Tmax,\n",
      "  but the values $values do not lie within this range.\n",
      "  See the READMEs for FixedPointNumbers and ColorTypes for more information.\"\"\"))\n",
      "end\n",
      "\n",
      "function throw_colorerror(::Type{N0f8}, values::Tuple{Vararg{Integer}})\n",
      "    # Let's try to read the user's mind\n",
      "    if all(x->0<=x<=255, values)\n",
      "        if length(values) == 1\n",
      "            vstr = \"$(values[1]) is an integer\"\n",
      "            Tstr = \"Gray\"\n",
      "        else\n",
      "            vstr = \"$values are integers\"\n",
      "            if length(values) == 2\n",
      "                Tstr = \"AGray\"\n",
      "            elseif length(values) == 3\n",
      "                Tstr = \"RGB\"\n",
      "            else\n",
      "                Tstr = \"RGBA\"\n",
      "            end\n",
      "        end\n",
      "        args = join(map(v->\"$v/255\", values), ',')\n",
      "        throw(ArgumentError(\"\"\"\n",
      "$vstr in the range 0-255, but integer inputs are encoded with the N0f8\n",
      "  type, an 8-bit type representing 256 discrete values between 0 and 1.\n",
      "  Consider dividing your input values by 255, for example: $Tstr{N0f8}($args)\n",
      "  See the READMEs for FixedPointNumbers and ColorTypes for more information.\"\"\"))\n",
      "    end\n",
      "    throw_colorerror_(N0f8, values)\n",
      "end\n",
      "\n",
      "function throw_colorerror(::Type{T}, values::Tuple) where T<:Normed\n",
      "    throw_colorerror_(T, values)\n",
      "end\n",
      "\n",
      "_rem(x,::Type{T}) where {T<:Normed} = x % T\n",
      "_rem(x, ::Type{T}) where {T}        = x\n"
     ]
    }
   ],
   "source": [
    "@less RGB(1,1,0)"
   ]
  },
  {
   "cell_type": "code",
   "execution_count": 104,
   "metadata": {},
   "outputs": [
    {
     "data": {
      "text/latex": [
       "\\texttt{RGB} is the standard Red-Green-Blue (sRGB) colorspace.  Values of the individual color channels range from 0 (black) to 1 (saturated). If you want \"Integer\" storage types (e.g., 255 for full color), use \\texttt{N0f8(1)} instead (see FixedPointNumbers).\n",
       "\n"
      ],
      "text/markdown": [
       "`RGB` is the standard Red-Green-Blue (sRGB) colorspace.  Values of the individual color channels range from 0 (black) to 1 (saturated). If you want \"Integer\" storage types (e.g., 255 for full color), use `N0f8(1)` instead (see FixedPointNumbers).\n"
      ],
      "text/plain": [
       "  \u001b[36mRGB\u001b[39m is the standard Red-Green-Blue (sRGB) colorspace. Values of the\n",
       "  individual color channels range from 0 (black) to 1 (saturated). If you want\n",
       "  \"Integer\" storage types (e.g., 255 for full color), use \u001b[36mN0f8(1)\u001b[39m instead (see\n",
       "  FixedPointNumbers)."
      ]
     },
     "execution_count": 104,
     "metadata": {},
     "output_type": "execute_result"
    }
   ],
   "source": [
    "?RGB(1,1,0)"
   ]
  },
  {
   "cell_type": "code",
   "execution_count": 98,
   "metadata": {},
   "outputs": [
    {
     "ename": "UndefVarError",
     "evalue": "UndefVarError: FT not defined",
     "output_type": "error",
     "traceback": [
      "UndefVarError: FT not defined",
      "",
      "Stacktrace:",
      " [1] top-level scope at In[98]:1"
     ]
    }
   ],
   "source": [
    "struct FT\n",
    "    "
   ]
  },
  {
   "cell_type": "code",
   "execution_count": 107,
   "metadata": {},
   "outputs": [
    {
     "data": {
      "text/plain": [
       "RGB{FixedPointNumbers.Normed{UInt8,8}}"
      ]
     },
     "execution_count": 107,
     "metadata": {},
     "output_type": "execute_result"
    }
   ],
   "source": [
    "typeof(RGB(1,1,0))"
   ]
  },
  {
   "cell_type": "code",
   "execution_count": null,
   "metadata": {},
   "outputs": [],
   "source": [
    "RGB{Float64{}}"
   ]
  },
  {
   "cell_type": "code",
   "execution_count": 108,
   "metadata": {},
   "outputs": [
    {
     "ename": "UndefVarError",
     "evalue": "UndefVarError: FixedPointNumbers not defined",
     "output_type": "error",
     "traceback": [
      "UndefVarError: FixedPointNumbers not defined",
      "",
      "Stacktrace:",
      " [1] top-level scope at In[108]:1"
     ]
    }
   ],
   "source": [
    "FixedPointNumbers.Normed{UInt8,8}"
   ]
  },
  {
   "cell_type": "code",
   "execution_count": null,
   "metadata": {},
   "outputs": [],
   "source": []
  },
  {
   "cell_type": "code",
   "execution_count": null,
   "metadata": {},
   "outputs": [],
   "source": []
  },
  {
   "cell_type": "code",
   "execution_count": 86,
   "metadata": {},
   "outputs": [
    {
     "data": {
      "image/svg+xml": [
       "<?xml version=\"1.0\" encoding=\"UTF-8\"?>\n",
       "<!DOCTYPE svg PUBLIC \"-//W3C//DTD SVG 1.1//EN\"\n",
       " \"http://www.w3.org/Graphics/SVG/1.1/DTD/svg11.dtd\">\n",
       "<svg xmlns=\"http://www.w3.org/2000/svg\" version=\"1.1\"\n",
       "     width=\"25mm\" height=\"25mm\" viewBox=\"0 0 1 1\">\n",
       "     <rect width=\"1\" height=\"1\"\n",
       "           fill=\"#FF0000\" stroke=\"none\"/>\n",
       "</svg>\n"
      ],
      "text/plain": [
       "RGB{N0f8}(1.0,0.0,0.0)"
      ]
     },
     "execution_count": 86,
     "metadata": {},
     "output_type": "execute_result"
    }
   ],
   "source": [
    "convert(RGB,RGBA(1,0,0,1))"
   ]
  },
  {
   "cell_type": "code",
   "execution_count": null,
   "metadata": {},
   "outputs": [],
   "source": []
  },
  {
   "cell_type": "code",
   "execution_count": 113,
   "metadata": {},
   "outputs": [
    {
     "data": {
      "text/plain": [
       "UnionAll"
      ]
     },
     "execution_count": 113,
     "metadata": {},
     "output_type": "execute_result"
    }
   ],
   "source": [
    "typeof(RGB)"
   ]
  },
  {
   "cell_type": "code",
   "execution_count": 112,
   "metadata": {},
   "outputs": [
    {
     "data": {
      "text/plain": [
       "1.0N0f8"
      ]
     },
     "execution_count": 112,
     "metadata": {},
     "output_type": "execute_result"
    }
   ],
   "source": [
    "(RGB(1,1,1)).r"
   ]
  },
  {
   "cell_type": "code",
   "execution_count": null,
   "metadata": {},
   "outputs": [],
   "source": []
  },
  {
   "cell_type": "code",
   "execution_count": null,
   "metadata": {},
   "outputs": [],
   "source": []
  },
  {
   "cell_type": "code",
   "execution_count": 111,
   "metadata": {},
   "outputs": [
    {
     "ename": "ArgumentError",
     "evalue": "ArgumentError: Package FixedPointNumbers not found in current path:\n- Run `import Pkg; Pkg.add(\"FixedPointNumbers\")` to install the FixedPointNumbers package.\n",
     "output_type": "error",
     "traceback": [
      "ArgumentError: Package FixedPointNumbers not found in current path:\n- Run `import Pkg; Pkg.add(\"FixedPointNumbers\")` to install the FixedPointNumbers package.\n",
      "",
      "Stacktrace:",
      " [1] require(::Module, ::Symbol) at ./loading.jl:823",
      " [2] top-level scope at In[111]:1"
     ]
    }
   ],
   "source": [
    "using Fix"
   ]
  },
  {
   "cell_type": "code",
   "execution_count": null,
   "metadata": {},
   "outputs": [],
   "source": []
  },
  {
   "cell_type": "code",
   "execution_count": null,
   "metadata": {},
   "outputs": [],
   "source": []
  },
  {
   "cell_type": "code",
   "execution_count": 55,
   "metadata": {},
   "outputs": [
    {
     "name": "stdout",
     "output_type": "stream",
     "text": [
      "search: \u001b[0m\u001b[1mA\u001b[22m\u001b[0m\u001b[1mR\u001b[22m\u001b[0m\u001b[1mG\u001b[22m\u001b[0m\u001b[1mB\u001b[22m \u001b[0m\u001b[1mA\u001b[22m\u001b[0m\u001b[1mR\u001b[22m\u001b[0m\u001b[1mG\u001b[22m\u001b[0m\u001b[1mB\u001b[22m32 \u001b[0m\u001b[1mA\u001b[22mbst\u001b[0m\u001b[1mr\u001b[22mactR\u001b[0m\u001b[1mG\u001b[22m\u001b[0m\u001b[1mB\u001b[22m Tr\u001b[0m\u001b[1ma\u001b[22mnspa\u001b[0m\u001b[1mr\u001b[22mentR\u001b[0m\u001b[1mG\u001b[22m\u001b[0m\u001b[1mB\u001b[22m \u001b[0m\u001b[1mA\u001b[22m\u001b[0m\u001b[1mR\u001b[22m\u001b[0m\u001b[1mG\u001b[22mS \u001b[0m\u001b[1ma\u001b[22m\u001b[0m\u001b[1mr\u001b[22m\u001b[0m\u001b[1mg\u001b[22mmin \u001b[0m\u001b[1ma\u001b[22m\u001b[0m\u001b[1mr\u001b[22m\u001b[0m\u001b[1mg\u001b[22mmax \u001b[0m\u001b[1mA\u001b[22m\u001b[0m\u001b[1mr\u001b[22m\u001b[0m\u001b[1mg\u001b[22mumentError\n",
      "\n"
     ]
    },
    {
     "data": {
      "text/latex": [
       "No documentation found.\n",
       "\n",
       "\\texttt{ColorTypes.ARGB} is of type \\texttt{UnionAll}.\n",
       "\n",
       "\\section{Summary}\n",
       "\\begin{verbatim}\n",
       "struct UnionAll <: Type{T}\n",
       "\\end{verbatim}\n",
       "\\section{Fields}\n",
       "\\begin{verbatim}\n",
       "var  :: TypeVar\n",
       "body :: Any\n",
       "\\end{verbatim}\n",
       "\\section{Supertype Hierarchy}\n",
       "\\begin{verbatim}\n",
       "UnionAll <: Type{T} <: Any\n",
       "\\end{verbatim}\n"
      ],
      "text/markdown": [
       "No documentation found.\n",
       "\n",
       "`ColorTypes.ARGB` is of type `UnionAll`.\n",
       "\n",
       "# Summary\n",
       "\n",
       "```\n",
       "struct UnionAll <: Type{T}\n",
       "```\n",
       "\n",
       "# Fields\n",
       "\n",
       "```\n",
       "var  :: TypeVar\n",
       "body :: Any\n",
       "```\n",
       "\n",
       "# Supertype Hierarchy\n",
       "\n",
       "```\n",
       "UnionAll <: Type{T} <: Any\n",
       "```\n"
      ],
      "text/plain": [
       "  No documentation found.\n",
       "\n",
       "  \u001b[36mColorTypes.ARGB\u001b[39m is of type \u001b[36mUnionAll\u001b[39m.\n",
       "\n",
       "\u001b[1m  Summary\u001b[22m\n",
       "\u001b[1m  ≡≡≡≡≡≡≡≡≡\u001b[22m\n",
       "\n",
       "\u001b[36m  struct UnionAll <: Type{T}\u001b[39m\n",
       "\n",
       "\u001b[1m  Fields\u001b[22m\n",
       "\u001b[1m  ≡≡≡≡≡≡≡≡\u001b[22m\n",
       "\n",
       "\u001b[36m  var  :: TypeVar\u001b[39m\n",
       "\u001b[36m  body :: Any\u001b[39m\n",
       "\n",
       "\u001b[1m  Supertype Hierarchy\u001b[22m\n",
       "\u001b[1m  ≡≡≡≡≡≡≡≡≡≡≡≡≡≡≡≡≡≡≡≡≡\u001b[22m\n",
       "\n",
       "\u001b[36m  UnionAll <: Type{T} <: Any\u001b[39m"
      ]
     },
     "execution_count": 55,
     "metadata": {},
     "output_type": "execute_result"
    }
   ],
   "source": [
    "?ARGB"
   ]
  },
  {
   "cell_type": "code",
   "execution_count": null,
   "metadata": {},
   "outputs": [],
   "source": []
  },
  {
   "cell_type": "code",
   "execution_count": null,
   "metadata": {},
   "outputs": [],
   "source": []
  },
  {
   "cell_type": "code",
   "execution_count": 7,
   "metadata": {},
   "outputs": [
    {
     "data": {
      "text/plain": [
       "\"red\""
      ]
     },
     "execution_count": 7,
     "metadata": {},
     "output_type": "execute_result"
    }
   ],
   "source": [
    "\"red\""
   ]
  },
  {
   "cell_type": "code",
   "execution_count": 52,
   "metadata": {},
   "outputs": [
    {
     "data": {
      "text/plain": [
       "RGB{Float64}"
      ]
     },
     "execution_count": 52,
     "metadata": {},
     "output_type": "execute_result"
    }
   ],
   "source": [
    "typeof(convert(RGB, RGB(1, 0.5, 0.5)))"
   ]
  },
  {
   "cell_type": "code",
   "execution_count": 11,
   "metadata": {},
   "outputs": [
    {
     "data": {
      "text/plain": [
       "HSL{Float64}"
      ]
     },
     "execution_count": 11,
     "metadata": {},
     "output_type": "execute_result"
    }
   ],
   "source": [
    "typeof(HSL(270, 0.5, 0.5))"
   ]
  },
  {
   "cell_type": "code",
   "execution_count": 12,
   "metadata": {},
   "outputs": [
    {
     "name": "stdout",
     "output_type": "stream",
     "text": [
      "search: \u001b[0m\u001b[1mH\u001b[22m\u001b[0m\u001b[1mS\u001b[22m\u001b[0m\u001b[1mL\u001b[22m \u001b[0m\u001b[1mH\u001b[22m\u001b[0m\u001b[1mS\u001b[22m\u001b[0m\u001b[1mL\u001b[22mA A\u001b[0m\u001b[1mH\u001b[22m\u001b[0m\u001b[1mS\u001b[22m\u001b[0m\u001b[1mL\u001b[22m eac\u001b[0m\u001b[1mh\u001b[22m\u001b[0m\u001b[1ms\u001b[22m\u001b[0m\u001b[1ml\u001b[22mice pus\u001b[0m\u001b[1mh\u001b[22mdi\u001b[0m\u001b[1ms\u001b[22mp\u001b[0m\u001b[1ml\u001b[22may searc\u001b[0m\u001b[1mh\u001b[22m\u001b[0m\u001b[1ms\u001b[22morted\u001b[0m\u001b[1ml\u001b[22mast @\u001b[0m\u001b[1mh\u001b[22mtml_\u001b[0m\u001b[1ms\u001b[22mtr\n",
      "\n"
     ]
    },
    {
     "data": {
      "text/latex": [
       "\\texttt{HSL} is the Hue-Saturation-Lightness colorspace.\n",
       "\n"
      ],
      "text/markdown": [
       "`HSL` is the Hue-Saturation-Lightness colorspace.\n"
      ],
      "text/plain": [
       "  \u001b[36mHSL\u001b[39m is the Hue-Saturation-Lightness colorspace."
      ]
     },
     "execution_count": 12,
     "metadata": {},
     "output_type": "execute_result"
    }
   ],
   "source": [
    "?HSL"
   ]
  },
  {
   "cell_type": "code",
   "execution_count": 13,
   "metadata": {},
   "outputs": [
    {
     "name": "stdout",
     "output_type": "stream",
     "text": [
      "search: \u001b[0m\u001b[1ml\u001b[22m\u001b[0m\u001b[1me\u001b[22m\u001b[0m\u001b[1ms\u001b[22m\u001b[0m\u001b[1ms\u001b[22m @\u001b[0m\u001b[1ml\u001b[22m\u001b[0m\u001b[1me\u001b[22m\u001b[0m\u001b[1ms\u001b[22m\u001b[0m\u001b[1ms\u001b[22m is\u001b[0m\u001b[1ml\u001b[22m\u001b[0m\u001b[1me\u001b[22m\u001b[0m\u001b[1ms\u001b[22m\u001b[0m\u001b[1ms\u001b[22m \u001b[0m\u001b[1ml\u001b[22mow\u001b[0m\u001b[1me\u001b[22mrca\u001b[0m\u001b[1ms\u001b[22mefir\u001b[0m\u001b[1ms\u001b[22mt fi\u001b[0m\u001b[1ml\u001b[22m\u001b[0m\u001b[1me\u001b[22m\u001b[0m\u001b[1ms\u001b[22mize coa\u001b[0m\u001b[1ml\u001b[22m\u001b[0m\u001b[1me\u001b[22m\u001b[0m\u001b[1ms\u001b[22mce va\u001b[0m\u001b[1ml\u001b[22mu\u001b[0m\u001b[1me\u001b[22m\u001b[0m\u001b[1ms\u001b[22m fa\u001b[0m\u001b[1ml\u001b[22ms\u001b[0m\u001b[1me\u001b[22m\u001b[0m\u001b[1ms\u001b[22m\n",
      "\n"
     ]
    },
    {
     "data": {
      "text/latex": [
       "\\begin{verbatim}\n",
       "less(file::AbstractString, [line::Integer])\n",
       "\\end{verbatim}\n",
       "Show a file using the default pager, optionally providing a starting line number. Returns to the \\texttt{julia} prompt when you quit the pager.\n",
       "\n",
       "\\rule{\\textwidth}{1pt}\n",
       "\\begin{verbatim}\n",
       "less(function, [types])\n",
       "\\end{verbatim}\n",
       "Show the definition of a function using the default pager, optionally specifying a tuple of types to indicate which method to see.\n",
       "\n"
      ],
      "text/markdown": [
       "```\n",
       "less(file::AbstractString, [line::Integer])\n",
       "```\n",
       "\n",
       "Show a file using the default pager, optionally providing a starting line number. Returns to the `julia` prompt when you quit the pager.\n",
       "\n",
       "---\n",
       "\n",
       "```\n",
       "less(function, [types])\n",
       "```\n",
       "\n",
       "Show the definition of a function using the default pager, optionally specifying a tuple of types to indicate which method to see.\n"
      ],
      "text/plain": [
       "\u001b[36m  less(file::AbstractString, [line::Integer])\u001b[39m\n",
       "\n",
       "  Show a file using the default pager, optionally providing a starting line\n",
       "  number. Returns to the \u001b[36mjulia\u001b[39m prompt when you quit the pager.\n",
       "\n",
       "  ────────────────────────────────────────────────────────────────────────────\n",
       "\n",
       "\u001b[36m  less(function, [types])\u001b[39m\n",
       "\n",
       "  Show the definition of a function using the default pager, optionally\n",
       "  specifying a tuple of types to indicate which method to see."
      ]
     },
     "execution_count": 13,
     "metadata": {},
     "output_type": "execute_result"
    }
   ],
   "source": [
    "?less"
   ]
  },
  {
   "cell_type": "code",
   "execution_count": 15,
   "metadata": {},
   "outputs": [
    {
     "data": {
      "image/svg+xml": [
       "<?xml version=\"1.0\" encoding=\"UTF-8\"?>\n",
       "<!DOCTYPE svg PUBLIC \"-//W3C//DTD SVG 1.1//EN\"\n",
       " \"http://www.w3.org/Graphics/SVG/1.1/DTD/svg11.dtd\">\n",
       "<svg xmlns=\"http://www.w3.org/2000/svg\" version=\"1.1\"\n",
       "     width=\"25mm\" height=\"25mm\" viewBox=\"0 0 1 1\">\n",
       "     <rect width=\"1\" height=\"1\"\n",
       "           fill=\"#FF0000\" stroke=\"none\"/>\n",
       "</svg>\n"
      ],
      "text/plain": [
       "RGB{N0f8}(1.0,0.0,0.0)"
      ]
     },
     "execution_count": 15,
     "metadata": {},
     "output_type": "execute_result"
    }
   ],
   "source": [
    "ほげ=colorant\"#FF0000\""
   ]
  },
  {
   "cell_type": "code",
   "execution_count": 20,
   "metadata": {},
   "outputs": [
    {
     "data": {
      "text/plain": [
       "FixedPointNumbers.Normed{UInt8,8}"
      ]
     },
     "execution_count": 20,
     "metadata": {},
     "output_type": "execute_result"
    }
   ],
   "source": [
    "typeof(ほげ.r)"
   ]
  },
  {
   "cell_type": "code",
   "execution_count": 23,
   "metadata": {},
   "outputs": [
    {
     "data": {
      "text/plain": [
       "1.0"
      ]
     },
     "execution_count": 23,
     "metadata": {},
     "output_type": "execute_result"
    }
   ],
   "source": [
    "Float64(ほげ.r)"
   ]
  },
  {
   "cell_type": "code",
   "execution_count": 25,
   "metadata": {},
   "outputs": [
    {
     "name": "stdout",
     "output_type": "stream",
     "text": [
      "search: \u001b[0m\u001b[1mC\u001b[22m\u001b[0m\u001b[1mo\u001b[22m\u001b[0m\u001b[1ml\u001b[22m\u001b[0m\u001b[1mo\u001b[22m\u001b[0m\u001b[1mr\u001b[22m\u001b[0m\u001b[1ma\u001b[22m\u001b[0m\u001b[1mn\u001b[22m\u001b[0m\u001b[1mt\u001b[22m \u001b[0m\u001b[1mC\u001b[22m\u001b[0m\u001b[1mo\u001b[22m\u001b[0m\u001b[1ml\u001b[22m\u001b[0m\u001b[1mo\u001b[22m\u001b[0m\u001b[1mr\u001b[22m\u001b[0m\u001b[1ma\u001b[22m\u001b[0m\u001b[1mn\u001b[22m\u001b[0m\u001b[1mt\u001b[22mNormed @\u001b[0m\u001b[1mc\u001b[22m\u001b[0m\u001b[1mo\u001b[22m\u001b[0m\u001b[1ml\u001b[22m\u001b[0m\u001b[1mo\u001b[22m\u001b[0m\u001b[1mr\u001b[22m\u001b[0m\u001b[1ma\u001b[22m\u001b[0m\u001b[1mn\u001b[22m\u001b[0m\u001b[1mt\u001b[22m_str base_\u001b[0m\u001b[1mc\u001b[22m\u001b[0m\u001b[1mo\u001b[22m\u001b[0m\u001b[1ml\u001b[22m\u001b[0m\u001b[1mo\u001b[22m\u001b[0m\u001b[1mr\u001b[22m\u001b[0m\u001b[1ma\u001b[22m\u001b[0m\u001b[1mn\u001b[22m\u001b[0m\u001b[1mt\u001b[22m_type\n",
      "\n"
     ]
    },
    {
     "data": {
      "text/latex": [
       "\\texttt{Colorant\\{T,N\\}} is the abstract super-type of all types in ColorTypes, and refers to both (opaque) colors and colors-with-transparency (alpha channel) information.  \\texttt{T} is the element type (extractable with \\texttt{eltype}) and \\texttt{N} is the number of \\emph{meaningful} entries (extractable with \\texttt{length}), i.e., the number of arguments you would supply to the constructor.\n",
       "\n"
      ],
      "text/markdown": [
       "`Colorant{T,N}` is the abstract super-type of all types in ColorTypes, and refers to both (opaque) colors and colors-with-transparency (alpha channel) information.  `T` is the element type (extractable with `eltype`) and `N` is the number of *meaningful* entries (extractable with `length`), i.e., the number of arguments you would supply to the constructor.\n"
      ],
      "text/plain": [
       "  \u001b[36mColorant{T,N}\u001b[39m is the abstract super-type of all types in ColorTypes, and\n",
       "  refers to both (opaque) colors and colors-with-transparency (alpha channel)\n",
       "  information. \u001b[36mT\u001b[39m is the element type (extractable with \u001b[36meltype\u001b[39m) and \u001b[36mN\u001b[39m is the\n",
       "  number of \u001b[4mmeaningful\u001b[24m entries (extractable with \u001b[36mlength\u001b[39m), i.e., the number of\n",
       "  arguments you would supply to the constructor."
      ]
     },
     "execution_count": 25,
     "metadata": {},
     "output_type": "execute_result"
    }
   ],
   "source": [
    "?Colorant"
   ]
  },
  {
   "cell_type": "code",
   "execution_count": 27,
   "metadata": {},
   "outputs": [
    {
     "name": "stdout",
     "output_type": "stream",
     "text": [
      "search:\n",
      "\n",
      "Couldn't find \u001b[36mN0f8\u001b[39m\n",
      "Perhaps you meant NaN, Inf, Int8, diff, eof, fd, Ref, if or NaN16\n"
     ]
    },
    {
     "data": {
      "text/latex": [
       "No documentation found.\n",
       "\n",
       "Binding \\texttt{N0f8} does not exist.\n",
       "\n"
      ],
      "text/markdown": [
       "No documentation found.\n",
       "\n",
       "Binding `N0f8` does not exist.\n"
      ],
      "text/plain": [
       "  No documentation found.\n",
       "\n",
       "  Binding \u001b[36mN0f8\u001b[39m does not exist."
      ]
     },
     "execution_count": 27,
     "metadata": {},
     "output_type": "execute_result"
    }
   ],
   "source": [
    "?N0f8"
   ]
  },
  {
   "cell_type": "code",
   "execution_count": 28,
   "metadata": {},
   "outputs": [
    {
     "ename": "UndefVarError",
     "evalue": "UndefVarError: N0f8 not defined",
     "output_type": "error",
     "traceback": [
      "UndefVarError: N0f8 not defined",
      "",
      "Stacktrace:",
      " [1] top-level scope at In[28]:1"
     ]
    }
   ],
   "source": [
    "RGB{N0f8}(1.0, 0.0, 0.0)"
   ]
  },
  {
   "cell_type": "code",
   "execution_count": 29,
   "metadata": {},
   "outputs": [
    {
     "data": {
      "image/svg+xml": [
       "<?xml version=\"1.0\" encoding=\"UTF-8\"?>\n",
       "<!DOCTYPE svg PUBLIC \"-//W3C//DTD SVG 1.1//EN\"\n",
       " \"http://www.w3.org/Graphics/SVG/1.1/DTD/svg11.dtd\">\n",
       "<svg xmlns=\"http://www.w3.org/2000/svg\" version=\"1.1\"\n",
       "     width=\"25mm\" height=\"25mm\" viewBox=\"0 0 1 1\">\n",
       "     <rect width=\"1\" height=\"1\"\n",
       "           fill=\"#FF0000\" stroke=\"none\"/>\n",
       "</svg>\n"
      ],
      "text/plain": [
       "RGB{N0f8}(1.0,0.0,0.0)"
      ]
     },
     "execution_count": 29,
     "metadata": {},
     "output_type": "execute_result"
    }
   ],
   "source": [
    "c = colorant\"red\""
   ]
  },
  {
   "cell_type": "code",
   "execution_count": 30,
   "metadata": {},
   "outputs": [
    {
     "name": "stdout",
     "output_type": "stream",
     "text": [
      "search: \u001b[0m\u001b[1mc\u001b[22m \u001b[0m\u001b[1mc\u001b[22mp \u001b[0m\u001b[1mc\u001b[22md \u001b[0m\u001b[1mc\u001b[22msc \u001b[0m\u001b[1mc\u001b[22mot \u001b[0m\u001b[1mc\u001b[22mos \u001b[0m\u001b[1mc\u001b[22mmp \u001b[0m\u001b[1mc\u001b[22mld \u001b[0m\u001b[1mc\u001b[22mis \u001b[0m\u001b[1mc\u001b[22mat \u001b[0m\u001b[1mc\u001b[22msch \u001b[0m\u001b[1mc\u001b[22mscd \u001b[0m\u001b[1mc\u001b[22moth \u001b[0m\u001b[1mc\u001b[22motd \u001b[0m\u001b[1mc\u001b[22mosh \u001b[0m\u001b[1mc\u001b[22mosd \u001b[0m\u001b[1mc\u001b[22mosc\n",
      "\n"
     ]
    },
    {
     "data": {
      "text/latex": [
       "No documentation found.\n",
       "\n",
       "\\texttt{c} is of type \\texttt{RGB\\{FixedPointNumbers.Normed\\{UInt8,8\\}\\}}.\n",
       "\n",
       "\\section{Summary}\n",
       "\\begin{verbatim}\n",
       "struct RGB{FixedPointNumbers.Normed{UInt8,8}} <: AbstractRGB{FixedPointNumbers.Normed{UInt8,8}}\n",
       "\\end{verbatim}\n",
       "\\section{Fields}\n",
       "\\begin{verbatim}\n",
       "r :: FixedPointNumbers.Normed{UInt8,8}\n",
       "g :: FixedPointNumbers.Normed{UInt8,8}\n",
       "b :: FixedPointNumbers.Normed{UInt8,8}\n",
       "\\end{verbatim}\n",
       "\\section{Supertype Hierarchy}\n",
       "\\begin{verbatim}\n",
       "RGB{FixedPointNumbers.Normed{UInt8,8}} <: AbstractRGB{FixedPointNumbers.Normed{UInt8,8}} <: Color{FixedPointNumbers.Normed{UInt8,8},3} <: Colorant{FixedPointNumbers.Normed{UInt8,8},3} <: Any\n",
       "\\end{verbatim}\n"
      ],
      "text/markdown": [
       "No documentation found.\n",
       "\n",
       "`c` is of type `RGB{FixedPointNumbers.Normed{UInt8,8}}`.\n",
       "\n",
       "# Summary\n",
       "\n",
       "```\n",
       "struct RGB{FixedPointNumbers.Normed{UInt8,8}} <: AbstractRGB{FixedPointNumbers.Normed{UInt8,8}}\n",
       "```\n",
       "\n",
       "# Fields\n",
       "\n",
       "```\n",
       "r :: FixedPointNumbers.Normed{UInt8,8}\n",
       "g :: FixedPointNumbers.Normed{UInt8,8}\n",
       "b :: FixedPointNumbers.Normed{UInt8,8}\n",
       "```\n",
       "\n",
       "# Supertype Hierarchy\n",
       "\n",
       "```\n",
       "RGB{FixedPointNumbers.Normed{UInt8,8}} <: AbstractRGB{FixedPointNumbers.Normed{UInt8,8}} <: Color{FixedPointNumbers.Normed{UInt8,8},3} <: Colorant{FixedPointNumbers.Normed{UInt8,8},3} <: Any\n",
       "```\n"
      ],
      "text/plain": [
       "  No documentation found.\n",
       "\n",
       "  \u001b[36mc\u001b[39m is of type \u001b[36mRGB{FixedPointNumbers.Normed{UInt8,8}}\u001b[39m.\n",
       "\n",
       "\u001b[1m  Summary\u001b[22m\n",
       "\u001b[1m  ≡≡≡≡≡≡≡≡≡\u001b[22m\n",
       "\n",
       "\u001b[36m  struct RGB{FixedPointNumbers.Normed{UInt8,8}} <: AbstractRGB{FixedPointNumbers.Normed{UInt8,8}}\u001b[39m\n",
       "\n",
       "\u001b[1m  Fields\u001b[22m\n",
       "\u001b[1m  ≡≡≡≡≡≡≡≡\u001b[22m\n",
       "\n",
       "\u001b[36m  r :: FixedPointNumbers.Normed{UInt8,8}\u001b[39m\n",
       "\u001b[36m  g :: FixedPointNumbers.Normed{UInt8,8}\u001b[39m\n",
       "\u001b[36m  b :: FixedPointNumbers.Normed{UInt8,8}\u001b[39m\n",
       "\n",
       "\u001b[1m  Supertype Hierarchy\u001b[22m\n",
       "\u001b[1m  ≡≡≡≡≡≡≡≡≡≡≡≡≡≡≡≡≡≡≡≡≡\u001b[22m\n",
       "\n",
       "\u001b[36m  RGB{FixedPointNumbers.Normed{UInt8,8}} <: AbstractRGB{FixedPointNumbers.Normed{UInt8,8}} <: Color{FixedPointNumbers.Normed{UInt8,8},3} <: Colorant{FixedPointNumbers.Normed{UInt8,8},3} <: Any\u001b[39m"
      ]
     },
     "execution_count": 30,
     "metadata": {},
     "output_type": "execute_result"
    }
   ],
   "source": [
    "?c"
   ]
  },
  {
   "cell_type": "code",
   "execution_count": 35,
   "metadata": {},
   "outputs": [
    {
     "data": {
      "image/svg+xml": [
       "<?xml version=\"1.0\" encoding=\"UTF-8\"?>\n",
       "<!DOCTYPE svg PUBLIC \"-//W3C//DTD SVG 1.1//EN\"\n",
       " \"http://www.w3.org/Graphics/SVG/1.1/DTD/svg11.dtd\">\n",
       "<svg xmlns=\"http://www.w3.org/2000/svg\" version=\"1.1\"\n",
       "     width=\"25mm\" height=\"25mm\" viewBox=\"0 0 1 1\">\n",
       "     <rect width=\"1\" height=\"1\"\n",
       "           fill=\"#FF0000\" stroke=\"none\"/>\n",
       "</svg>\n"
      ],
      "text/plain": [
       "RGB{N0f8}(1.0,0.0,0.0)"
      ]
     },
     "execution_count": 35,
     "metadata": {},
     "output_type": "execute_result"
    }
   ],
   "source": [
    "c.r"
   ]
  },
  {
   "cell_type": "code",
   "execution_count": 36,
   "metadata": {},
   "outputs": [
    {
     "data": {
      "text/plain": [
       "Base.RefValue{RGB{FixedPointNumbers.Normed{UInt8,8}}}(RGB{N0f8}(1.0,0.0,0.0))"
      ]
     },
     "execution_count": 36,
     "metadata": {},
     "output_type": "execute_result"
    }
   ],
   "source": [
    "Base.broadcastable(c)"
   ]
  },
  {
   "cell_type": "code",
   "execution_count": 38,
   "metadata": {},
   "outputs": [
    {
     "data": {
      "text/latex": [
       "\\begin{verbatim}\n",
       "Broadcast.broadcastable(x)\n",
       "\\end{verbatim}\n",
       "Return either \\texttt{x} or an object like \\texttt{x} such that it supports \\href{@ref}{\\texttt{axes}}, indexing, and its type supports \\href{@ref}{\\texttt{ndims}}.\n",
       "\n",
       "If \\texttt{x} supports iteration, the returned value should have the same \\texttt{axes} and indexing behaviors as \\href{@ref}{\\texttt{collect(x)}}.\n",
       "\n",
       "If \\texttt{x} is not an \\texttt{AbstractArray} but it supports \\texttt{axes}, indexing, and its type supports \\texttt{ndims}, then \\texttt{broadcastable(::typeof(x))} may be implemented to just return itself. Further, if \\texttt{x} defines its own \\href{@ref}{\\texttt{BroadcastStyle}}, then it must define its \\texttt{broadcastable} method to return itself for the custom style to have any effect.\n",
       "\n",
       "\\section{Examples}\n",
       "\\begin{verbatim}\n",
       "julia> Broadcast.broadcastable([1,2,3]) # like `identity` since arrays already support axes and indexing\n",
       "3-element Array{Int64,1}:\n",
       " 1\n",
       " 2\n",
       " 3\n",
       "\n",
       "julia> Broadcast.broadcastable(Int) # Types don't support axes, indexing, or iteration but are commonly used as scalars\n",
       "Base.RefValue{Type{Int64}}(Int64)\n",
       "\n",
       "julia> Broadcast.broadcastable(\"hello\") # Strings break convention of matching iteration and act like a scalar instead\n",
       "Base.RefValue{String}(\"hello\")\n",
       "\\end{verbatim}\n"
      ],
      "text/markdown": [
       "```\n",
       "Broadcast.broadcastable(x)\n",
       "```\n",
       "\n",
       "Return either `x` or an object like `x` such that it supports [`axes`](@ref), indexing, and its type supports [`ndims`](@ref).\n",
       "\n",
       "If `x` supports iteration, the returned value should have the same `axes` and indexing behaviors as [`collect(x)`](@ref).\n",
       "\n",
       "If `x` is not an `AbstractArray` but it supports `axes`, indexing, and its type supports `ndims`, then `broadcastable(::typeof(x))` may be implemented to just return itself. Further, if `x` defines its own [`BroadcastStyle`](@ref), then it must define its `broadcastable` method to return itself for the custom style to have any effect.\n",
       "\n",
       "# Examples\n",
       "\n",
       "```jldoctest\n",
       "julia> Broadcast.broadcastable([1,2,3]) # like `identity` since arrays already support axes and indexing\n",
       "3-element Array{Int64,1}:\n",
       " 1\n",
       " 2\n",
       " 3\n",
       "\n",
       "julia> Broadcast.broadcastable(Int) # Types don't support axes, indexing, or iteration but are commonly used as scalars\n",
       "Base.RefValue{Type{Int64}}(Int64)\n",
       "\n",
       "julia> Broadcast.broadcastable(\"hello\") # Strings break convention of matching iteration and act like a scalar instead\n",
       "Base.RefValue{String}(\"hello\")\n",
       "```\n"
      ],
      "text/plain": [
       "\u001b[36m  Broadcast.broadcastable(x)\u001b[39m\n",
       "\n",
       "  Return either \u001b[36mx\u001b[39m or an object like \u001b[36mx\u001b[39m such that it supports \u001b[36maxes\u001b[39m, indexing,\n",
       "  and its type supports \u001b[36mndims\u001b[39m.\n",
       "\n",
       "  If \u001b[36mx\u001b[39m supports iteration, the returned value should have the same \u001b[36maxes\u001b[39m and\n",
       "  indexing behaviors as \u001b[36mcollect(x)\u001b[39m.\n",
       "\n",
       "  If \u001b[36mx\u001b[39m is not an \u001b[36mAbstractArray\u001b[39m but it supports \u001b[36maxes\u001b[39m, indexing, and its type\n",
       "  supports \u001b[36mndims\u001b[39m, then \u001b[36mbroadcastable(::typeof(x))\u001b[39m may be implemented to just\n",
       "  return itself. Further, if \u001b[36mx\u001b[39m defines its own \u001b[36mBroadcastStyle\u001b[39m, then it must\n",
       "  define its \u001b[36mbroadcastable\u001b[39m method to return itself for the custom style to\n",
       "  have any effect.\n",
       "\n",
       "\u001b[1m  Examples\u001b[22m\n",
       "\u001b[1m  ≡≡≡≡≡≡≡≡≡≡\u001b[22m\n",
       "\n",
       "\u001b[36m  julia> Broadcast.broadcastable([1,2,3]) # like `identity` since arrays already support axes and indexing\u001b[39m\n",
       "\u001b[36m  3-element Array{Int64,1}:\u001b[39m\n",
       "\u001b[36m   1\u001b[39m\n",
       "\u001b[36m   2\u001b[39m\n",
       "\u001b[36m   3\u001b[39m\n",
       "\u001b[36m  \u001b[39m\n",
       "\u001b[36m  julia> Broadcast.broadcastable(Int) # Types don't support axes, indexing, or iteration but are commonly used as scalars\u001b[39m\n",
       "\u001b[36m  Base.RefValue{Type{Int64}}(Int64)\u001b[39m\n",
       "\u001b[36m  \u001b[39m\n",
       "\u001b[36m  julia> Broadcast.broadcastable(\"hello\") # Strings break convention of matching iteration and act like a scalar instead\u001b[39m\n",
       "\u001b[36m  Base.RefValue{String}(\"hello\")\u001b[39m"
      ]
     },
     "execution_count": 38,
     "metadata": {},
     "output_type": "execute_result"
    }
   ],
   "source": [
    "?Base.broadcastable"
   ]
  },
  {
   "cell_type": "code",
   "execution_count": null,
   "metadata": {},
   "outputs": [],
   "source": []
  }
 ],
 "metadata": {
  "kernelspec": {
   "display_name": "Julia 1.1.0",
   "language": "julia",
   "name": "julia-1.1"
  },
  "language_info": {
   "file_extension": ".jl",
   "mimetype": "application/julia",
   "name": "julia",
   "version": "1.1.0"
  }
 },
 "nbformat": 4,
 "nbformat_minor": 2
}
