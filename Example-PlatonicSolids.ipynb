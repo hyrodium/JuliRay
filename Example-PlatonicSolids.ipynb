{
 "cells": [
  {
   "cell_type": "code",
   "execution_count": null,
   "metadata": {},
   "outputs": [],
   "source": [
    "include(\"JuliRay.jl\")\n",
    "φ=MathConstants.φ"
   ]
  },
  {
   "cell_type": "code",
   "execution_count": null,
   "metadata": {},
   "outputs": [],
   "source": [
    "# Tetrahedron\n",
    "vertices=[[1.0,1.0,1.0],[1.0,-1.0,-1.0],[-1.0,1.0,-1.0],[-1.0,-1.0,1.0]]\n",
    "edges=[[1,2],[1,3],[1,4],[2,3],[2,4],[3,4]]\n",
    "faces=[[2,3,4],[1,3,4],[1,2,4],[1,2,3]]\n",
    "\n",
    "V=rgbColor(csgUnion((p->Sphere(p,0.05)).(vertices)),RGB(0.1,0.1,0.1))\n",
    "E=rgbColor(csgUnion([Cylinder(vertices[I...],vertices[J...],0.025) for (I,J) in edges]),RGB(0.2,0.2,0.2))\n",
    "F=rgbftColor(csgUnion([Polygon((i->vertices[i]).(I)) for I in faces]),RGB(1,0,0),FT(0.2,0.2))\n",
    "render(csgUnion(V,E,F),camera=LngLatCamera(lng=π/5,lat=π/5,pers=0.2,zoom=0.25),name=\"4\")"
   ]
  },
  {
   "cell_type": "code",
   "execution_count": null,
   "metadata": {},
   "outputs": [],
   "source": [
    "# Cube\n",
    "vertices=[[[i,j,k] for i ∈ [1,-1], j ∈ [1,-1], k ∈ [1,-1]]...]\n",
    "edges=[[[1+i+j,2+i+j] for i ∈ [0,2], j ∈ [0,4]]...]\n",
    "edges=vcat(edges,[[[1+i+j,3+i+j] for i ∈ [0,1], j ∈ [0,4]]...])\n",
    "edges=vcat(edges,[[[1+i+j,5+i+j] for i ∈ [0,1], j ∈ [0,2]]...])\n",
    "faces=[[1,2,4,3],[1,2,4,3].+4,[1,3,7,5],[1,3,7,5].+1,[1,5,6,2],[1,5,6,2].+2]\n",
    "\n",
    "V=rgbColor(csgUnion((p->Sphere(p,0.05)).(vertices)),RGB(0.1,0.1,0.1))\n",
    "E=rgbColor(csgUnion([Cylinder(vertices[I...],vertices[J...],0.025) for (I,J) in edges]),RGB(0.2,0.2,0.2))\n",
    "F=rgbftColor(csgUnion([Polygon((i->vertices[i]).(I)) for I in faces]),RGB(1,0,0),FT(0.2,0.2))\n",
    "render(csgUnion(V,E,F),camera=LngLatCamera(lng=π/5,lat=π/5,pers=0.2,zoom=0.25),name=\"6\")"
   ]
  },
  {
   "cell_type": "code",
   "execution_count": null,
   "metadata": {},
   "outputs": [],
   "source": [
    "# Octahedron\n",
    "vertices=[[1,0,0],[-1,0,0],[0,1,0],[0,-1,0],[0,0,1],[0,0,-1]]*sqrt(3)\n",
    "edges=[[1,3],[3,2],[2,4],[4,1],[3,5],[5,4],[4,6],[6,3],[5,1],[1,6],[6,2],[2,5]]\n",
    "faces=[[1,3,5],[2,3,5],[2,4,5],[1,4,5],[1,3,6],[2,3,6],[2,4,6],[1,4,6]]\n",
    "\n",
    "V=rgbColor(csgUnion((p->Sphere(p,0.05)).(vertices)),RGB(0.1,0.1,0.1))\n",
    "E=rgbColor(csgUnion([Cylinder(vertices[I...],vertices[J...],0.025) for (I,J) in edges]),RGB(0.2,0.2,0.2))\n",
    "F=rgbftColor(csgUnion([Polygon((i->vertices[i]).(I)) for I in faces]),RGB(1,0,0),FT(0.2,0.2))\n",
    "render(csgUnion(V,E,F),camera=LngLatCamera(lng=π/5,lat=π/5,pers=0.2,zoom=0.25),name=\"8\")"
   ]
  },
  {
   "cell_type": "code",
   "execution_count": null,
   "metadata": {},
   "outputs": [],
   "source": [
    "# Dodecahedron\n",
    "vertices0=[[[i,j,k] for i ∈ [1,-1], j ∈ [1,-1], k ∈ [1,-1]]...]\n",
    "vertices1=[[[0,i/φ,j*φ] for i ∈ [1,-1], j ∈ [1,-1]]...]\n",
    "vertices2=[[[j*φ,0,i/φ] for i ∈ [1,-1], j ∈ [1,-1]]...]\n",
    "vertices3=[[[i/φ,j*φ,0] for i ∈ [1,-1], j ∈ [1,-1]]...]\n",
    "vertices=vcat(vertices0,vertices1,vertices2,vertices3)\n",
    "edges1=[[1,9],[2,9],[3,10],[4,10],[9,10]]\n",
    "edges2=[[5,11],[6,11],[7,12],[8,12],[11,12]]\n",
    "edges3=[[1,13],[3,13],[5,14],[7,14],[13,14]]\n",
    "edges4=[[2,15],[4,15],[6,16],[8,16],[15,16]]\n",
    "edges5=[[1,17],[5,17],[2,18],[6,18],[17,18]]\n",
    "edges6=[[3,19],[7,19],[4,20],[8,20],[19,20]]\n",
    "edges=vcat(edges1,edges2,edges3,edges4,edges5,edges6)\n",
    "faces=[[1,9,10,3,13],[2,9,10,4,15],[5,11,12,7,14],[6,11,12,8,16],[1,13,14,5,17],[3,13,14,7,19],[2,15,16,6,18],[4,15,16,8,20],[1,17,18,2,9],[5,17,18,6,11],[3,19,20,4,10],[7,19,20,8,12]]\n",
    "\n",
    "V=rgbColor(csgUnion((p->Sphere(p,0.05)).(vertices)),RGB(0.1,0.1,0.1))\n",
    "E=rgbColor(csgUnion([Cylinder(vertices[I...],vertices[J...],0.025) for (I,J) in edges]),RGB(0.2,0.2,0.2))\n",
    "F=rgbftColor(csgUnion([Polygon((i->vertices[i]).(I)) for I in faces]),RGB(1,0,0),FT(0.2,0.2))\n",
    "render(csgUnion(V,E,F),camera=LngLatCamera(lng=π/5,lat=π/5,pers=0.2,zoom=0.25),name=\"12\")"
   ]
  },
  {
   "cell_type": "code",
   "execution_count": null,
   "metadata": {},
   "outputs": [],
   "source": [
    "# Icosahedron\n",
    "vertices1=[[[0,i,j*φ] for i ∈ [1,-1], j ∈ [1,-1]]...]\n",
    "vertices2=[[[j*φ,0,i] for i ∈ [1,-1], j ∈ [1,-1]]...]\n",
    "vertices3=[[[i,j*φ,0] for i ∈ [1,-1], j ∈ [1,-1]]...]\n",
    "vertices=vcat(vertices1,vertices2,vertices3)*sqrt(3)/√(φ+2)\n",
    "edges=[[2i-1,2i] for i ∈ 1:6]\n",
    "edges=[edges...,[1,5],[5,9],[9,1],[2,5],[5,11],[11,2],[3,6],[6,9],[9,3],[4,6],[6,11],[11,4],[1,7],[7,10],[10,1],[2,7],[7,12],[12,2],[3,8],[8,10],[10,3],[4,8],[8,12],[12,4]]\n",
    "faces=[[1,5,9],[2,5,11],[3,6,9],[4,6,11],[1,7,10],[2,7,12],[3,8,10],[4,8,12],[1,2,5],[1,2,7],[3,4,6],[3,4,8],[5,6,9],[5,6,11],[7,8,10],[7,8,12],[9,10,1],[9,10,3],[11,12,2],[11,12,4]]\n",
    "\n",
    "V=rgbColor(csgUnion((p->Sphere(p,0.05)).(vertices)),RGB(0.1,0.1,0.1))\n",
    "E=rgbColor(csgUnion([Cylinder(vertices[I...],vertices[J...],0.025) for (I,J) in edges]),RGB(0.2,0.2,0.2))\n",
    "F=rgbftColor(csgUnion([Polygon((i->vertices[i]).(I)) for I in faces]),RGB(1,0,0),FT(0.2,0.2))\n",
    "render(csgUnion(V,E,F),camera=LngLatCamera(lng=π/5,lat=π/5,pers=0.2,zoom=0.25),name=\"20\")"
   ]
  },
  {
   "cell_type": "code",
   "execution_count": null,
   "metadata": {},
   "outputs": [],
   "source": []
  }
 ],
 "metadata": {
  "kernelspec": {
   "display_name": "Julia 1.2.0",
   "language": "julia",
   "name": "julia-1.2"
  },
  "language_info": {
   "file_extension": ".jl",
   "mimetype": "application/julia",
   "name": "julia",
   "version": "1.2.0"
  }
 },
 "nbformat": 4,
 "nbformat_minor": 2
}
