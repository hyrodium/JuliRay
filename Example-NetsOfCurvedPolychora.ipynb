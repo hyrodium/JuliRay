{
 "cells": [
  {
   "cell_type": "code",
   "execution_count": 54,
   "metadata": {},
   "outputs": [
    {
     "data": {
      "text/plain": [
       "render (generic function with 1 method)"
      ]
     },
     "execution_count": 54,
     "metadata": {},
     "output_type": "execute_result"
    }
   ],
   "source": [
    "include(\"JuliRay.jl\")"
   ]
  },
  {
   "cell_type": "code",
   "execution_count": 53,
   "metadata": {},
   "outputs": [
    {
     "data": {
      "text/plain": [
       "S³ₜₒℝ³ (generic function with 2 methods)"
      ]
     },
     "execution_count": 53,
     "metadata": {},
     "output_type": "execute_result"
    }
   ],
   "source": [
    "Base.@irrational ° 0.0174532925199432957692369076848861271344 (big(pi)/big(180))\n",
    "\n",
    "function ℝ²ₜₒS²(p::Array{T,1}) where T<:Real\n",
    "    if(length(p)≠2)\n",
    "        error(\"No Point on ℝ²\")\n",
    "    end\n",
    "    return [2p[1]/(1+p[1]^2+p[2]^2),2p[2]/(1+p[1]^2+p[2]^2),(-1+p[1]^2+p[2]^2)/(1+p[1]^2+p[2]^2)]\n",
    "end\n",
    "\n",
    "function ℝ²ₜₒS²(θ::Real,p::Array{T,1}) where T<:Real\n",
    "    if(length(p)≠2)\n",
    "        error(\"No Point on ℝ²\")\n",
    "    end\n",
    "    c=[0,0,tan(θ)]\n",
    "    r=1/cos(θ)\n",
    "    P=p*cot(θ/2+π/4)\n",
    "    return ℝ²ₜₒS²(P)*r+c\n",
    "end\n",
    "\n",
    "function ℝ³ₜₒS³(p::Array{T,1}) where T<:Real\n",
    "    if(length(p)≠3)\n",
    "        error(\"No Point on ℝ³\")\n",
    "    end\n",
    "    return [2p[1]/(1+p[1]^2+p[2]^2+p[3]^2),2p[2]/(1+p[1]^2+p[2]^2+p[3]^2),2p[3]/(1+p[1]^2+p[2]^2+p[3]^2),(-1+p[1]^2+p[2]^2+p[3]^2)/(1+p[1]^2+p[2]^2+p[3]^2)]\n",
    "end\n",
    "\n",
    "function ℝ³ₜₒS³(θ::Real,p::Array{T,1}) where T<:Real\n",
    "    if(length(p)≠3)\n",
    "        error(\"No Point on ℝ³\")\n",
    "    end\n",
    "    c=[0,0,0,tan(θ)]\n",
    "    r=1/cos(θ)\n",
    "    P=p*cot(θ/2+π/4)\n",
    "    return ℝ³ₜₒS³(P)*r+c\n",
    "end\n",
    "\n",
    "function S²ₜₒℝ²(q::Array{T,1}) where T<:Real\n",
    "    if(length(q)≠3)\n",
    "        error(\"No Point on S²\")\n",
    "    end\n",
    "    return [q[1]/(1-q[3]),q[2]/(1-q[3])]\n",
    "end\n",
    "\n",
    "function S²ₜₒℝ²(θ::Real,q::Array{T,1}) where T<:Real\n",
    "    if(length(q)≠3)\n",
    "        error(\"No Point on S²\")\n",
    "    end\n",
    "    c=[0,0,tan(θ)]\n",
    "    r=1/cos(θ)\n",
    "    return S²ₜₒℝ²((q-c)/r)*tan(θ/2+π/4)\n",
    "end\n",
    "\n",
    "function S³ₜₒℝ³(q::Array{T,1}) where T<:Real\n",
    "    if(length(q)≠4)\n",
    "        error(\"No Point on S³\")\n",
    "    end\n",
    "    return [q[1]/(1-q[4]),q[2]/(1-q[4]),q[3]/(1-q[4])]\n",
    "end\n",
    "\n",
    "function S³ₜₒℝ³(θ::Real,q::Array{T,1}) where T<:Real\n",
    "    if(length(q)≠4)\n",
    "        error(\"No Point on S³\")\n",
    "    end\n",
    "    c=[0,0,0,tan(θ)]\n",
    "    r=1/cos(θ)\n",
    "    return S³ₜₒℝ³((q-c)/r)*tan(θ/2+π/4)\n",
    "end"
   ]
  },
  {
   "cell_type": "code",
   "execution_count": 4,
   "metadata": {},
   "outputs": [],
   "source": [
    "using LinearAlgebra"
   ]
  },
  {
   "cell_type": "code",
   "execution_count": 177,
   "metadata": {},
   "outputs": [],
   "source": [
    "struct VERTEX\n",
    "    v :: Int\n",
    "end\n",
    "\n",
    "struct EDGE\n",
    "    e :: Array{VERTEX,1}\n",
    "    EDGE(e)=\n",
    "    if(length(e)<2)\n",
    "        error(\"hoge\")\n",
    "    elseif(e[1]==e[2])\n",
    "        error(\"fuga\")\n",
    "    else\n",
    "        new(collect(Set(e)))\n",
    "    end\n",
    "end\n",
    "\n",
    "function istouching(edge1::EDGE,edge2::EDGE)\n",
    "    return length(Set(edge1.e) ∩ Set(edge2.e)) == 1\n",
    "end\n",
    "\n",
    "# struct FACE\n",
    "#     f :: Array{EDGE,1}\n",
    "#     FACE(f)=\n",
    "#     (\n",
    "#         if(length(f)<3)\n",
    "#             error(\"hoge\")\n",
    "#         else\n",
    "#         hoge=[istouching(edge1,edge2) for edge1 ∈ f, edge2 ∈ f];\n",
    "#         println(hoge)\n",
    "#             new(collect(Set(f)))\n",
    "#         end\n",
    "#     )\n",
    "# end\n",
    "\n",
    "struct FACE\n",
    "    f :: Array{EDGE,1}\n",
    "    FACE(f)=\n",
    "    (\n",
    "        V=union(((edge->edge.e).(f))...);\n",
    "        println(V);\n",
    "#         println((edge->edge.e).(f));\n",
    "        println((edge->edge.e).(f));\n",
    "        global fffff=[[(edge->edge.e).(f)...] for v ∈ V] ;\n",
    "        if(true)\n",
    "            new(collect(Set(f)))\n",
    "        end\n",
    "    )\n",
    "end\n",
    "\n",
    "struct FACE\n",
    "    f :: Array{EDGE,1}\n",
    "    FACE(f)=\n",
    "    (\n",
    "            new(collect(Set(f)))\n",
    "    )\n",
    "end"
   ]
  },
  {
   "cell_type": "code",
   "execution_count": 173,
   "metadata": {},
   "outputs": [
    {
     "data": {
      "text/plain": [
       "3-element Array{VERTEX,1}:\n",
       " VERTEX(2)\n",
       " VERTEX(1)\n",
       " VERTEX(3)"
      ]
     },
     "execution_count": 173,
     "metadata": {},
     "output_type": "execute_result"
    }
   ],
   "source": [
    "f=[EDGE([VERTEX(1),VERTEX(2)]),EDGE([VERTEX(2),VERTEX(3)]),EDGE([VERTEX(3),VERTEX(1)])]\n",
    "union(((edge->edge.e).(f))...)"
   ]
  },
  {
   "cell_type": "code",
   "execution_count": 180,
   "metadata": {},
   "outputs": [
    {
     "data": {
      "text/plain": [
       "FACE(EDGE[EDGE(VERTEX[VERTEX(2), VERTEX(1)]), EDGE(VERTEX[VERTEX(1), VERTEX(3)]), EDGE(VERTEX[VERTEX(2), VERTEX(3)])])"
      ]
     },
     "execution_count": 180,
     "metadata": {},
     "output_type": "execute_result"
    }
   ],
   "source": [
    "hoge=FACE([EDGE([VERTEX(1),VERTEX(2)]),EDGE([VERTEX(2),VERTEX(3)]),EDGE([VERTEX(3),VERTEX(1)])])"
   ]
  },
  {
   "cell_type": "code",
   "execution_count": 1,
   "metadata": {},
   "outputs": [
    {
     "data": {
      "text/plain": [
       "translate (generic function with 8 methods)"
      ]
     },
     "execution_count": 1,
     "metadata": {},
     "output_type": "execute_result"
    }
   ],
   "source": [
    "abstract type POLYTOPE end\n",
    "\n",
    "import Base.==\n",
    "function ==(poly1::POLYTOPE,poly2::POLYTOPE)\n",
    "    return translate(poly1)==translate(poly2)\n",
    "end\n",
    "\n",
    "struct VERTEX <: POLYTOPE\n",
    "    v :: Int\n",
    "end\n",
    "struct EDGE <: POLYTOPE\n",
    "    e :: Array{VERTEX,1}\n",
    "    EDGE(e)=\n",
    "    if(true)\n",
    "        new(collect(Set(e)))\n",
    "    end\n",
    "end\n",
    "struct FACE <: POLYTOPE\n",
    "    f :: Array{EDGE,1}\n",
    "    FACE(f)=\n",
    "    if(true)\n",
    "        new(collect(Set(f)))\n",
    "    end\n",
    "end\n",
    "struct CELL <: POLYTOPE\n",
    "    c :: Array{FACE,1}\n",
    "    CELL(c)=\n",
    "    if(true)\n",
    "        new(collect(Set(c)))\n",
    "    end\n",
    "end\n",
    "\n",
    "function translate(vertex::VERTEX)\n",
    "    return vertex.v\n",
    "end\n",
    "function translate(edge::EDGE)\n",
    "    return translate.(edge.e)\n",
    "end\n",
    "function translate(face::FACE)\n",
    "    return translate.(face.f)\n",
    "end\n",
    "function translate(cell::CELL)\n",
    "    return translate.(cell.c)\n",
    "end\n",
    "\n",
    "function translate(v::Int)\n",
    "    return VERTEX(v)\n",
    "end\n",
    "function translate(e::Array{Int,1})\n",
    "    return EDGE(translate.(e))\n",
    "end\n",
    "function translate(f::Array{Array{Int,1},1})\n",
    "    return FACE(translate.(f))\n",
    "end\n",
    "function translate(c::Array{Array{Array{Int,1},1},1})\n",
    "    return CELL(translate.(c))\n",
    "end"
   ]
  },
  {
   "cell_type": "code",
   "execution_count": 19,
   "metadata": {},
   "outputs": [
    {
     "data": {
      "text/plain": [
       "FACE(EDGE[EDGE(VERTEX[VERTEX(2), VERTEX(3)]), EDGE(VERTEX[VERTEX(1), VERTEX(3)]), EDGE(VERTEX[VERTEX(2), VERTEX(1)])])"
      ]
     },
     "execution_count": 19,
     "metadata": {},
     "output_type": "execute_result"
    }
   ],
   "source": [
    "# triangle\n",
    "F=FACE(EDGE[EDGE(VERTEX[VERTEX(1), VERTEX(2)]), EDGE(VERTEX[VERTEX(2), VERTEX(3)]), EDGE(VERTEX[VERTEX(3), VERTEX(1)])])"
   ]
  },
  {
   "cell_type": "code",
   "execution_count": 22,
   "metadata": {},
   "outputs": [
    {
     "data": {
      "text/plain": [
       "3-element Array{EDGE,1}:\n",
       " EDGE(VERTEX[VERTEX(2), VERTEX(3)])\n",
       " EDGE(VERTEX[VERTEX(1), VERTEX(3)])\n",
       " EDGE(VERTEX[VERTEX(2), VERTEX(1)])"
      ]
     },
     "execution_count": 22,
     "metadata": {},
     "output_type": "execute_result"
    }
   ],
   "source": [
    "f=F.f"
   ]
  },
  {
   "cell_type": "code",
   "execution_count": 52,
   "metadata": {},
   "outputs": [
    {
     "data": {
      "text/plain": [
       "true"
      ]
     },
     "execution_count": 52,
     "metadata": {},
     "output_type": "execute_result"
    }
   ],
   "source": [
    "edges=translate.(f)\n",
    "vertices=collect(Set(vcat(edges...)))\n",
    "*([sum(v ∈ e for e ∈ edges)==2 for v ∈ vertices]...)"
   ]
  },
  {
   "cell_type": "code",
   "execution_count": 48,
   "metadata": {},
   "outputs": [
    {
     "ename": "LoadError",
     "evalue": "syntax: invalid identifier name \"&&\"",
     "output_type": "error",
     "traceback": [
      "syntax: invalid identifier name \"&&\"",
      ""
     ]
    }
   ],
   "source": [
    "&&(true,true)"
   ]
  },
  {
   "cell_type": "code",
   "execution_count": 49,
   "metadata": {},
   "outputs": [
    {
     "data": {
      "text/plain": [
       "true"
      ]
     },
     "execution_count": 49,
     "metadata": {},
     "output_type": "execute_result"
    }
   ],
   "source": [
    "true && true"
   ]
  },
  {
   "cell_type": "code",
   "execution_count": 50,
   "metadata": {},
   "outputs": [
    {
     "data": {
      "text/plain": [
       "true"
      ]
     },
     "execution_count": 50,
     "metadata": {},
     "output_type": "execute_result"
    }
   ],
   "source": [
    "true*true"
   ]
  },
  {
   "cell_type": "code",
   "execution_count": 51,
   "metadata": {},
   "outputs": [
    {
     "data": {
      "text/plain": [
       "1"
      ]
     },
     "execution_count": 51,
     "metadata": {},
     "output_type": "execute_result"
    }
   ],
   "source": [
    "false + true"
   ]
  },
  {
   "cell_type": "code",
   "execution_count": null,
   "metadata": {},
   "outputs": [],
   "source": []
  },
  {
   "cell_type": "code",
   "execution_count": null,
   "metadata": {},
   "outputs": [],
   "source": []
  },
  {
   "cell_type": "code",
   "execution_count": 231,
   "metadata": {},
   "outputs": [
    {
     "data": {
      "text/plain": [
       "FACE(EDGE[EDGE(VERTEX[VERTEX(2), VERTEX(1)]), EDGE(VERTEX[VERTEX(1), VERTEX(3)]), EDGE(VERTEX[VERTEX(2), VERTEX(3)])])"
      ]
     },
     "execution_count": 231,
     "metadata": {},
     "output_type": "execute_result"
    }
   ],
   "source": [
    "FACE(f)"
   ]
  },
  {
   "cell_type": "code",
   "execution_count": 232,
   "metadata": {},
   "outputs": [
    {
     "data": {
      "text/plain": [
       "3-element Array{Array{Int64,1},1}:\n",
       " [2, 1]\n",
       " [1, 3]\n",
       " [2, 3]"
      ]
     },
     "execution_count": 232,
     "metadata": {},
     "output_type": "execute_result"
    }
   ],
   "source": [
    "translate(FACE(f))"
   ]
  },
  {
   "cell_type": "code",
   "execution_count": 237,
   "metadata": {},
   "outputs": [
    {
     "data": {
      "text/plain": [
       "3-element Array{Array{Int64,1},1}:\n",
       " [2, 1]\n",
       " [1, 3]\n",
       " [2, 3]"
      ]
     },
     "execution_count": 237,
     "metadata": {},
     "output_type": "execute_result"
    }
   ],
   "source": [
    "translate.(f)"
   ]
  },
  {
   "cell_type": "code",
   "execution_count": 234,
   "metadata": {},
   "outputs": [
    {
     "data": {
      "text/plain": [
       "FACE(EDGE[EDGE(VERTEX[VERTEX(2), VERTEX(3)]), EDGE(VERTEX[VERTEX(2), VERTEX(1)]), EDGE(VERTEX[VERTEX(1), VERTEX(3)])])"
      ]
     },
     "execution_count": 234,
     "metadata": {},
     "output_type": "execute_result"
    }
   ],
   "source": [
    "translate(translate(FACE(f)))"
   ]
  },
  {
   "cell_type": "code",
   "execution_count": null,
   "metadata": {},
   "outputs": [],
   "source": []
  },
  {
   "cell_type": "code",
   "execution_count": null,
   "metadata": {},
   "outputs": [],
   "source": []
  },
  {
   "cell_type": "code",
   "execution_count": 236,
   "metadata": {},
   "outputs": [
    {
     "data": {
      "text/plain": [
       "true"
      ]
     },
     "execution_count": 236,
     "metadata": {},
     "output_type": "execute_result"
    }
   ],
   "source": [
    "[1,[2,3],3]==[1,[2,3],3]"
   ]
  },
  {
   "cell_type": "code",
   "execution_count": null,
   "metadata": {},
   "outputs": [],
   "source": []
  },
  {
   "cell_type": "code",
   "execution_count": null,
   "metadata": {},
   "outputs": [],
   "source": []
  },
  {
   "cell_type": "code",
   "execution_count": null,
   "metadata": {},
   "outputs": [],
   "source": []
  },
  {
   "cell_type": "code",
   "execution_count": 213,
   "metadata": {},
   "outputs": [
    {
     "data": {
      "text/plain": [
       "EDGE(VERTEX[VERTEX(2), VERTEX(1)])"
      ]
     },
     "execution_count": 213,
     "metadata": {},
     "output_type": "execute_result"
    }
   ],
   "source": [
    "translate([1,2])"
   ]
  },
  {
   "cell_type": "code",
   "execution_count": 203,
   "metadata": {},
   "outputs": [
    {
     "data": {
      "text/plain": [
       "2-element Array{Int64,1}:\n",
       " 2\n",
       " 1"
      ]
     },
     "execution_count": 203,
     "metadata": {},
     "output_type": "execute_result"
    }
   ],
   "source": [
    "translate(EDGE([VERTEX(1),VERTEX(2)]))"
   ]
  },
  {
   "cell_type": "code",
   "execution_count": 198,
   "metadata": {},
   "outputs": [
    {
     "data": {
      "text/plain": [
       "2-element Array{Array{Int64,1},1}:\n",
       " [1, 2]\n",
       " [1, 2]"
      ]
     },
     "execution_count": 198,
     "metadata": {},
     "output_type": "execute_result"
    }
   ],
   "source": []
  },
  {
   "cell_type": "code",
   "execution_count": null,
   "metadata": {},
   "outputs": [],
   "source": []
  },
  {
   "cell_type": "code",
   "execution_count": null,
   "metadata": {},
   "outputs": [],
   "source": [
    "coordinate=[[]]"
   ]
  },
  {
   "cell_type": "code",
   "execution_count": null,
   "metadata": {},
   "outputs": [],
   "source": []
  },
  {
   "cell_type": "code",
   "execution_count": null,
   "metadata": {},
   "outputs": [],
   "source": []
  },
  {
   "cell_type": "code",
   "execution_count": null,
   "metadata": {},
   "outputs": [],
   "source": []
  },
  {
   "cell_type": "code",
   "execution_count": null,
   "metadata": {},
   "outputs": [],
   "source": []
  },
  {
   "cell_type": "code",
   "execution_count": 175,
   "metadata": {},
   "outputs": [
    {
     "data": {
      "text/plain": [
       "3-element Array{Array{Array{VERTEX,1},1},1}:\n",
       " [[VERTEX(2), VERTEX(1)], [VERTEX(2), VERTEX(3)], [VERTEX(1), VERTEX(3)]]\n",
       " [[VERTEX(2), VERTEX(1)], [VERTEX(2), VERTEX(3)], [VERTEX(1), VERTEX(3)]]\n",
       " [[VERTEX(2), VERTEX(1)], [VERTEX(2), VERTEX(3)], [VERTEX(1), VERTEX(3)]]"
      ]
     },
     "execution_count": 175,
     "metadata": {},
     "output_type": "execute_result"
    }
   ],
   "source": [
    "fffff"
   ]
  },
  {
   "cell_type": "code",
   "execution_count": null,
   "metadata": {},
   "outputs": [],
   "source": []
  },
  {
   "cell_type": "code",
   "execution_count": 158,
   "metadata": {},
   "outputs": [
    {
     "data": {
      "text/plain": [
       "3-element Array{VERTEX,1}:\n",
       " VERTEX(2)\n",
       " VERTEX(1)\n",
       " VERTEX(3)"
      ]
     },
     "execution_count": 158,
     "metadata": {},
     "output_type": "execute_result"
    }
   ],
   "source": [
    "VERTEX[VERTEX(2), VERTEX(1), VERTEX(3)]"
   ]
  },
  {
   "cell_type": "code",
   "execution_count": 159,
   "metadata": {},
   "outputs": [
    {
     "data": {
      "text/plain": [
       "3-element Array{Array{VERTEX,1},1}:\n",
       " [VERTEX(2), VERTEX(1)]\n",
       " [VERTEX(2), VERTEX(3)]\n",
       " [VERTEX(1), VERTEX(3)]"
      ]
     },
     "execution_count": 159,
     "metadata": {},
     "output_type": "execute_result"
    }
   ],
   "source": [
    "Array{VERTEX,1}[[VERTEX(2), VERTEX(1)], [VERTEX(2), VERTEX(3)], [VERTEX(1), VERTEX(3)]]"
   ]
  },
  {
   "cell_type": "code",
   "execution_count": null,
   "metadata": {},
   "outputs": [],
   "source": []
  },
  {
   "cell_type": "code",
   "execution_count": null,
   "metadata": {},
   "outputs": [],
   "source": []
  },
  {
   "cell_type": "code",
   "execution_count": null,
   "metadata": {},
   "outputs": [],
   "source": []
  },
  {
   "cell_type": "code",
   "execution_count": 101,
   "metadata": {},
   "outputs": [
    {
     "data": {
      "text/plain": [
       "3-element Array{Array{VERTEX,1},1}:\n",
       " [VERTEX(2), VERTEX(1)]\n",
       " [VERTEX(2), VERTEX(3)]\n",
       " [VERTEX(1), VERTEX(3)]"
      ]
     },
     "execution_count": 101,
     "metadata": {},
     "output_type": "execute_result"
    }
   ],
   "source": [
    "Array{VERTEX,1}[[VERTEX(2), VERTEX(1)], [VERTEX(2), VERTEX(3)], [VERTEX(1), VERTEX(3)]]"
   ]
  },
  {
   "cell_type": "code",
   "execution_count": 74,
   "metadata": {},
   "outputs": [
    {
     "data": {
      "text/plain": [
       "Set([12, 4, 18, 2, 3, 16, 11, 5, 20, 7, 9, 13, 10, 14, 19, 17, 8, 15, 6, 1])"
      ]
     },
     "execution_count": 74,
     "metadata": {},
     "output_type": "execute_result"
    }
   ],
   "source": [
    "Set(1:20)"
   ]
  },
  {
   "cell_type": "code",
   "execution_count": 67,
   "metadata": {},
   "outputs": [
    {
     "data": {
      "text/plain": [
       "Set([4, 2, 3, 5, 1])"
      ]
     },
     "execution_count": 67,
     "metadata": {},
     "output_type": "execute_result"
    }
   ],
   "source": [
    "Set([1,2,5,4,3,2])"
   ]
  },
  {
   "cell_type": "code",
   "execution_count": 68,
   "metadata": {},
   "outputs": [
    {
     "data": {
      "text/plain": [
       "Set([4, 2, 3, 5, 1])"
      ]
     },
     "execution_count": 68,
     "metadata": {},
     "output_type": "execute_result"
    }
   ],
   "source": [
    "Set([1,2,4,3,3,5])"
   ]
  },
  {
   "cell_type": "code",
   "execution_count": null,
   "metadata": {},
   "outputs": [],
   "source": []
  },
  {
   "cell_type": "code",
   "execution_count": 29,
   "metadata": {},
   "outputs": [
    {
     "data": {
      "text/plain": [
       "false"
      ]
     },
     "execution_count": 29,
     "metadata": {},
     "output_type": "execute_result"
    }
   ],
   "source": [
    "istouching(EDGE([VERTEX(1),VERTEX(2)]),EDGE([VERTEX(3),VERTEX(5)]))"
   ]
  },
  {
   "cell_type": "code",
   "execution_count": 42,
   "metadata": {},
   "outputs": [
    {
     "data": {
      "text/plain": [
       "Set(Any[\"Some text\", 2, 1])"
      ]
     },
     "execution_count": 42,
     "metadata": {},
     "output_type": "execute_result"
    }
   ],
   "source": [
    "Set([1, 2, 3, \"Some text\"])∩Set([1, 2, \"Some text\"])"
   ]
  },
  {
   "cell_type": "code",
   "execution_count": 20,
   "metadata": {},
   "outputs": [
    {
     "data": {
      "text/plain": [
       "4"
      ]
     },
     "execution_count": 20,
     "metadata": {},
     "output_type": "execute_result"
    }
   ],
   "source": [
    "length(Set([1, 3, 2,3, \"Some text\"]))"
   ]
  },
  {
   "cell_type": "code",
   "execution_count": 32,
   "metadata": {},
   "outputs": [
    {
     "data": {
      "text/plain": [
       "UnionAll"
      ]
     },
     "execution_count": 32,
     "metadata": {},
     "output_type": "execute_result"
    }
   ],
   "source": [
    "typeof(Set)"
   ]
  },
  {
   "cell_type": "code",
   "execution_count": 37,
   "metadata": {},
   "outputs": [
    {
     "name": "stdout",
     "output_type": "stream",
     "text": [
      "# This file is a part of Julia. License is MIT: https://julialang.org/license\n",
      "\n",
      "struct Set{T} <: AbstractSet{T}\n",
      "    dict::Dict{T,Nothing}\n",
      "\n",
      "    Set{T}() where {T} = new(Dict{T,Nothing}())\n",
      "    Set{T}(s::Set{T}) where {T} = new(Dict{T,Nothing}(s.dict))\n",
      "end\n",
      "\n",
      "Set{T}(itr) where {T} = union!(Set{T}(), itr)\n",
      "Set() = Set{Any}()\n",
      "\n",
      "\n",
      "\"\"\"\n",
      "    Set([itr])\n",
      "\n",
      "Construct a [`Set`](@ref) of the values generated by the given iterable object, or an\n",
      "empty set. Should be used instead of [`BitSet`](@ref) for sparse integer sets, or\n",
      "for sets of arbitrary objects.\n",
      "\"\"\"\n",
      "Set(itr) = _Set(itr, IteratorEltype(itr))\n",
      "\n",
      "_Set(itr, ::HasEltype) = Set{eltype(itr)}(itr)\n",
      "\n",
      "function _Set(itr, ::EltypeUnknown)\n",
      "    T = @default_eltype(itr)\n",
      "    (isconcretetype(T) || T === Union{}) || return grow_to!(Set{T}(), itr)\n",
      "    return Set{T}(itr)\n",
      "end\n",
      "\n",
      "empty(s::AbstractSet{T}, ::Type{U}=T) where {T,U} = Set{U}()\n",
      "\n",
      "# return an empty set with eltype T, which is mutable (can be grown)\n",
      "# by default, a Set is returned\n",
      "emptymutable(s::AbstractSet{T}, ::Type{U}=T) where {T,U} = Set{U}()\n",
      "\n",
      "_similar_for(c::AbstractSet, ::Type{T}, itr, isz) where {T} = empty(c, T)\n",
      "\n",
      "function show(io::IO, s::Set)\n",
      "    print(io, \"Set(\")\n",
      "    show_vector(io, s)\n",
      "    print(io, ')')\n",
      "end\n",
      "\n",
      "isempty(s::Set) = isempty(s.dict)\n",
      "length(s::Set)  = length(s.dict)\n",
      "in(x, s::Set) = haskey(s.dict, x)\n",
      "push!(s::Set, x) = (s.dict[x] = nothing; s)\n",
      "pop!(s::Set, x) = (pop!(s.dict, x); x)\n",
      "pop!(s::Set, x, default) = (x in s ? pop!(s, x) : default)\n",
      "\n",
      "function pop!(s::Set)\n",
      "    isempty(s) && throw(ArgumentError(\"set must be non-empty\"))\n",
      "    return pop!(s.dict)[1]\n",
      "end\n",
      "\n",
      "delete!(s::Set, x) = (delete!(s.dict, x); s)\n",
      "\n",
      "copy(s::Set) = copymutable(s)\n",
      "\n",
      "# Set is the default mutable fall-back\n",
      "copymutable(s::AbstractSet{T}) where {T} = Set{T}(s)\n",
      "\n",
      "sizehint!(s::Set, newsz) = (sizehint!(s.dict, newsz); s)\n",
      "empty!(s::Set) = (empty!(s.dict); s)\n",
      "rehash!(s::Set) = (rehash!(s.dict); s)\n",
      "\n",
      "iterate(s::Set, i...)       = iterate(KeySet(s.dict), i...)\n",
      "\n",
      "# In case the size(s) is smaller than size(t) its more efficient to iterate through\n",
      "# elements of s instead and only delete the ones also contained in t.\n",
      "# The threshold for this decision boils down to a tradeoff between\n",
      "# size(s) * cost(in() + delete!()) ≶ size(t) * cost(delete!())\n",
      "# Empirical observations on Ints point towards a threshold of 0.8.\n",
      "# To be on the safe side (e.g. cost(in) >>> cost(delete!) ) a\n",
      "# conservative threshold of 0.5 was chosen.\n",
      "function setdiff!(s::Set, t::Set)\n",
      "    if 2 * length(s) < length(t)\n",
      "        for x in s\n",
      "            x in t && delete!(s, x)\n",
      "        end\n",
      "    else\n",
      "        for x in t\n",
      "            delete!(s, x)\n",
      "        end\n",
      "    end\n",
      "    return s\n",
      "end\n",
      "\n",
      "\"\"\"\n",
      "    unique(itr)\n",
      "\n",
      "Return an array containing only the unique elements of collection `itr`,\n",
      "as determined by [`isequal`](@ref), in the order that the first of each\n",
      "set of equivalent elements originally appears. The element type of the\n",
      "input is preserved.\n",
      "\n",
      "# Examples\n",
      "```jldoctest\n",
      "julia> unique([1, 2, 6, 2])\n",
      "3-element Array{Int64,1}:\n",
      " 1\n",
      " 2\n",
      " 6\n",
      "\n",
      "julia> unique(Real[1, 1.0, 2])\n",
      "2-element Array{Real,1}:\n",
      " 1\n",
      " 2\n",
      "```\n",
      "\"\"\"\n",
      "function unique(itr)\n",
      "    T = @default_eltype(itr)\n",
      "    out = Vector{T}()\n",
      "    seen = Set{T}()\n",
      "    y = iterate(itr)\n",
      "    y === nothing && return out\n",
      "    x, i = y\n",
      "    if !isconcretetype(T) && IteratorEltype(itr) == EltypeUnknown()\n",
      "        S = typeof(x)\n",
      "        return _unique_from(itr, S[x], Set{S}((x,)), i)\n",
      "    end\n",
      "    push!(seen, x)\n",
      "    push!(out, x)\n",
      "    return unique_from(itr, out, seen, i)\n",
      "end\n",
      "\n",
      "_unique_from(itr, out, seen, i) = unique_from(itr, out, seen, i)\n",
      "@inline function unique_from(itr, out::Vector{T}, seen, i) where T\n",
      "    while true\n",
      "        y = iterate(itr, i)\n",
      "        y === nothing && break\n",
      "        x, i = y\n",
      "        S = typeof(x)\n",
      "        if !(S === T || S <: T)\n",
      "            R = promote_typejoin(S, T)\n",
      "            seenR = convert(Set{R}, seen)\n",
      "            outR = convert(Vector{R}, out)\n",
      "            if !in(x, seenR)\n",
      "                push!(seenR, x)\n",
      "                push!(outR, x)\n",
      "            end\n",
      "            return _unique_from(itr, outR, seenR, i)\n",
      "        end\n",
      "        if !in(x, seen)\n",
      "            push!(seen, x)\n",
      "            push!(out, x)\n",
      "        end\n",
      "    end\n",
      "    return out\n",
      "end\n",
      "\n",
      "\"\"\"\n",
      "    unique(f, itr)\n",
      "\n",
      "Returns an array containing one value from `itr` for each unique value produced by `f`\n",
      "applied to elements of `itr`.\n",
      "\n",
      "# Examples\n",
      "```jldoctest\n",
      "julia> unique(x -> x^2, [1, -1, 3, -3, 4])\n",
      "3-element Array{Int64,1}:\n",
      " 1\n",
      " 3\n",
      " 4\n",
      "```\n",
      "\"\"\"\n",
      "function unique(f, C)\n",
      "    out = Vector{eltype(C)}()\n",
      "\n",
      "    s = iterate(C)\n",
      "    if s === nothing\n",
      "        return out\n",
      "    end\n",
      "    (x, i) = s\n",
      "    y = f(x)\n",
      "    seen = Set{typeof(y)}()\n",
      "    push!(seen, y)\n",
      "    push!(out, x)\n",
      "\n",
      "    return _unique!(f, out, C, seen, i)\n",
      "end\n",
      "\n",
      "function _unique!(f, out::AbstractVector, C, seen::Set, i)\n",
      "    s = iterate(C, i)\n",
      "    while s !== nothing\n",
      "        (x, i) = s\n",
      "        y = f(x)\n",
      "        if y ∉ seen\n",
      "            push!(out, x)\n",
      "            if y isa eltype(seen)\n",
      "                push!(seen, y)\n",
      "            else\n",
      "                seen2 = convert(Set{promote_typejoin(eltype(seen), typeof(y))}, seen)\n",
      "                push!(seen2, y)\n",
      "                return _unique!(f, out, C, seen2, i)\n",
      "            end\n",
      "        end\n",
      "        s = iterate(C, i)\n",
      "    end\n",
      "\n",
      "    return out\n",
      "end\n",
      "\n",
      "\"\"\"\n",
      "    unique!(f, A::AbstractVector)\n",
      "\n",
      "Selects one value from `A` for each unique value produced by `f` applied to\n",
      "elements of `A` , then return the modified A.\n",
      "\n",
      "!!! compat \"Julia 1.1\"\n",
      "    This method is available as of Julia 1.1.\n",
      "\n",
      "# Examples\n",
      "```jldoctest\n",
      "julia> unique!(x -> x^2, [1, -1, 3, -3, 4])\n",
      "3-element Array{Int64,1}:\n",
      " 1\n",
      " 3\n",
      " 4\n",
      "\n",
      "julia> unique!(n -> n%3, [5, 1, 8, 9, 3, 4, 10, 7, 2, 6])\n",
      "3-element Array{Int64,1}:\n",
      " 5\n",
      " 1\n",
      " 9\n",
      "\n",
      "julia> unique!(iseven, [2, 3, 5, 7, 9])\n",
      "2-element Array{Int64,1}:\n",
      " 2\n",
      " 3\n",
      "```\n",
      "\"\"\"\n",
      "function unique!(f, A::AbstractVector)\n",
      "    if length(A) <= 1\n",
      "        return A\n",
      "    end\n",
      "\n",
      "    i = firstindex(A)\n",
      "    x = @inbounds A[i]\n",
      "    y = f(x)\n",
      "    seen = Set{typeof(y)}()\n",
      "    push!(seen, y)\n",
      "    return _unique!(f, A, seen, i, i+1)\n",
      "end\n",
      "\n",
      "function _unique!(f, A::AbstractVector, seen::Set, current::Integer, i::Integer)\n",
      "    while i <= lastindex(A)\n",
      "        x = @inbounds A[i]\n",
      "        y = f(x)\n",
      "        if y ∉ seen\n",
      "            current += 1\n",
      "            @inbounds A[current] = x\n",
      "            if y isa eltype(seen)\n",
      "                push!(seen, y)\n",
      "            else\n",
      "                seen2 = convert(Set{promote_typejoin(eltype(seen), typeof(y))}, seen)\n",
      "                push!(seen2, y)\n",
      "                return _unique!(f, A, seen2, current, i+1)\n",
      "            end\n",
      "        end\n",
      "        i += 1\n",
      "    end\n",
      "    return resize!(A, current - firstindex(A) + 1)\n",
      "end\n",
      "\n",
      "\n",
      "# If A is not grouped, then we will need to keep track of all of the elements that we have\n",
      "# seen so far.\n",
      "_unique!(A::AbstractVector) = unique!(identity, A::AbstractVector)\n",
      "\n",
      "# If A is grouped, so that each unique element is in a contiguous group, then we only\n",
      "# need to keep track of one element at a time. We replace the elements of A with the\n",
      "# unique elements that we see in the order that we see them. Once we have iterated\n",
      "# through A, we resize A based on the number of unique elements that we see.\n",
      "function _groupedunique!(A::AbstractVector)\n",
      "    isempty(A) && return A\n",
      "    idxs = eachindex(A)\n",
      "    y = first(A)\n",
      "    # We always keep the first element\n",
      "    it = iterate(idxs, iterate(idxs)[2])\n",
      "    count = 1\n",
      "    for x in Iterators.drop(A, 1)\n",
      "        if !isequal(x, y)\n",
      "            y = A[it[1]] = x\n",
      "            count += 1\n",
      "            it = iterate(idxs, it[2])\n",
      "        end\n",
      "    end\n",
      "    resize!(A, count)\n",
      "end\n",
      "\n",
      "\"\"\"\n",
      "    unique!(A::AbstractVector)\n",
      "\n",
      "Remove duplicate items as determined by [`isequal`](@ref), then return the modified `A`.\n",
      "`unique!` will return the elements of `A` in the order that they occur. If you do not care\n",
      "about the order of the returned data, then calling `(sort!(A); unique!(A))` will be much\n",
      "more efficient as long as the elements of `A` can be sorted.\n",
      "\n",
      "# Examples\n",
      "```jldoctest\n",
      "julia> unique!([1, 1, 1])\n",
      "1-element Array{Int64,1}:\n",
      " 1\n",
      "\n",
      "julia> A = [7, 3, 2, 3, 7, 5];\n",
      "\n",
      "julia> unique!(A)\n",
      "4-element Array{Int64,1}:\n",
      " 7\n",
      " 3\n",
      " 2\n",
      " 5\n",
      "\n",
      "julia> B = [7, 6, 42, 6, 7, 42];\n",
      "\n",
      "julia> sort!(B);  # unique! is able to process sorted data much more efficiently.\n",
      "\n",
      "julia> unique!(B)\n",
      "3-element Array{Int64,1}:\n",
      "  6\n",
      "  7\n",
      " 42\n",
      "```\n",
      "\"\"\"\n",
      "function unique!(A::Union{AbstractVector{<:Real}, AbstractVector{<:AbstractString},\n",
      "                          AbstractVector{<:Symbol}})\n",
      "    if isempty(A)\n",
      "        return A\n",
      "    elseif issorted(A) || issorted(A, rev=true)\n",
      "        return _groupedunique!(A)\n",
      "    else\n",
      "        return _unique!(A)\n",
      "    end\n",
      "end\n",
      "# issorted fails for some element types, so the method above has to be restricted to\n",
      "# elements with isless/< defined.\n",
      "function unique!(A)\n",
      "    if isempty(A)\n",
      "        return A\n",
      "    else\n",
      "        return _unique!(A)\n",
      "    end\n",
      "end\n",
      "\n",
      "\"\"\"\n",
      "    allunique(itr) -> Bool\n",
      "\n",
      "Return `true` if all values from `itr` are distinct when compared with [`isequal`](@ref).\n",
      "\n",
      "# Examples\n",
      "```jldoctest\n",
      "julia> a = [1; 2; 3]\n",
      "3-element Array{Int64,1}:\n",
      " 1\n",
      " 2\n",
      " 3\n",
      "\n",
      "julia> allunique([a, a])\n",
      "false\n",
      "```\n",
      "\"\"\"\n",
      "function allunique(C)\n",
      "    seen = Set{eltype(C)}()\n",
      "    for x in C\n",
      "        if in(x, seen)\n",
      "            return false\n",
      "        else\n",
      "            push!(seen, x)\n",
      "        end\n",
      "    end\n",
      "    true\n",
      "end\n",
      "\n",
      "allunique(::Set) = true\n",
      "\n",
      "allunique(r::AbstractRange{T}) where {T} = (step(r) != zero(T)) || (length(r) <= 1)\n",
      "allunique(r::StepRange{T,S}) where {T,S} = (step(r) != zero(S)) || (length(r) <= 1)\n",
      "\n",
      "filter!(f, s::Set) = unsafe_filter!(f, s)\n",
      "\n",
      "const hashs_seed = UInt === UInt64 ? 0x852ada37cfe8e0ce : 0xcfe8e0ce\n",
      "function hash(s::AbstractSet, h::UInt)\n",
      "    hv = hashs_seed\n",
      "    for x in s\n",
      "        hv ⊻= hash(x)\n",
      "    end\n",
      "    hash(hv, h)\n",
      "end\n",
      "\n",
      "convert(::Type{T}, s::T) where {T<:AbstractSet} = s\n",
      "convert(::Type{T}, s::AbstractSet) where {T<:AbstractSet} = T(s)\n",
      "\n",
      "\n",
      "## replace/replace! ##\n",
      "\n",
      "function check_count(count::Integer)\n",
      "    count < 0 && throw(DomainError(count, \"`count` must not be negative (got $count)\"))\n",
      "    return min(count, typemax(Int)) % Int\n",
      "end\n",
      "\n",
      "# TODO: use copy!, which is currently unavailable from here since it is defined in Future\n",
      "_copy_oftype(x, ::Type{T}) where {T} = copyto!(similar(x, T), x)\n",
      "# TODO: use similar() once deprecation is removed and it preserves keys\n",
      "_copy_oftype(x::AbstractDict, ::Type{T}) where {T} = merge!(empty(x, T), x)\n",
      "_copy_oftype(x::AbstractSet, ::Type{T}) where {T} = union!(empty(x, T), x)\n",
      "\n",
      "_copy_oftype(x::AbstractArray{T}, ::Type{T}) where {T} = copy(x)\n",
      "_copy_oftype(x::AbstractDict{K,V}, ::Type{Pair{K,V}}) where {K,V} = copy(x)\n",
      "_copy_oftype(x::AbstractSet{T}, ::Type{T}) where {T} = copy(x)\n",
      "\n",
      "_similar_or_copy(x::Any) = similar(x)\n",
      "_similar_or_copy(x::Any, ::Type{T}) where {T} = similar(x, T)\n",
      "# Make a copy on construction since it is faster than inserting elements separately\n",
      "_similar_or_copy(x::Union{AbstractDict,AbstractSet}) = copy(x)\n",
      "_similar_or_copy(x::Union{AbstractDict,AbstractSet}, ::Type{T}) where {T} = _copy_oftype(x, T)\n",
      "\n",
      "# to make replace/replace! work for a new container type Cont, only\n",
      "# _replace!(new::Callable, res::Cont, A::Cont, count::Int)\n",
      "# has to be implemented\n",
      "\n",
      "\"\"\"\n",
      "    replace!(A, old_new::Pair...; [count::Integer])\n",
      "\n",
      "For each pair `old=>new` in `old_new`, replace all occurrences\n",
      "of `old` in collection `A` by `new`.\n",
      "Equality is determined using [`isequal`](@ref).\n",
      "If `count` is specified, then replace at most `count` occurrences in total.\n",
      "See also [`replace`](@ref replace(A, old_new::Pair...)).\n",
      "\n"
     ]
    },
    {
     "name": "stdout",
     "output_type": "stream",
     "text": [
      "# Examples\n",
      "```jldoctest\n",
      "julia> replace!([1, 2, 1, 3], 1=>0, 2=>4, count=2)\n",
      "4-element Array{Int64,1}:\n",
      " 0\n",
      " 4\n",
      " 1\n",
      " 3\n",
      "\n",
      "julia> replace!(Set([1, 2, 3]), 1=>0)\n",
      "Set([0, 2, 3])\n",
      "```\n",
      "\"\"\"\n",
      "replace!(A, old_new::Pair...; count::Integer=typemax(Int)) =\n",
      "    replace_pairs!(A, A, check_count(count), old_new)\n",
      "\n",
      "function replace_pairs!(res, A, count::Int, old_new::Tuple{Vararg{Pair}})\n",
      "    @inline function new(x)\n",
      "        for o_n in old_new\n",
      "            isequal(first(o_n), x) && return last(o_n)\n",
      "        end\n",
      "        return x # no replace\n",
      "    end\n",
      "    _replace!(new, res, A, count)\n",
      "end\n",
      "\n",
      "\"\"\"\n",
      "    replace!(new::Function, A; [count::Integer])\n",
      "\n",
      "Replace each element `x` in collection `A` by `new(x)`.\n",
      "If `count` is specified, then replace at most `count` values in total\n",
      "(replacements being defined as `new(x) !== x`).\n",
      "\n",
      "# Examples\n",
      "```jldoctest\n",
      "julia> replace!(x -> isodd(x) ? 2x : x, [1, 2, 3, 4])\n",
      "4-element Array{Int64,1}:\n",
      " 2\n",
      " 2\n",
      " 6\n",
      " 4\n",
      "\n",
      "julia> replace!(Dict(1=>2, 3=>4)) do kv\n",
      "           first(kv) < 3 ? first(kv)=>3 : kv\n",
      "       end\n",
      "Dict{Int64,Int64} with 2 entries:\n",
      "  3 => 4\n",
      "  1 => 3\n",
      "\n",
      "julia> replace!(x->2x, Set([3, 6]))\n",
      "Set([6, 12])\n",
      "```\n",
      "\"\"\"\n",
      "replace!(new::Callable, A; count::Integer=typemax(Int)) =\n",
      "    _replace!(new, A, A, check_count(count))\n",
      "\n",
      "\"\"\"\n",
      "    replace(A, old_new::Pair...; [count::Integer])\n",
      "\n",
      "Return a copy of collection `A` where, for each pair `old=>new` in `old_new`,\n",
      "all occurrences of `old` are replaced by `new`.\n",
      "Equality is determined using [`isequal`](@ref).\n",
      "If `count` is specified, then replace at most `count` occurrences in total.\n",
      "\n",
      "The element type of the result is chosen using promotion (see [`promote_type`](@ref))\n",
      "based on the element type of `A` and on the types of the `new` values in pairs.\n",
      "If `count` is omitted and the element type of `A` is a `Union`, the element type\n",
      "of the result will not include singleton types which are replaced with values of\n",
      "a different type: for example, `Union{T,Missing}` will become `T` if `missing` is\n",
      "replaced.\n",
      "\n",
      "See also [`replace!`](@ref).\n",
      "\n",
      "# Examples\n",
      "```jldoctest\n",
      "julia> replace([1, 2, 1, 3], 1=>0, 2=>4, count=2)\n",
      "4-element Array{Int64,1}:\n",
      " 0\n",
      " 4\n",
      " 1\n",
      " 3\n",
      "\n",
      "julia> replace([1, missing], missing=>0)\n",
      "2-element Array{Int64,1}:\n",
      " 1\n",
      " 0\n",
      "```\n",
      "\"\"\"\n",
      "function replace(A, old_new::Pair...; count::Union{Integer,Nothing}=nothing)\n",
      "    V = promote_valuetype(old_new...)\n",
      "    if count isa Nothing\n",
      "        T = promote_type(subtract_singletontype(eltype(A), old_new...), V)\n",
      "        replace_pairs!(_similar_or_copy(A, T), A, typemax(Int), old_new)\n",
      "    else\n",
      "        U = promote_type(eltype(A), V)\n",
      "        replace_pairs!(_similar_or_copy(A, U), A, check_count(count), old_new)\n",
      "    end\n",
      "end\n",
      "\n",
      "promote_valuetype(x::Pair{K, V}) where {K, V} = V\n",
      "promote_valuetype(x::Pair{K, V}, y::Pair...) where {K, V} =\n",
      "    promote_type(V, promote_valuetype(y...))\n",
      "\n",
      "# Subtract singleton types which are going to be replaced\n",
      "@pure issingletontype(T::DataType) = isdefined(T, :instance)\n",
      "issingletontype(::Type) = false\n",
      "function subtract_singletontype(::Type{T}, x::Pair{K}) where {T, K}\n",
      "    if issingletontype(K)\n",
      "        Core.Compiler.typesubtract(T, K)\n",
      "    else\n",
      "        T\n",
      "    end\n",
      "end\n",
      "subtract_singletontype(::Type{T}, x::Pair{K}, y::Pair...) where {T, K} =\n",
      "    subtract_singletontype(subtract_singletontype(T, y...), x)\n",
      "\n",
      "\"\"\"\n",
      "    replace(new::Function, A; [count::Integer])\n",
      "\n",
      "Return a copy of `A` where each value `x` in `A` is replaced by `new(x)`\n",
      "If `count` is specified, then replace at most `count` values in total\n",
      "(replacements being defined as `new(x) !== x`).\n",
      "\n",
      "# Examples\n",
      "```jldoctest\n",
      "julia> replace(x -> isodd(x) ? 2x : x, [1, 2, 3, 4])\n",
      "4-element Array{Int64,1}:\n",
      " 2\n",
      " 2\n",
      " 6\n",
      " 4\n",
      "\n",
      "julia> replace(Dict(1=>2, 3=>4)) do kv\n",
      "           first(kv) < 3 ? first(kv)=>3 : kv\n",
      "       end\n",
      "Dict{Int64,Int64} with 2 entries:\n",
      "  3 => 4\n",
      "  1 => 3\n",
      "```\n",
      "\"\"\"\n",
      "replace(new::Callable, A; count::Integer=typemax(Int)) =\n",
      "    _replace!(new, _similar_or_copy(A), A, check_count(count))\n",
      "\n",
      "# Handle ambiguities\n",
      "replace!(a::Callable, b::Pair; count::Integer=-1) = throw(MethodError(replace!, (a, b)))\n",
      "replace!(a::Callable, b::Pair, c::Pair; count::Integer=-1) = throw(MethodError(replace!, (a, b, c)))\n",
      "replace(a::Callable, b::Pair; count::Integer=-1) = throw(MethodError(replace, (a, b)))\n",
      "replace(a::Callable, b::Pair, c::Pair; count::Integer=-1) = throw(MethodError(replace, (a, b, c)))\n",
      "replace(a::AbstractString, b::Pair, c::Pair) = throw(MethodError(replace, (a, b, c)))\n",
      "\n",
      "### replace! for AbstractDict/AbstractSet\n",
      "\n",
      "askey(k, ::AbstractDict) = k.first\n",
      "askey(k, ::AbstractSet) = k\n",
      "\n",
      "function _replace!(new::Callable, res::T, A::T,\n",
      "                   count::Int) where T<:Union{AbstractDict,AbstractSet}\n",
      "    c = 0\n",
      "    if res === A # cannot replace elements while iterating over A\n",
      "        repl = Pair{eltype(A),eltype(A)}[]\n",
      "        for x in A\n",
      "            y = new(x)\n",
      "            if x !== y\n",
      "                push!(repl, x => y)\n",
      "                c += 1\n",
      "            end\n",
      "            c == count && break\n",
      "        end\n",
      "        for oldnew in repl\n",
      "            pop!(res, askey(first(oldnew), res))\n",
      "        end\n",
      "        for oldnew in repl\n",
      "            push!(res, last(oldnew))\n",
      "        end\n",
      "    else\n",
      "        for x in A\n",
      "            y = new(x)\n",
      "            if x !== y\n",
      "                pop!(res, askey(x, res))\n",
      "                push!(res, y)\n",
      "                c += 1\n",
      "            end\n",
      "            c == count && break\n",
      "        end\n",
      "    end\n",
      "    res\n",
      "end\n",
      "\n",
      "### replace! for AbstractArray\n",
      "\n",
      "function _replace!(new::Callable, res::AbstractArray, A::AbstractArray, count::Int)\n",
      "    c = 0\n",
      "    if count >= length(A) # simpler loop allows for SIMD\n",
      "        for i in eachindex(A)\n",
      "            @inbounds Ai = A[i]\n",
      "            y = new(Ai)\n",
      "            @inbounds res[i] = y\n",
      "        end\n",
      "    else\n",
      "        for i in eachindex(A)\n",
      "            @inbounds Ai = A[i]\n",
      "            if c < count\n",
      "                y = new(Ai)\n",
      "                @inbounds res[i] = y\n",
      "                c += (Ai !== y)\n",
      "            else\n",
      "                @inbounds res[i] = Ai\n",
      "            end\n",
      "        end\n",
      "    end\n",
      "    res\n",
      "end\n"
     ]
    }
   ],
   "source": [
    "@less Set([1])"
   ]
  },
  {
   "cell_type": "code",
   "execution_count": 41,
   "metadata": {},
   "outputs": [
    {
     "data": {
      "text/plain": [
       "Dict{Any,Nothing} with 4 entries:\n",
       "  \"Some text\" => nothing\n",
       "  2           => nothing\n",
       "  3           => nothing\n",
       "  1           => nothing"
      ]
     },
     "execution_count": 41,
     "metadata": {},
     "output_type": "execute_result"
    }
   ],
   "source": [
    "Set([1, 3, 2,3, \"Some text\"]).dict"
   ]
  },
  {
   "cell_type": "code",
   "execution_count": 2,
   "metadata": {},
   "outputs": [],
   "source": []
  },
  {
   "cell_type": "code",
   "execution_count": 3,
   "metadata": {},
   "outputs": [],
   "source": [
    "struct FACE\n",
    "    f :: Array{EDGE,1}\n",
    "end"
   ]
  },
  {
   "cell_type": "code",
   "execution_count": 4,
   "metadata": {},
   "outputs": [],
   "source": [
    "struct CELL\n",
    "    c :: Array{FACE,1}\n",
    "end"
   ]
  },
  {
   "cell_type": "code",
   "execution_count": 5,
   "metadata": {},
   "outputs": [
    {
     "data": {
      "text/plain": [
       "EDGE(VERTEX[VERTEX([1.0, 0.0, 0.0]), VERTEX([0.0, 1.0, 0.0])])"
      ]
     },
     "execution_count": 5,
     "metadata": {},
     "output_type": "execute_result"
    }
   ],
   "source": [
    "v₁=VERTEX([0,0,0])\n",
    "v₂=VERTEX([1,0,0])\n",
    "v₃=VERTEX([0,1,0])\n",
    "v₄=VERTEX([0,0,2])\n",
    "EDGE([v₁,v₂])\n",
    "EDGE([v₂,v₃])"
   ]
  },
  {
   "cell_type": "code",
   "execution_count": null,
   "metadata": {},
   "outputs": [],
   "source": []
  },
  {
   "cell_type": "code",
   "execution_count": null,
   "metadata": {},
   "outputs": [],
   "source": []
  },
  {
   "cell_type": "code",
   "execution_count": null,
   "metadata": {},
   "outputs": [],
   "source": []
  },
  {
   "cell_type": "code",
   "execution_count": 3,
   "metadata": {},
   "outputs": [],
   "source": [
    "struct Polyhedron\n",
    "    vertices :: Array{Array{Float64,1},1}\n",
    "    V :: Array{Int,1}\n",
    "    E :: Array{Array{Int,1},1}\n",
    "    F :: Array{Array{Int,1},1}\n",
    "end"
   ]
  },
  {
   "cell_type": "code",
   "execution_count": 4,
   "metadata": {},
   "outputs": [
    {
     "data": {
      "text/plain": [
       "Polyhedron(Array{Float64,1}[[0.0, 0.0, 0.0], [1.0, 0.0, 0.0], [0.0, 1.0, 0.0], [0.0, 0.0, 1.0]], [1, 2, 3, 4], Array{Int64,1}[[1, 2], [1, 3], [1, 4], [2, 3], [2, 4], [3, 4]], Array{Int64,1}[[2, 3, 4], [1, 3, 4], [1, 2, 4], [1, 2, 3]])"
      ]
     },
     "execution_count": 4,
     "metadata": {},
     "output_type": "execute_result"
    }
   ],
   "source": [
    "tet=Polyhedron([[0.0,0.0,0.0],[1.0,0.0,0.0],[0.0,1.0,0.0],[0.0,0.0,1.0]],[1,2,3,4],[[1,2],[1,3],[1,4],[2,3],[2,4],[3,4]],[[2,3,4],[1,3,4],[1,2,4],[1,2,3]])"
   ]
  },
  {
   "cell_type": "code",
   "execution_count": 7,
   "metadata": {},
   "outputs": [
    {
     "data": {
      "text/plain": [
       "P2O (generic function with 1 method)"
      ]
     },
     "execution_count": 7,
     "metadata": {},
     "output_type": "execute_result"
    }
   ],
   "source": [
    "function P2O(polyhedron::Polyhedron)\n",
    "    vertices=polyhedron.vertices[polyhedron.V]\n",
    "    print(vertices)\n",
    "    objV=csgUnion((p->Sphere(p,0.03)).(vertices))\n",
    "    objE=csgUnion()\n",
    "    return csgUnion(objV)\n",
    "end"
   ]
  },
  {
   "cell_type": "code",
   "execution_count": 6,
   "metadata": {},
   "outputs": [
    {
     "name": "stdout",
     "output_type": "stream",
     "text": [
      "Array{Float64,1}[[0.0, 0.0, 0.0], [1.0, 0.0, 0.0], [0.0, 1.0, 0.0], [0.0, 0.0, 1.0]]"
     ]
    },
    {
     "name": "stderr",
     "output_type": "stream",
     "text": [
      "povray: cannot open the user configuration file /home/hyrodium/.povray/3.7/povray.conf: No such file or directory\n",
      "Persistence of Vision(tm) Ray Tracer Version 3.7.0.8.unofficial (g++ 8.2.1 @\n",
      " x86_64-pc-linux-gnu)\n",
      "This is an unofficial version compiled by:\n",
      " Arch Linux\n",
      " The POV-Ray Team is not responsible for supporting this version.\n",
      "\n",
      "POV-Ray is based on DKBTrace 2.12 by David K. Buck & Aaron A. Collins\n",
      "Copyright 1991-2013 Persistence of Vision Raytracer Pty. Ltd.\n",
      "\n",
      "Primary POV-Ray 3.7 Architects/Developers: (Alphabetically)\n",
      "  Chris Cason         Thorsten Froehlich  Christoph Lipka   \n",
      "\n",
      "With Assistance From: (Alphabetically)\n",
      "  Nicolas Calimet     Jerome Grimbert     James Holsenback    Christoph Hormann \n",
      "  Nathan Kopp         Juha Nieminen     \n",
      "\n",
      "Past Contributors: (Alphabetically)\n",
      "  Steve Anger         Eric Barish         Dieter Bayer        David K. Buck     \n",
      "  Nicolas Calimet     Chris Cason         Aaron A. Collins    Chris Dailey      \n",
      "  Steve Demlow        Andreas Dilger      Alexander Enzmann   Dan Farmer        \n",
      "  Thorsten Froehlich  Mark Gordon         James Holsenback    Christoph Hormann \n",
      "  Mike Hough          Chris Huff          Kari Kivisalo       Nathan Kopp       \n",
      "  Lutz Kretzschmar    Christoph Lipka     Jochen Lippert      Pascal Massimino  \n",
      "  Jim McElhiney       Douglas Muir        Juha Nieminen       Ron Parker        \n",
      "  Bill Pulver         Eduard Schwan       Wlodzimierz Skiba   Robert Skinner    \n",
      "  Yvo Smellenbergh    Zsolt Szalavari     Scott Taylor        Massimo Valentini \n",
      "  Timothy Wegner      Drew Wells          Chris Young       \n",
      "\n",
      "Other contributors are listed in the documentation.\n",
      "\n",
      "Support libraries used by POV-Ray:\n",
      "  ZLib 1.2.11, Copyright 1995-2012 Jean-loup Gailly and Mark Adler\n",
      "  LibPNG 1.6.37, Copyright 1998-2012 Glenn Randers-Pehrson\n",
      "  LibJPEG 80, Copyright 1991-2013 Thomas G. Lane, Guido Vollbeding\n",
      "  LibTIFF 4.0.10, Copyright 1988-1997 Sam Leffler, 1991-1997 SGI\n",
      "  Boost 1.69, http://www.boost.org/\n",
      "  OpenEXR 2.3.0 and IlmBase 2.3.0, Copyright (c) 2002-2011 Industrial Light &\n",
      " Magic.\n",
      "\n",
      "Parser Options\n",
      "  Input file: test.pov\n",
      "  Remove bounds........On \n",
      "  Split unions.........Off\n",
      "  Library paths:\n",
      "  Clock value:    0.000  (Animation off)\n",
      "Image Output Options\n",
      "  Image resolution.....640 by 360 (rows 1 to 360, columns 1 to 640).\n",
      "  Output file..........test.png, 24 bpp PNG\n",
      "  Dithering............Off\n",
      "  Graphic display......Off\n",
      "  Mosaic preview.......Off\n",
      "  Continued trace......Off\n",
      "Information Output Options\n",
      "  All Streams to console..........On \n",
      "  Debug Stream to console.........On \n",
      "  Fatal Stream to console.........On \n",
      "  Render Stream to console........On \n",
      "  Statistics Stream to console....On \n",
      "  Warning Stream to console.......On \n",
      "==== [Parsing...] ==========================================================\n",
      "----------------------------------------------------------------------------\n",
      "Parser Statistics\n",
      "----------------------------------------------------------------------------\n",
      "Finite Objects:            4\n",
      "Infinite Objects:          0\n",
      "Light Sources:             1\n",
      "Total:                     5\n",
      "----------------------------------------------------------------------------\n",
      "Parser Time\n",
      "  Parse Time:       0 hours  0 minutes  0 seconds (0.000 seconds)\n",
      "              using 1 thread(s) with 0.000 CPU-seconds total\n",
      "  Bounding Time:    0 hours  0 minutes  0 seconds (0.000 seconds)\n",
      "              using 1 thread(s) with 0.000 CPU-seconds total\n",
      "----------------------------------------------------------------------------\n",
      "Render Options\n",
      "  Quality:  9\n",
      "  Bounding boxes.......On   Bounding threshold: 3\n",
      "  Antialiasing.........On  (Method 1, Threshold 0.300, Depth 3, Jitter 1.00,\n",
      " Gamma 2.50)\n",
      "==== [Rendering...] ========================================================\n",
      "Rendered 230400 of 230400 pixels (100%)\n",
      "----------------------------------------------------------------------------\n",
      "Render Statistics\n",
      "Image Resolution 640 x 360\n",
      "----------------------------------------------------------------------------\n",
      "Pixels:           245280   Samples:            1359   Smpls/Pxl: 0.01\n",
      "Rays:             246639   Saved:                 0   Max Level: 1/5\n",
      "----------------------------------------------------------------------------\n",
      "Ray->Shape Intersection          Tests       Succeeded  Percentage\n",
      "----------------------------------------------------------------------------\n",
      "Sphere                            2327            1158     49.76\n",
      "Bounding Box                    334708           24158      7.22\n",
      "----------------------------------------------------------------------------\n",
      "Shadow Ray Tests:               745   Succeeded:                     0\n",
      "----------------------------------------------------------------------------\n",
      "----------------------------------------------------------------------------\n",
      "Render Time:\n",
      "  Photon Time:      No photons\n",
      "  Radiosity Time:   No radiosity\n",
      "  Trace Time:       0 hours  0 minutes  0 seconds (0.021 seconds)\n",
      "              using 16 thread(s) with 0.100 CPU-seconds total\n",
      "POV-Ray finished\n",
      "\n"
     ]
    },
    {
     "data": {
      "text/plain": [
       "Process(`\u001b[4mpovray\u001b[24m \u001b[4mtest.pov\u001b[24m`, ProcessExited(0))"
      ]
     },
     "execution_count": 6,
     "metadata": {},
     "output_type": "execute_result"
    }
   ],
   "source": [
    "render(P2O(tet),camera=LngLatCamera(lng=30°,lat=30°,pers=0.2,zoom=0.2,width=640,height=360),name=\"test\")"
   ]
  },
  {
   "cell_type": "code",
   "execution_count": null,
   "metadata": {},
   "outputs": [],
   "source": []
  },
  {
   "cell_type": "code",
   "execution_count": null,
   "metadata": {},
   "outputs": [],
   "source": []
  },
  {
   "cell_type": "code",
   "execution_count": null,
   "metadata": {},
   "outputs": [],
   "source": []
  },
  {
   "cell_type": "code",
   "execution_count": null,
   "metadata": {},
   "outputs": [],
   "source": [
    "Array{}"
   ]
  },
  {
   "cell_type": "code",
   "execution_count": null,
   "metadata": {},
   "outputs": [],
   "source": []
  },
  {
   "cell_type": "code",
   "execution_count": null,
   "metadata": {},
   "outputs": [],
   "source": []
  },
  {
   "cell_type": "code",
   "execution_count": null,
   "metadata": {},
   "outputs": [],
   "source": []
  },
  {
   "cell_type": "code",
   "execution_count": null,
   "metadata": {},
   "outputs": [],
   "source": []
  },
  {
   "cell_type": "code",
   "execution_count": null,
   "metadata": {},
   "outputs": [],
   "source": [
    "function POLYGON(vertices;r1=1.0,r2=0.05,r3=0.025)\n",
    "    n=length(vertices)\n",
    "    V=rgbColor(csgUnion((p->Sphere(p,r2)).(vertices)),RGB(0.1,0.1,0.1))\n",
    "    E=rgbColor(csgUnion([Cylinder(vertices[i],vertices[mod(i,n)+1],r3) for i in 1:n]),RGB(0.1,0.1,0.1))\n",
    "    F=rgbftColor(Polygon(vertices),RGB(0.5,1,1),FT(0.1,0.1))\n",
    "    return csgUnion(V,E,F)\n",
    "end\n",
    "\n",
    "function POLYGON2(vertices,O,R;r1=1.0,r2=0.05,r3=0.025)\n",
    "    n=length(vertices)\n",
    "    C=O+R*normalize(+(vertices...)/n-O)\n",
    "    V=rgbColor(csgUnion((p->Sphere(p,r2)).(vertices)),RGB(0.1,0.1,0.1))\n",
    "    E=rgbColor(csgUnion([Arc(vertices[i],O+R*normalize((vertices[i]+vertices[mod(i,n)+1])/2-O),vertices[mod(i,n)+1],r3) for i in 1:n]),RGB(0.1,0.1,0.1))\n",
    "    if(R<10^2)\n",
    "        F=csgClip(\n",
    "            rgbftColor(\n",
    "                Sphere(O,R),RGB(1,0.5,1),FT(0.1,0.1)\n",
    "            ),\n",
    "            csgIntersection(\n",
    "                [\n",
    "                    (v=NormalVector(O,vertices[i],vertices[mod(i,n)+1]);s=sign(dot(v,C-O));Cylinder(O,O+s*R*v,R))\n",
    "                for i ∈ 1:n]\n",
    "            )\n",
    "        )\n",
    "    else\n",
    "        F=rgbftColor(Polygon(vertices),RGB(1,0.5,1),FT(0.1,0.1))\n",
    "    end\n",
    "    return csgUnion(V,E,F)\n",
    "end\n",
    "\n",
    "function Mirror(q,p1,p2,p3)\n",
    "    e₃=NormalVector(p1,p2,p3)\n",
    "    e₁=OrthogonalVector(e₃)\n",
    "    e₂=cross(e₃,e₁)\n",
    "    A=hcat(e₁,e₂,e₃)*transpose(hcat(e₁,e₂,-e₃))\n",
    "    fixedpoint=(p1+p2+p3)/3\n",
    "    b=fixedpoint-A*fixedpoint\n",
    "    return A*q+b\n",
    "end\n",
    "\n",
    "function Put(F,i,O)\n",
    "    p1=O\n",
    "    n=length(F)\n",
    "    p2,p3=F[mod(i-1,n)+1],F[mod(i,n)+1]\n",
    "    return (p->Mirror(p,p1,p2,p3)).(F)\n",
    "end\n",
    "\n",
    "function f(x)\n",
    "    ifelse(x>0,exp(-1/x),0)\n",
    "end\n",
    "function g(x)\n",
    "    f(2x/√3)/(f(2x/√3)+f(2/√3-2x/√3))\n",
    "end\n",
    "function Smooth(a,b,x)\n",
    "    g((x-a)/(b-a))\n",
    "end"
   ]
  },
  {
   "cell_type": "code",
   "execution_count": null,
   "metadata": {},
   "outputs": [],
   "source": [
    "## Tetrahedron\n",
    "\n",
    "h=1/3 # 単位球面に内接させた際の内接球半径\n",
    "n=3 # n角形\n",
    "m=4 # m面体\n",
    "M=60 # アニメーションの刻み数\n",
    "\n",
    "r1=√(1-h^2) # n角形の外接円半径\n",
    "for i ∈ 1:M\n",
    "    θ=(1-Smooth(0,1,2(i-1)/M)+Smooth(1,2,2(i-1)/M))*π/2 # パラメータθは0→1→0の順で滑らかに変化\n",
    "    R=1/cos(θ)\n",
    "    O=[0,0,tan(θ)]\n",
    "    N=O+[0,0,R]\n",
    "    H=O-[0,0,√(R^2-r1^2)]\n",
    "\n",
    "    F=[[[r1*cos(2π*i/n),r1*sin(2π*i/n),0.0]+H for i in 1:n] for i ∈ 1:m] # 最初のn角形の頂点\n",
    "    F[2]=Put(F[1],1,O) # 以下はn角形を付け加える操作\n",
    "    F[3]=Put(F[2],2,O)\n",
    "    F[4]=Put(F[2],3,O)\n",
    "\n",
    "    object=csgUnion([POLYGON2(F[i],O,R,r2=0.03,r3=0.01) for i ∈ 1:m]) # 頂点座標をもとにオブジェクトを生成\n",
    "    render(csgUnion(object),camera=LngLatCamera(lng=30°,lat=30°,pers=0.2,zoom=0.2,width=640,height=360),name=\"Ns\"*string(m),index=i)\n",
    "end"
   ]
  },
  {
   "cell_type": "code",
   "execution_count": null,
   "metadata": {},
   "outputs": [],
   "source": [
    "## Cube\n",
    "\n",
    "h=1/√3 # 単位球面に内接させた際の内接球半径\n",
    "n=4 # n角形\n",
    "m=6 # m面体\n",
    "M=60 # アニメーションの刻み数\n",
    "\n",
    "r1=√(1-h^2) # n角形の外接円半径\n",
    "for i ∈ 1:M\n",
    "    θ=(1-Smooth(0,1,2(i-1)/M)+Smooth(1,2,2(i-1)/M))*π/2 # パラメータθは0→1→0の順で滑らかに変化\n",
    "    R=1/cos(θ)\n",
    "    O=[0,0,tan(θ)]\n",
    "    N=O+[0,0,R]\n",
    "    H=O-[0,0,√(R^2-r1^2)]\n",
    "\n",
    "    F=[[[r1*cos(2π*i/n),r1*sin(2π*i/n),0.0]+H for i in 1:n] for i ∈ 1:m] # 最初のn角形の頂点\n",
    "    F[2]=Put(F[1],1,O) # 以下はn角形を付け加える操作\n",
    "    F[3]=Put(F[2],3,O)\n",
    "    F[4]=Put(F[1],2,O)\n",
    "    F[5]=Put(F[4],3,O)\n",
    "    F[6]=Put(F[5],1,O)\n",
    "\n",
    "    object=csgUnion([POLYGON2(F[i],O,R,r2=0.03,r3=0.01) for i ∈ 1:m]) # 頂点座標をもとにオブジェクトを生成\n",
    "    render(object,camera=LngLatCamera(lng=30°,lat=30°,pers=0.2,zoom=0.2,width=640,height=360),name=\"Ns\"*string(m),index=i)\n",
    "end"
   ]
  },
  {
   "cell_type": "code",
   "execution_count": null,
   "metadata": {},
   "outputs": [],
   "source": [
    "## Octahedron\n",
    "\n",
    "h=1/√3 # 単位球面に内接させた際の内接球半径\n",
    "n=3 # n角形\n",
    "m=8 # m面体\n",
    "M=60 # アニメーションの刻み数\n",
    "\n",
    "r1=√(1-h^2) # n角形の外接円半径\n",
    "for i ∈ 1:M\n",
    "    θ=(1-Smooth(0,1,2(i-1)/M)+Smooth(1,2,2(i-1)/M))*π/2 # パラメータθは0→1→0の順で滑らかに変化\n",
    "    R=1/cos(θ)\n",
    "    O=[0,0,tan(θ)]\n",
    "    N=O+[0,0,R]\n",
    "    H=O-[0,0,√(R^2-r1^2)]\n",
    "\n",
    "    F=[[[r1*cos(2π*i/n),r1*sin(2π*i/n),0.0]+H for i in 1:n] for i ∈ 1:m] # 最初のn角形の頂点\n",
    "    F[2]=Put(F[1],1,O) # 以下はn角形を付け加える操作\n",
    "    F[3]=Put(F[2],3,O)\n",
    "    F[4]=Put(F[3],2,O)\n",
    "    F[5]=Put(F[4],3,O)\n",
    "    F[6]=Put(F[1],2,O)\n",
    "    F[7]=Put(F[6],3,O)\n",
    "    F[8]=Put(F[7],2,O)\n",
    "\n",
    "    object=csgUnion([POLYGON2(F[i],O,R,r2=0.03,r3=0.01) for i ∈ 1:m]) # 頂点座標をもとにオブジェクトを生成\n",
    "    render(object,camera=LngLatCamera(lng=30°,lat=30°,pers=0.2,zoom=0.2,width=640,height=360),name=\"Ns\"*string(m),index=i)\n",
    "end"
   ]
  },
  {
   "cell_type": "code",
   "execution_count": null,
   "metadata": {},
   "outputs": [],
   "source": [
    "## Dodecahedron\n",
    "\n",
    "φ=2cos(π/5)\n",
    "ξ=2sin(π/5)\n",
    "\n",
    "h=φ/(√3*ξ) # 単位球面に内接させた際の内接球半径\n",
    "n=5 # n角形\n",
    "m=12 # m面体\n",
    "M=60 # アニメーションの刻み数\n",
    "\n",
    "r1=√(1-h^2) # n角形の外接円半径\n",
    "for i ∈ 1:M\n",
    "    θ=(1-Smooth(0,1,2(i-1)/M)+Smooth(1,2,2(i-1)/M))*π/2 # パラメータθは0→1→0の順で滑らかに変化\n",
    "    R=1/cos(θ)\n",
    "    O=[0,0,tan(θ)]\n",
    "    N=O+[0,0,R]\n",
    "    H=O-[0,0,√(R^2-r1^2)]\n",
    "\n",
    "    F=[[[r1*cos(2π*i/n),r1*sin(2π*i/n),0.0]+H for i in 1:n] for i ∈ 1:m] # 最初のn角形の頂点\n",
    "    F[2]=Put(F[1],4,O) # 以下はn角形を付け加える操作\n",
    "    F[3]=Put(F[2],1,O)\n",
    "    F[4]=Put(F[2],2,O)\n",
    "    F[5]=Put(F[2],3,O)\n",
    "    F[6]=Put(F[2],5,O)\n",
    "    F[7]=Put(F[1],2,O)\n",
    "    F[8]=Put(F[7],5,O)\n",
    "    F[9]=Put(F[8],1,O)\n",
    "    F[10]=Put(F[8],2,O)\n",
    "    F[11]=Put(F[8],3,O)\n",
    "    F[12]=Put(F[8],4,O)\n",
    "\n",
    "    object=csgUnion([POLYGON2(F[i],O,R,r2=0.03,r3=0.01) for i ∈ 1:m]) # 頂点座標をもとにオブジェクトを生成\n",
    "    render(object,camera=LngLatCamera(lng=30°,lat=30°,pers=0.2,zoom=0.2,width=640,height=360),name=\"Ns\"*string(m),index=i)\n",
    "end"
   ]
  },
  {
   "cell_type": "code",
   "execution_count": null,
   "metadata": {},
   "outputs": [],
   "source": [
    "## Icosahedron\n",
    "\n",
    "φ=2cos(π/5)\n",
    "ξ=2sin(π/5)\n",
    "\n",
    "h=φ/(√3*ξ) # 単位球面に内接させた際の内接球半径\n",
    "n=3 # n角形\n",
    "m=20 # m面体\n",
    "M=60 # アニメーションの刻み数\n",
    "\n",
    "r1=√(1-h^2) # n角形の外接円半径\n",
    "for i ∈ 1:M\n",
    "    θ=(1-Smooth(0,1,2(i-1)/M)+Smooth(1,2,2(i-1)/M))*π/2 # パラメータθは0→1→0の順で滑らかに変化\n",
    "    R=1/cos(θ)\n",
    "    O=[0,0,tan(θ)]\n",
    "    N=O+[0,0,R]\n",
    "    H=O-[0,0,√(R^2-r1^2)]\n",
    "\n",
    "    F=[[[r1*cos(2π*i/n),r1*sin(2π*i/n),0.0]+H for i in 1:n] for i ∈ 1:m] # 最初のn角形の頂点\n",
    "    F[2]=Put(F[1],1,O) # 以下はn角形を付け加える操作\n",
    "    F[3]=Put(F[2],3,O)\n",
    "    F[4]=Put(F[3],2,O)\n",
    "    F[5]=Put(F[4],1,O)\n",
    "    F[6]=Put(F[5],3,O)\n",
    "    F[7]=Put(F[1],2,O)\n",
    "    F[8]=Put(F[7],3,O)\n",
    "    F[9]=Put(F[8],1,O)\n",
    "    F[10]=Put(F[9],2,O)\n",
    "    F[11]=Put(F[1],3,O)\n",
    "    F[12]=Put(F[2],2,O)\n",
    "    F[13]=Put(F[3],1,O)\n",
    "    F[14]=Put(F[4],3,O)\n",
    "    F[15]=Put(F[5],2,O)\n",
    "    F[16]=Put(F[6],1,O)\n",
    "    F[17]=Put(F[7],1,O)\n",
    "    F[18]=Put(F[8],2,O)\n",
    "    F[19]=Put(F[9],3,O)\n",
    "    F[20]=Put(F[10],1,O)\n",
    "\n",
    "    object=csgUnion([POLYGON2(F[i],O,R,r2=0.03,r3=0.01) for i ∈ 1:m]) # 頂点座標をもとにオブジェクトを生成\n",
    "    render(object,camera=LngLatCamera(lng=30°,lat=30°,pers=0.2,zoom=0.2,width=640,height=360),name=\"Ns\"*string(m),index=i)\n",
    "end"
   ]
  },
  {
   "cell_type": "code",
   "execution_count": null,
   "metadata": {},
   "outputs": [],
   "source": []
  }
 ],
 "metadata": {
  "@webio": {
   "lastCommId": null,
   "lastKernelId": null
  },
  "kernelspec": {
   "display_name": "Julia 1.2.0",
   "language": "julia",
   "name": "julia-1.2"
  },
  "language_info": {
   "file_extension": ".jl",
   "mimetype": "application/julia",
   "name": "julia",
   "version": "1.2.0"
  }
 },
 "nbformat": 4,
 "nbformat_minor": 2
}
